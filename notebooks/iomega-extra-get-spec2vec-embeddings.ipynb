{
 "cells": [
  {
   "cell_type": "markdown",
   "metadata": {},
   "source": [
    "# Derive spec2vec embeddings of MS/MS spectra"
   ]
  },
  {
   "cell_type": "markdown",
   "metadata": {},
   "source": [
    "### Imports"
   ]
  },
  {
   "cell_type": "code",
   "execution_count": 1,
   "metadata": {},
   "outputs": [],
   "source": [
    "import os\n",
    "import sys\n",
    "import gensim\n",
    "import numpy as np\n",
    "\n",
    "ROOT = os.path.dirname(os.getcwd())\n",
    "#path_data = os.path.join(ROOT, 'data')\n",
    "path_data = 'C:\\\\OneDrive - Netherlands eScience Center\\\\Project_Wageningen_iOMEGA\\\\matchms\\\\data\\\\'\n",
    "sys.path.insert(0, ROOT)"
   ]
  },
  {
   "cell_type": "markdown",
   "metadata": {},
   "source": [
    "### Import dataset to create embeddings from, here: pre-processed dataset \"Unique InchiKeys\""
   ]
  },
  {
   "cell_type": "code",
   "execution_count": 2,
   "metadata": {},
   "outputs": [
    {
     "name": "stdout",
     "output_type": "stream",
     "text": [
      "number of spectra: 13717\n"
     ]
    }
   ],
   "source": [
    "from matchms.importing import load_from_json\n",
    "\n",
    "filename = os.path.join(path_data,'gnps_positive_ionmode_unique_inchikey_cleaned_by_matchms_and_lookups.json')\n",
    "spectrums = load_from_json(filename)\n",
    "\n",
    "print(\"number of spectra:\", len(spectrums))"
   ]
  },
  {
   "cell_type": "markdown",
   "metadata": {},
   "source": [
    "### Post-processing of data"
   ]
  },
  {
   "cell_type": "code",
   "execution_count": 3,
   "metadata": {},
   "outputs": [],
   "source": [
    "from matchms.filtering import normalize_intensities\n",
    "from matchms.filtering import require_minimum_number_of_peaks\n",
    "from matchms.filtering import select_by_mz\n",
    "from matchms.filtering import select_by_relative_intensity\n",
    "from matchms.filtering import reduce_to_number_of_peaks\n",
    "from matchms.filtering import add_losses"
   ]
  },
  {
   "cell_type": "code",
   "execution_count": 4,
   "metadata": {},
   "outputs": [],
   "source": [
    "def post_process(s):\n",
    "    s = normalize_intensities(s)\n",
    "    s = select_by_mz(s, mz_from=0, mz_to=1000)\n",
    "    s = require_minimum_number_of_peaks(s, n_required=10)\n",
    "    s = reduce_to_number_of_peaks(s, n_required=10, ratio_desired=0.5)\n",
    "    if s is None:\n",
    "        return None\n",
    "    s_remove_low_peaks = select_by_relative_intensity(s, intensity_from=0.001)\n",
    "    if len(s_remove_low_peaks.peaks) >= 10:\n",
    "        s = s_remove_low_peaks\n",
    "        \n",
    "    s = add_losses(s, loss_mz_from=5.0, loss_mz_to=200.0)\n",
    "    return s\n",
    "\n",
    "# apply post processing steps to the data\n",
    "spectrums_postprocessed = [post_process(s) for s in spectrums]\n",
    "\n",
    "# omit spectrums that didn't qualify for analysis\n",
    "spectrums_postprocessed = [s for s in spectrums_postprocessed if s is not None]"
   ]
  },
  {
   "cell_type": "markdown",
   "metadata": {},
   "source": [
    "### Load pretrained spec2vec model\n",
    "- See for instance: https://doi.org/10.5281/zenodo.4173596 (model pretrained on AllPositive dataset)"
   ]
  },
  {
   "cell_type": "code",
   "execution_count": 5,
   "metadata": {},
   "outputs": [],
   "source": [
    "path_models = os.path.join(path_data, \"trained_models\")\n",
    "model_file = os.path.join(path_models, \"spec2vec_AllPositive_ratio05_filtered_201101_iter_15.model\")\n",
    "\n",
    "# Load pretrained model\n",
    "model = gensim.models.Word2Vec.load(model_file)"
   ]
  },
  {
   "cell_type": "markdown",
   "metadata": {},
   "source": [
    "### Create spectrum \"documents\""
   ]
  },
  {
   "cell_type": "code",
   "execution_count": 6,
   "metadata": {},
   "outputs": [],
   "source": [
    "from spec2vec import Spec2Vec\n",
    "from spec2vec import SpectrumDocument "
   ]
  },
  {
   "cell_type": "code",
   "execution_count": 7,
   "metadata": {},
   "outputs": [],
   "source": [
    "documents = [SpectrumDocument(s, n_decimals=2) for s in spectrums_postprocessed]"
   ]
  },
  {
   "cell_type": "code",
   "execution_count": 8,
   "metadata": {},
   "outputs": [
    {
     "data": {
      "text/plain": [
       "['peak@289.29',\n",
       " 'peak@295.55',\n",
       " 'peak@298.49',\n",
       " 'peak@317.32',\n",
       " 'peak@319.66',\n",
       " 'peak@324.48',\n",
       " 'peak@325.32',\n",
       " 'peak@339.79',\n",
       " 'peak@343.95',\n",
       " 'peak@347.02',\n",
       " 'peak@347.91',\n",
       " 'peak@361.15',\n",
       " 'peak@361.84',\n",
       " 'peak@364.23',\n",
       " 'peak@364.86',\n",
       " 'peak@365.85',\n",
       " 'peak@368.22',\n",
       " 'peak@368.97',\n",
       " 'peak@375.07',\n",
       " 'peak@375.75']"
      ]
     },
     "execution_count": 8,
     "metadata": {},
     "output_type": "execute_result"
    }
   ],
   "source": [
    "documents[0].words[:20]"
   ]
  },
  {
   "cell_type": "markdown",
   "metadata": {},
   "source": [
    "### Derive embeddings"
   ]
  },
  {
   "cell_type": "code",
   "execution_count": 9,
   "metadata": {},
   "outputs": [],
   "source": [
    "from tqdm.notebook import tqdm  # optional, just to get a progress bar\n",
    "from spec2vec.vector_operations import calc_vector"
   ]
  },
  {
   "cell_type": "code",
   "execution_count": 10,
   "metadata": {},
   "outputs": [
    {
     "name": "stdout",
     "output_type": "stream",
     "text": [
      "Embedding vector size: 300\n"
     ]
    },
    {
     "data": {
      "application/vnd.jupyter.widget-view+json": {
       "model_id": "4b56a308996b48188fb2fff85e8b787f",
       "version_major": 2,
       "version_minor": 0
      },
      "text/plain": [
       "HBox(children=(HTML(value=''), FloatProgress(value=0.0, max=12797.0), HTML(value='')))"
      ]
     },
     "metadata": {},
     "output_type": "display_data"
    },
    {
     "name": "stdout",
     "output_type": "stream",
     "text": [
      "\n"
     ]
    }
   ],
   "source": [
    "intensity_weighting_power = 0.5\n",
    "allowed_missing_percentage = 10 # specify the maximum (weighted) fraction of the spectrum that is allowed to be missing\n",
    "\n",
    "vector_size = model.vector_size\n",
    "print(f\"Embedding vector size: {vector_size}\")\n",
    "\n",
    "embeddings_spec2vec = np.zeros((len(documents), vector_size), dtype=\"float\")\n",
    "for i, doc in enumerate(tqdm(documents)):\n",
    "    embeddings_spec2vec[i, 0:vector_size] = calc_vector(model, doc,\n",
    "                                                        intensity_weighting_power,\n",
    "                                                        allowed_missing_percentage)"
   ]
  },
  {
   "cell_type": "code",
   "execution_count": 12,
   "metadata": {},
   "outputs": [
    {
     "data": {
      "text/plain": [
       "(12797, 300)"
      ]
     },
     "execution_count": 12,
     "metadata": {},
     "output_type": "execute_result"
    }
   ],
   "source": [
    "embeddings_spec2vec.shape"
   ]
  },
  {
   "cell_type": "code",
   "execution_count": 20,
   "metadata": {},
   "outputs": [
    {
     "name": "stdout",
     "output_type": "stream",
     "text": [
      "[42.0178, -43.2054, 34.7513, -107.5347, -3.2445, -76.6327, -11.3103, -36.3136, 4.8236, 41.0216, 39.7589, -3.3456, 25.8479, -39.3929, -16.6266, -38.0523, 20.2984, 37.2182, 16.1859, 42.593, 33.4526, -22.1193, 72.8967, 13.4784, -9.9983, 28.5276, -21.382, -4.9061, -1.5627, 16.9605, -54.0134, -28.2718, 9.271, 33.7729, 32.5119, 1.4593, 3.954, 33.8745, -0.9841, -10.5822, 31.8189, -17.6984, 44.6887, -39.6979, 4.4911, -27.5185, -15.1705, 36.0776, 17.4914, 47.657, -37.9565, -2.4548, 0.2419, 41.5399, -51.2658, 19.3386, -44.8592, 7.5528, -20.032, -12.4599, -6.3517, -3.3403, -29.8746, 0.0414, -16.2784, 9.1359, 14.9801, -6.6536, 74.3326, -24.2418, 6.308, 26.0182, -27.0743, -6.403, 30.0604, -2.4306, -25.09, 58.094, 11.1743, 18.9769, -45.2443, 49.2554, 8.8223, -8.9952, -30.1558, 10.2108, -43.2419, -24.7698, 6.6931, 48.0061, 16.3499, 64.5272, 35.6992, 61.1264, 16.8335, 11.5313, 76.2697, 10.0867, 39.2198, -19.8674, -9.7124, -8.2465, -15.4243, -5.7536, -18.4063, -26.6288, 8.6747, -15.5598, 31.7884, 11.6019, 34.7642, -17.3149, 19.2221, 1.0544, -9.3589, -21.299, 2.8585, -59.1753, -46.7396, -27.7369, -35.5156, 1.4075, 22.8252, -52.6066, 21.0821, -63.915, 14.5507, 12.4017, 28.144, 91.5688, 8.9935, 56.2665, 12.4462, 3.0205, -15.1616, -47.5922, 35.9081, -15.7173, 49.47, 16.2656, 15.5834, -0.4051, -4.3243, -10.2834, 27.2632, -15.4928, -46.9121, 35.2568, 16.7973, -4.4028, 8.4896, -32.6048, -12.4744, -14.9225, 22.1052, -11.8415, 12.4949, -13.0579, 0.1762, 48.4055, 2.0232, 52.3739, 22.929, -2.531, -11.4015, -49.9718, 36.4911, -36.9411, -4.4625, -26.0895, -19.0099, 12.5625, -25.3182, 28.4458, -1.6888, -38.6568, -41.8601, 11.0498, 2.5899, 13.7508, 13.0312, -12.3197, 19.5758, 41.3145, 3.1327, -39.0884, -31.2428, -26.8675, 7.1927, 0.5592, 63.0551, -14.5367, -24.8314, -18.4052, 17.4689, 9.9714, 2.3212, 39.4402, 33.1608, 5.5943, 6.8414, -15.5299, -17.2614, 49.91, 23.3151, -0.6259, -4.4055, -0.0824, 1.5579, -16.4322, -9.0503, -14.4429, -15.841, 36.2084, -35.6031, 27.5839, 11.126, -38.1742, -36.9712, -0.7543, -13.6165, 6.1344, 10.9474, 27.0495, -7.7824, 20.9525, 22.6501, -20.2698, 13.0354, -1.565, 45.386, 3.791, -58.341, 9.3911, -7.5399, -10.1706, 4.0885, 12.5856, -19.9361, -27.1453, 17.7503, -31.0948, 16.2705, -7.2276, 0.2205, -2.5979, -39.0949, -30.1345, -9.0955, -8.0222, 1.8287, -16.2799, -17.6804, -2.9488, 30.8147, -2.1604, 44.6537, 26.612, 22.5985, 23.6299, 39.4961, 36.3558, 26.1925, -12.3952, -8.4688, 25.1523, 37.8104, 0.8851, 11.3241, -24.0909, -14.2435, 2.416, 4.2172, -22.5194, -12.3099, 36.8767, 12.3774, -9.5058, -7.7588, 24.5484, 2.2826, 1.1877, 7.5718, -15.6152, 77.5607, -12.2692, -10.7108, -1.7481, 21.2851, 14.5501, -8.5288, -3.2972, -29.6102, -59.1496, 81.3534, -27.9671, 12.1701, 16.4148, -70.3633, -35.641]\n"
     ]
    }
   ],
   "source": [
    "print([np.round(x, 4) for x in embeddings_spec2vec[0,:]])"
   ]
  }
 ],
 "metadata": {
  "kernelspec": {
   "display_name": "Python 3",
   "language": "python",
   "name": "python3"
  },
  "language_info": {
   "codemirror_mode": {
    "name": "ipython",
    "version": 3
   },
   "file_extension": ".py",
   "mimetype": "text/x-python",
   "name": "python",
   "nbconvert_exporter": "python",
   "pygments_lexer": "ipython3",
   "version": "3.7.7"
  }
 },
 "nbformat": 4,
 "nbformat_minor": 4
}
