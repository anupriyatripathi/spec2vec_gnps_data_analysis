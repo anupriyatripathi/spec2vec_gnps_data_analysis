{
 "cells": [
  {
   "cell_type": "markdown",
   "metadata": {},
   "source": [
    "# Train a spec2vec model on mass spectra dataset\n",
    "### Train on all positive mode spectra"
   ]
  },
  {
   "cell_type": "code",
   "execution_count": 1,
   "metadata": {},
   "outputs": [],
   "source": [
    "import os\n",
    "import sys\n",
    "import gensim\n",
    "import numpy as np\n",
    "from matplotlib import pyplot as plt\n",
    "\n",
    "ROOT = os.path.dirname(os.getcwd())\n",
    "#path_data = os.path.join(ROOT, 'data')\n",
    "path_data = 'C:\\\\OneDrive - Netherlands eScience Center\\\\Project_Wageningen_iOMEGA\\\\matchms\\\\data\\\\'\n",
    "sys.path.insert(0, ROOT)"
   ]
  },
  {
   "cell_type": "markdown",
   "metadata": {},
   "source": [
    "### Import pre-processed dataset \"allGNPS_positive_ionmode\""
   ]
  },
  {
   "cell_type": "code",
   "execution_count": 2,
   "metadata": {},
   "outputs": [
    {
     "name": "stdout",
     "output_type": "stream",
     "text": [
      "number of spectra: 112956\n"
     ]
    }
   ],
   "source": [
    "from matchms.importing import load_from_json\n",
    "\n",
    "filename = os.path.join(path_data,'gnps_positive_ionmode_cleaned_by_matchms_and_lookups.json')\n",
    "spectrums = load_from_json(filename)\n",
    "\n",
    "print(\"number of spectra:\", len(spectrums))"
   ]
  },
  {
   "cell_type": "code",
   "execution_count": 3,
   "metadata": {},
   "outputs": [],
   "source": [
    "number_of_peaks = [len(spec.peaks) for spec in spectrums]"
   ]
  },
  {
   "cell_type": "code",
   "execution_count": 4,
   "metadata": {},
   "outputs": [
    {
     "name": "stdout",
     "output_type": "stream",
     "text": [
      "Maximum number of peaks in one spectrum: 361421\n",
      "Number of spectra with > 1000 peaks: 5837\n",
      "Number of spectra with > 2000 peaks: 2595\n",
      "Number of spectra with > 5000 peaks: 1014\n",
      "Careful: Number of spectra with < 10 peaks: 17567\n"
     ]
    }
   ],
   "source": [
    "print(\"Maximum number of peaks in one spectrum:\", np.max(number_of_peaks))\n",
    "print(\"Number of spectra with > 1000 peaks:\", np.sum(np.array(number_of_peaks)>1000))\n",
    "print(\"Number of spectra with > 2000 peaks:\", np.sum(np.array(number_of_peaks)>2000))\n",
    "print(\"Number of spectra with > 5000 peaks:\", np.sum(np.array(number_of_peaks)>5000))\n",
    "print(\"Careful: Number of spectra with < 10 peaks:\", np.sum(np.array(number_of_peaks)<10))"
   ]
  },
  {
   "cell_type": "code",
   "execution_count": 5,
   "metadata": {},
   "outputs": [
    {
     "data": {
      "text/plain": [
       "Text(0, 0.5, 'number of spectra in respective bin')"
      ]
     },
     "execution_count": 5,
     "metadata": {},
     "output_type": "execute_result"
    },
    {
     "data": {
      "image/png": "[encoded data removed]",
      "text/plain": [
       "<Figure size 864x504 with 1 Axes>"
      ]
     },
     "metadata": {
      "needs_background": "light"
     },
     "output_type": "display_data"
    }
   ],
   "source": [
    "plt.figure(figsize=(12,7))\n",
    "hist = plt.hist(number_of_peaks, np.arange(0,2000,20))\n",
    "plt.xlabel(\"number of peaks in spectrum\")\n",
    "plt.ylabel(\"number of spectra in respective bin\")"
   ]
  },
  {
   "cell_type": "markdown",
   "metadata": {},
   "source": [
    "### Post-process spectra - Step 1\n",
    "+ Normalize spectrum\n",
    "+ Remove peaks outside m/z ratios between 0 and 1000.0\n",
    "+ Discard spectra with less then 10 remaining peaks"
   ]
  },
  {
   "cell_type": "code",
   "execution_count": 6,
   "metadata": {},
   "outputs": [],
   "source": [
    "from matchms.filtering import normalize_intensities\n",
    "from matchms.filtering import require_minimum_number_of_peaks\n",
    "from matchms.filtering import select_by_mz\n",
    "from matchms.filtering import select_by_relative_intensity\n",
    "from matchms.filtering import reduce_to_number_of_peaks\n",
    "from matchms.filtering import add_losses"
   ]
  },
  {
   "cell_type": "code",
   "execution_count": 7,
   "metadata": {},
   "outputs": [],
   "source": [
    "def post_process(s):\n",
    "    s = normalize_intensities(s)\n",
    "    s = select_by_mz(s, mz_from=0, mz_to=1000)\n",
    "    s = require_minimum_number_of_peaks(s, n_required=10)\n",
    "    return s\n",
    "\n",
    "# apply post processing steps to the data\n",
    "spectrums = [post_process(s) for s in spectrums]\n",
    "\n",
    "# omit spectrums that didn't qualify for analysis\n",
    "spectrums = [s for s in spectrums if s is not None]"
   ]
  },
  {
   "cell_type": "code",
   "execution_count": 8,
   "metadata": {},
   "outputs": [
    {
     "name": "stdout",
     "output_type": "stream",
     "text": [
      "Maximum number of peaks in one spectrum: 228989\n",
      "Number of spectra with > 1000 peaks: 5481\n",
      "Number of spectra with > 2000 peaks: 2268\n",
      "Number of spectra with > 5000 peaks: 769\n",
      "Careful: Number of spectra with < 10 peaks: 0\n"
     ]
    }
   ],
   "source": [
    "number_of_peaks = [len(spec.peaks) for spec in spectrums]\n",
    "\n",
    "print(\"Maximum number of peaks in one spectrum:\", np.max(number_of_peaks))\n",
    "print(\"Number of spectra with > 1000 peaks:\", np.sum(np.array(number_of_peaks)>1000))\n",
    "print(\"Number of spectra with > 2000 peaks:\", np.sum(np.array(number_of_peaks)>2000))\n",
    "print(\"Number of spectra with > 5000 peaks:\", np.sum(np.array(number_of_peaks)>5000))\n",
    "print(\"Careful: Number of spectra with < 10 peaks:\", np.sum(np.array(number_of_peaks)<10))"
   ]
  },
  {
   "cell_type": "code",
   "execution_count": 21,
   "metadata": {},
   "outputs": [
    {
     "name": "stdout",
     "output_type": "stream",
     "text": [
      "Number of spectra: 95320\n"
     ]
    }
   ],
   "source": [
    "print(\"Number of spectra:\", len(spectrums))"
   ]
  },
  {
   "cell_type": "markdown",
   "metadata": {},
   "source": [
    "This means we have 95,320 spectra with >= 10 peaks that we will train a model on."
   ]
  },
  {
   "cell_type": "code",
   "execution_count": 9,
   "metadata": {},
   "outputs": [
    {
     "data": {
      "text/plain": [
       "Text(0, 0.5, 'number of spectra in respective bin')"
      ]
     },
     "execution_count": 9,
     "metadata": {},
     "output_type": "execute_result"
    },
    {
     "data": {
      "image/png": "[encoded data removed]",
      "text/plain": [
       "<Figure size 864x576 with 1 Axes>"
      ]
     },
     "metadata": {
      "needs_background": "light"
     },
     "output_type": "display_data"
    }
   ],
   "source": [
    "plt.figure(figsize=(12,8))\n",
    "hist = plt.hist(number_of_peaks, np.arange(0,2000,20))\n",
    "plt.xlabel(\"number of peaks in spectrum\")\n",
    "plt.ylabel(\"number of spectra in respective bin\")"
   ]
  },
  {
   "cell_type": "markdown",
   "metadata": {},
   "source": [
    "### Post-process spectra - step 2\n",
    "+ Reduce number of peaks (scaled with parent-mass)."
   ]
  },
  {
   "cell_type": "code",
   "execution_count": 10,
   "metadata": {},
   "outputs": [],
   "source": [
    "def post_process_step2(s):\n",
    "    s = reduce_to_number_of_peaks(s, n_required=10, ratio_desired=0.5)\n",
    "    return s\n",
    "\n",
    "# apply post processing steps to the data\n",
    "spectrums = [post_process_step2(s) for s in spectrums]\n",
    "\n",
    "# omit spectrums that didn't qualify for analysis\n",
    "spectrums = [s for s in spectrums if s is not None]"
   ]
  },
  {
   "cell_type": "code",
   "execution_count": 11,
   "metadata": {},
   "outputs": [
    {
     "name": "stdout",
     "output_type": "stream",
     "text": [
      "Maximum number of peaks in one spectrum: 1376\n",
      "Number of spectra with > 1000 peaks: 6\n",
      "Number of spectra with > 2000 peaks: 0\n",
      "Number of spectra with > 5000 peaks: 0\n"
     ]
    }
   ],
   "source": [
    "number_of_peaks = [len(spec.peaks) for spec in spectrums]\n",
    "\n",
    "print(\"Maximum number of peaks in one spectrum:\", np.max(number_of_peaks))\n",
    "print(\"Number of spectra with > 1000 peaks:\", np.sum(np.array(number_of_peaks)>1000))\n",
    "print(\"Number of spectra with > 2000 peaks:\", np.sum(np.array(number_of_peaks)>2000))\n",
    "print(\"Number of spectra with > 5000 peaks:\", np.sum(np.array(number_of_peaks)>5000))"
   ]
  },
  {
   "cell_type": "code",
   "execution_count": 12,
   "metadata": {},
   "outputs": [
    {
     "data": {
      "text/plain": [
       "Text(0, 0.5, 'number of spectra in respective bin')"
      ]
     },
     "execution_count": 12,
     "metadata": {},
     "output_type": "execute_result"
    },
    {
     "data": {
      "image/png": "[encoded data removed]",
      "text/plain": [
       "<Figure size 864x576 with 1 Axes>"
      ]
     },
     "metadata": {
      "needs_background": "light"
     },
     "output_type": "display_data"
    }
   ],
   "source": [
    "plt.figure(figsize=(12,8))\n",
    "hist = plt.hist(number_of_peaks, np.arange(0,2000,20))\n",
    "plt.xlabel(\"number of peaks in spectrum\")\n",
    "plt.ylabel(\"number of spectra in respective bin\")"
   ]
  },
  {
   "cell_type": "markdown",
   "metadata": {},
   "source": [
    "### Remove small peaks (<0.001 rel. intensity) if at least 10 peaks would remain"
   ]
  },
  {
   "cell_type": "code",
   "execution_count": 13,
   "metadata": {},
   "outputs": [],
   "source": [
    "spectrums_postprocessed = []\n",
    "for spec in spectrums:\n",
    "    s = select_by_relative_intensity(spec, intensity_from=0.001)\n",
    "    if len(s.peaks) >= 10:\n",
    "        spectrums_postprocessed.append(s)\n",
    "    else:\n",
    "        spectrums_postprocessed.append(spec.clone())"
   ]
  },
  {
   "cell_type": "code",
   "execution_count": 14,
   "metadata": {},
   "outputs": [
    {
     "name": "stdout",
     "output_type": "stream",
     "text": [
      "Maximum number of peaks in one spectrum: 1081\n",
      "Number of spectra with > 1000 peaks: 4\n",
      "Number of spectra with > 2000 peaks: 0\n",
      "Number of spectra with > 5000 peaks: 0\n",
      "Careful: Number of spectra with < 10 peaks: 0\n"
     ]
    }
   ],
   "source": [
    "number_of_peaks = [len(spec.peaks) for spec in spectrums_postprocessed]\n",
    "\n",
    "print(\"Maximum number of peaks in one spectrum:\", np.max(number_of_peaks))\n",
    "print(\"Number of spectra with > 1000 peaks:\", np.sum(np.array(number_of_peaks)>1000))\n",
    "print(\"Number of spectra with > 2000 peaks:\", np.sum(np.array(number_of_peaks)>2000))\n",
    "print(\"Number of spectra with > 5000 peaks:\", np.sum(np.array(number_of_peaks)>5000))\n",
    "print(\"Careful: Number of spectra with < 10 peaks:\", np.sum(np.array(number_of_peaks)<10))"
   ]
  },
  {
   "cell_type": "code",
   "execution_count": 15,
   "metadata": {},
   "outputs": [
    {
     "data": {
      "text/plain": [
       "Text(0, 0.5, 'number of spectra in respective bin')"
      ]
     },
     "execution_count": 15,
     "metadata": {},
     "output_type": "execute_result"
    },
    {
     "data": {
      "image/png": "[encoded data removed]",
      "text/plain": [
       "<Figure size 864x576 with 1 Axes>"
      ]
     },
     "metadata": {
      "needs_background": "light"
     },
     "output_type": "display_data"
    }
   ],
   "source": [
    "plt.figure(figsize=(12,8))\n",
    "hist = plt.hist(number_of_peaks, np.arange(0,2000,20))\n",
    "plt.xlabel(\"number of peaks in spectrum\")\n",
    "plt.ylabel(\"number of spectra in respective bin\")"
   ]
  },
  {
   "cell_type": "markdown",
   "metadata": {},
   "source": [
    "## Add neutral losses (within 5.0 to 200.0 m/z)"
   ]
  },
  {
   "cell_type": "code",
   "execution_count": 16,
   "metadata": {},
   "outputs": [],
   "source": [
    "spectrums_postprocessed = [add_losses(s, loss_mz_from=5.0, loss_mz_to=200.0) for s in spectrums_postprocessed]"
   ]
  },
  {
   "cell_type": "markdown",
   "metadata": {},
   "source": [
    "# Convert spectra to document and train spec2vec model"
   ]
  },
  {
   "cell_type": "code",
   "execution_count": 17,
   "metadata": {},
   "outputs": [],
   "source": [
    "from spec2vec import Spec2Vec\n",
    "from spec2vec import SpectrumDocument"
   ]
  },
  {
   "cell_type": "code",
   "execution_count": 18,
   "metadata": {},
   "outputs": [],
   "source": [
    "documents = [SpectrumDocument(s, n_decimals=2) for s in spectrums_postprocessed]"
   ]
  },
  {
   "cell_type": "code",
   "execution_count": 19,
   "metadata": {},
   "outputs": [
    {
     "data": {
      "text/plain": [
       "['peak@289.29',\n",
       " 'peak@295.55',\n",
       " 'peak@298.49',\n",
       " 'peak@317.32',\n",
       " 'peak@319.66',\n",
       " 'peak@324.48',\n",
       " 'peak@325.32',\n",
       " 'peak@339.79',\n",
       " 'peak@343.95',\n",
       " 'peak@347.02']"
      ]
     },
     "execution_count": 19,
     "metadata": {},
     "output_type": "execute_result"
    }
   ],
   "source": [
    "documents[0].words[:10]"
   ]
  },
  {
   "cell_type": "markdown",
   "metadata": {},
   "source": [
    "## Train word2vec model\n",
    "+ Save model for every epoch in ``iterations``\n",
    "+ Use default spec2vec parameters as set in ``train_new_word2vec_model()``\n",
    "        \"sg\": 0,\n",
    "        \"negative\": 5,\n",
    "        \"size\": 300,\n",
    "        \"window\": 500,\n",
    "        \"min_count\": 1,\n",
    "        \"workers\": 4,\n",
    "        \"learning_rate_initial\": 0.025,\n",
    "        \"learning_rate_decay\": 0.00025,\n",
    "        \"progress_logger\": True"
   ]
  },
  {
   "cell_type": "code",
   "execution_count": 22,
   "metadata": {},
   "outputs": [
    {
     "name": "stdout",
     "output_type": "stream",
     "text": [
      "  Epoch 1 of 30.Change in loss after epoch 1: 5804989.0\n",
      "Saving model with name: C:\\OneDrive - Netherlands eScience Center\\Project_Wageningen_iOMEGA\\matchms\\data\\trained_models\\spec2vec_AllPositive_ratio05_filtered_iter_1.model\n",
      "  Epoch 2 of 30.Change in loss after epoch 2: 4350666.0\n",
      "  Epoch 3 of 30.Change in loss after epoch 3: 3695252.0\n",
      "  Epoch 4 of 30.Change in loss after epoch 4: 3622191.0\n",
      "  Epoch 5 of 30.Change in loss after epoch 5: 2986066.0\n",
      "Saving model with name: C:\\OneDrive - Netherlands eScience Center\\Project_Wageningen_iOMEGA\\matchms\\data\\trained_models\\spec2vec_AllPositive_ratio05_filtered_iter_5.model\n",
      "  Epoch 6 of 30.Change in loss after epoch 6: 2859452.0\n",
      "  Epoch 7 of 30.Change in loss after epoch 7: 2728252.0\n",
      "  Epoch 8 of 30.Change in loss after epoch 8: 2666408.0\n",
      "  Epoch 9 of 30.Change in loss after epoch 9: 2570062.0\n",
      "  Epoch 10 of 30.Change in loss after epoch 10: 2421518.0\n",
      "Saving model with name: C:\\OneDrive - Netherlands eScience Center\\Project_Wageningen_iOMEGA\\matchms\\data\\trained_models\\spec2vec_AllPositive_ratio05_filtered_iter_10.model\n",
      "  Epoch 11 of 30.Change in loss after epoch 11: 1552588.0\n",
      "  Epoch 12 of 30.Change in loss after epoch 12: 1550400.0\n",
      "  Epoch 13 of 30.Change in loss after epoch 13: 1501164.0\n",
      "  Epoch 14 of 30.Change in loss after epoch 14: 1501536.0\n",
      "  Epoch 15 of 30.Change in loss after epoch 15: 1492484.0\n",
      "Saving model with name: C:\\OneDrive - Netherlands eScience Center\\Project_Wageningen_iOMEGA\\matchms\\data\\trained_models\\spec2vec_AllPositive_ratio05_filtered_iter_15.model\n",
      "  Epoch 16 of 30.Change in loss after epoch 16: 1462604.0\n",
      "  Epoch 17 of 30.Change in loss after epoch 17: 1435832.0\n",
      "  Epoch 18 of 30.Change in loss after epoch 18: 1453268.0\n",
      "  Epoch 19 of 30.Change in loss after epoch 19: 1416948.0\n",
      "  Epoch 20 of 30.Change in loss after epoch 20: 1408652.0\n",
      "Saving model with name: C:\\OneDrive - Netherlands eScience Center\\Project_Wageningen_iOMEGA\\matchms\\data\\trained_models\\spec2vec_AllPositive_ratio05_filtered_iter_20.model\n",
      "  Epoch 21 of 30.Change in loss after epoch 21: 1390084.0\n",
      "  Epoch 22 of 30.Change in loss after epoch 22: 1359600.0\n",
      "  Epoch 23 of 30.Change in loss after epoch 23: 1355776.0\n",
      "  Epoch 24 of 30.Change in loss after epoch 24: 1354568.0\n",
      "  Epoch 25 of 30.Change in loss after epoch 25: 1334588.0\n",
      "Saving model with name: C:\\OneDrive - Netherlands eScience Center\\Project_Wageningen_iOMEGA\\matchms\\data\\trained_models\\spec2vec_AllPositive_ratio05_filtered_iter_25.model\n",
      "  Epoch 26 of 30.Change in loss after epoch 26: 1344396.0\n",
      "  Epoch 27 of 30.Change in loss after epoch 27: 1341760.0\n",
      "  Epoch 28 of 30.Change in loss after epoch 28: 1328372.0\n",
      "  Epoch 29 of 30.Change in loss after epoch 29: 1312028.0\n",
      "  Epoch 30 of 30.Change in loss after epoch 30: 1309936.0\n",
      "Saving model with name: C:\\OneDrive - Netherlands eScience Center\\Project_Wageningen_iOMEGA\\matchms\\data\\trained_models\\spec2vec_AllPositive_ratio05_filtered_iter_30.model\n"
     ]
    }
   ],
   "source": [
    "from spec2vec.model_building import train_new_word2vec_model\n",
    "\n",
    "path_models = os.path.join(path_data, \"trained_models\")\n",
    "model_file = os.path.join(path_models, \"spec2vec_AllPositive_ratio05_filtered.model\")\n",
    "\n",
    "iterations = [1, 3, 5, 10, 15, 20, 25, 30, 40, 50, 60, 70, 80, 90, 100]\n",
    "\n",
    "# Train model with default parameters\n",
    "model = train_new_word2vec_model(documents, iterations, model_file)"
   ]
  }
 ],
 "metadata": {
  "kernelspec": {
   "display_name": "Python 3",
   "language": "python",
   "name": "python3"
  },
  "language_info": {
   "codemirror_mode": {
    "name": "ipython",
    "version": 3
   },
   "file_extension": ".py",
   "mimetype": "text/x-python",
   "name": "python",
   "nbconvert_exporter": "python",
   "pygments_lexer": "ipython3",
   "version": "3.7.6"
  }
 },
 "nbformat": 4,
 "nbformat_minor": 4
}
