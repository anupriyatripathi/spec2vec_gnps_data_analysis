{
 "cells": [
  {
   "cell_type": "markdown",
   "metadata": {},
   "source": [
    "# Spec2Vec - Find similar compounds for unknown substances\n",
    "One very important use case for a spectral similariy measure is libarary matching.  \n",
    "This means matching previously unseen/unknown spectra to known, annotated sepctra in a larger library."
   ]
  },
  {
   "cell_type": "code",
   "execution_count": 1,
   "metadata": {},
   "outputs": [],
   "source": [
    "import os\n",
    "import sys\n",
    "import gensim\n",
    "import numpy as np\n",
    "import pandas as pd\n",
    "from matplotlib import pyplot as plt\n",
    "\n",
    "ROOT = os.path.dirname(os.getcwd())\n",
    "#path_data = os.path.join(ROOT, 'data')\n",
    "path_data = 'C:\\\\OneDrive - Netherlands eScience Center\\\\Project_Wageningen_iOMEGA\\\\matchms\\\\data\\\\'\n",
    "sys.path.insert(0, ROOT)"
   ]
  },
  {
   "cell_type": "markdown",
   "metadata": {},
   "source": [
    "### Import pre-processed dataset \"AllPositive\""
   ]
  },
  {
   "cell_type": "code",
   "execution_count": 2,
   "metadata": {},
   "outputs": [
    {
     "name": "stdout",
     "output_type": "stream",
     "text": [
      "number of spectra: 112956\n"
     ]
    }
   ],
   "source": [
    "from matchms.importing import load_from_json\n",
    "\n",
    "filename = os.path.join(path_data,'gnps_positive_ionmode_cleaned_by_matchms_and_lookups.json')\n",
    "spectrums = load_from_json(filename)\n",
    "\n",
    "print(\"number of spectra:\", len(spectrums))"
   ]
  },
  {
   "cell_type": "code",
   "execution_count": 3,
   "metadata": {},
   "outputs": [
    {
     "data": {
      "text/plain": [
       "Text(0, 0.5, 'number of spectra in respective bin')"
      ]
     },
     "execution_count": 3,
     "metadata": {},
     "output_type": "execute_result"
    },
    {
     "data": {
      "image/png": "[encoded data removed]",
      "text/plain": [
       "<Figure size 864x504 with 1 Axes>"
      ]
     },
     "metadata": {
      "needs_background": "light"
     },
     "output_type": "display_data"
    }
   ],
   "source": [
    "number_of_peaks = [len(spec.peaks) for spec in spectrums]\n",
    "\n",
    "plt.figure(figsize=(12,7))\n",
    "hist = plt.hist(number_of_peaks, np.arange(0,2000,20))\n",
    "plt.xlabel(\"number of peaks in spectrum\")\n",
    "plt.ylabel(\"number of spectra in respective bin\")"
   ]
  },
  {
   "cell_type": "markdown",
   "metadata": {},
   "source": [
    "## Post-process data\n",
    "We here do different post-processing for either the \"classical\" scores (Cosine, modified Cosine) or Spe2Vec. The reason for this is mostly to make sure that we do full justice to the classical similarity measures.\n",
    "\n",
    "#### Post-processing for classical scores\n",
    "Cosine and modified cosine scores are build on multiplying intensities of matching peaks. Small peaks (<0.01) hence contribute very little to the final scores and are left out to avoid excessive computation times. \n",
    "+ normalize peaks (maximum intensity to 1)\n",
    "+ remove peaks outside [0, 1000] m/z window\n",
    "+ remove spectra with < 10 peaks\n",
    "+ remove peaks with intensities < 0.01 of maximum intensity.\n",
    "\n",
    "#### Post-processing for Spec2Vec\n",
    "Spec2Vec similarity scores rely on creating a ``document vector`` for each spectrum. For the underlying word2vec model we want the documents (=spectra) to be more homogeneous in their number of unique words. Assuming that larger compounds will on average break down into a higher number of meaningful fragment peaks we reduce the document size of each spectrum according to its parent mass.\n",
    "+ normalize peaks (maximum intensity to 1)\n",
    "+ remove peaks outside [0, 1000] m/z window\n",
    "+ remove spectra with < 10 peaks\n",
    "+ reduce number of peaks to maximum of 0.5 * parent mass\n",
    "+ remove peaks with intensities < 0.001 of maximum intensity (unless this brings number of peaks to less than 10)"
   ]
  },
  {
   "cell_type": "code",
   "execution_count": 4,
   "metadata": {},
   "outputs": [
    {
     "name": "stdout",
     "output_type": "stream",
     "text": [
      "95320 remaining spectra.\n"
     ]
    }
   ],
   "source": [
    "from matchms.filtering import normalize_intensities\n",
    "from matchms.filtering import require_minimum_number_of_peaks\n",
    "from matchms.filtering import select_by_mz\n",
    "from matchms.filtering import select_by_relative_intensity\n",
    "from matchms.filtering import reduce_to_number_of_peaks\n",
    "from matchms.filtering import add_losses\n",
    "\n",
    "def post_process_classical(s):\n",
    "    s = normalize_intensities(s)\n",
    "    s = select_by_mz(s, mz_from=0, mz_to=1000)\n",
    "    s = require_minimum_number_of_peaks(s, n_required=10)\n",
    "    s = select_by_relative_intensity(s, intensity_from=0.01, intensity_to=1.0)\n",
    "    return s\n",
    "\n",
    "# apply filters to the data\n",
    "spectrums_classical = [post_process_classical(s) for s in spectrums]\n",
    "\n",
    "# omit spectrums that didn't qualify for analysis\n",
    "spectrums_classical = [s for s in spectrums_classical if s is not None]\n",
    "\n",
    "print(\"{} remaining spectra.\".format(len(spectrums_classical)))"
   ]
  },
  {
   "cell_type": "code",
   "execution_count": 5,
   "metadata": {},
   "outputs": [
    {
     "name": "stdout",
     "output_type": "stream",
     "text": [
      "95320 remaining spectra.\n"
     ]
    }
   ],
   "source": [
    "def post_process_s2v(s):\n",
    "    s = normalize_intensities(s)\n",
    "    s = select_by_mz(s, mz_from=0, mz_to=1000)\n",
    "    s = require_minimum_number_of_peaks(s, n_required=10)\n",
    "    s = reduce_to_number_of_peaks(s, n_required=10, ratio_desired=0.5)\n",
    "    if s is None:\n",
    "        return None\n",
    "    s_remove_low_peaks = select_by_relative_intensity(s, intensity_from=0.001)\n",
    "    if len(s_remove_low_peaks.peaks) >= 10:\n",
    "        s = s_remove_low_peaks\n",
    "        \n",
    "    s = add_losses(s, loss_mz_from=5.0, loss_mz_to=200.0)\n",
    "    return s\n",
    "\n",
    "# apply post processing steps to the data\n",
    "spectrums_s2v = [post_process_s2v(s) for s in spectrums]\n",
    "\n",
    "# omit spectrums that didn't qualify for analysis\n",
    "spectrums_s2v = [s for s in spectrums_s2v if s is not None]\n",
    "\n",
    "print(\"{} remaining spectra.\".format(len(spectrums_s2v)))"
   ]
  },
  {
   "cell_type": "code",
   "execution_count": 6,
   "metadata": {},
   "outputs": [
    {
     "data": {
      "text/plain": [
       "Text(0, 0.5, 'number of spectra in respective bin')"
      ]
     },
     "execution_count": 6,
     "metadata": {},
     "output_type": "execute_result"
    },
    {
     "data": {
      "image/png": "[encoded data removed]",
      "text/plain": [
       "<Figure size 864x504 with 1 Axes>"
      ]
     },
     "metadata": {
      "needs_background": "light"
     },
     "output_type": "display_data"
    }
   ],
   "source": [
    "number_of_peaks = [len(spec.peaks) for spec in spectrums_classical]\n",
    "\n",
    "plt.figure(figsize=(12,7))\n",
    "hist = plt.hist(number_of_peaks, np.arange(0,2000,20))\n",
    "plt.xlabel(\"number of peaks in spectrum\")\n",
    "plt.ylabel(\"number of spectra in respective bin\")"
   ]
  },
  {
   "cell_type": "code",
   "execution_count": 7,
   "metadata": {},
   "outputs": [
    {
     "data": {
      "text/plain": [
       "42049"
      ]
     },
     "execution_count": 7,
     "metadata": {},
     "output_type": "execute_result"
    }
   ],
   "source": [
    "np.max(number_of_peaks)"
   ]
  },
  {
   "cell_type": "code",
   "execution_count": 8,
   "metadata": {},
   "outputs": [
    {
     "data": {
      "text/plain": [
       "Text(0, 0.5, 'number of spectra in respective bin')"
      ]
     },
     "execution_count": 8,
     "metadata": {},
     "output_type": "execute_result"
    },
    {
     "data": {
      "image/png": "[encoded data removed]",
      "text/plain": [
       "<Figure size 864x504 with 1 Axes>"
      ]
     },
     "metadata": {
      "needs_background": "light"
     },
     "output_type": "display_data"
    }
   ],
   "source": [
    "number_of_peaks = [len(spec.peaks) for spec in spectrums_s2v]\n",
    "\n",
    "plt.figure(figsize=(12,7))\n",
    "hist = plt.hist(number_of_peaks, np.arange(0,2000,20))\n",
    "plt.xlabel(\"number of peaks in spectrum\")\n",
    "plt.ylabel(\"number of spectra in respective bin\")"
   ]
  },
  {
   "cell_type": "code",
   "execution_count": 9,
   "metadata": {},
   "outputs": [
    {
     "data": {
      "text/plain": [
       "1081"
      ]
     },
     "execution_count": 9,
     "metadata": {},
     "output_type": "execute_result"
    }
   ],
   "source": [
    "np.max(number_of_peaks)"
   ]
  },
  {
   "cell_type": "markdown",
   "metadata": {},
   "source": [
    "## Inspect annotations"
   ]
  },
  {
   "cell_type": "code",
   "execution_count": 10,
   "metadata": {},
   "outputs": [],
   "source": [
    "Inchikeys = []\n",
    "for spec in spectrums_classical:\n",
    "    Inchikeys.append(spec.get(\"inchikey\"))"
   ]
  },
  {
   "cell_type": "code",
   "execution_count": 11,
   "metadata": {},
   "outputs": [
    {
     "data": {
      "text/plain": [
       "['IYDKWWDUBYWQGF-NNAZGLEUSA-N',\n",
       " 'KNGPFNUOXXLKCN-ZNCJFREWSA-N',\n",
       " 'WXDBUBIFYCCNLE-NSCMQRKRSA-N',\n",
       " 'CGZKSPLDUIRCIO-RPCRKUJJSA-N',\n",
       " '',\n",
       " 'USXIYWCPCGVOKF-LERJCCFDSA-N',\n",
       " '',\n",
       " 'WCNJVJCYRBJSLC-BCJYPDSRSA-N',\n",
       " 'USXIYWCPCGVOKF-NOENWEJRSA-N',\n",
       " 'WCNJVJCYRBJSLC-BCJYPDSRSA-N']"
      ]
     },
     "execution_count": 11,
     "metadata": {},
     "output_type": "execute_result"
    }
   ],
   "source": [
    "Inchikeys[:10]"
   ]
  },
  {
   "cell_type": "code",
   "execution_count": 7,
   "metadata": {},
   "outputs": [
    {
     "data": {
      "text/plain": [
       "['IYDKWWDUBYWQGF-NNAZGLEUSA-N',\n",
       " 'KNGPFNUOXXLKCN-ZNCJFREWSA-N',\n",
       " 'WXDBUBIFYCCNLE-NSCMQRKRSA-N',\n",
       " 'CGZKSPLDUIRCIO-RPCRKUJJSA-N',\n",
       " '',\n",
       " 'USXIYWCPCGVOKF-LERJCCFDSA-N',\n",
       " '',\n",
       " 'WCNJVJCYRBJSLC-BCJYPDSRSA-N',\n",
       " 'USXIYWCPCGVOKF-NOENWEJRSA-N',\n",
       " 'WCNJVJCYRBJSLC-BCJYPDSRSA-N']"
      ]
     },
     "execution_count": 7,
     "metadata": {},
     "output_type": "execute_result"
    }
   ],
   "source": [
    "Inchikeys[:10]"
   ]
  },
  {
   "cell_type": "code",
   "execution_count": 12,
   "metadata": {},
   "outputs": [
    {
     "data": {
      "text/plain": [
       "NEGQHKSYEYVFTD    432\n",
       "SULIDBRAXVDKBU    426\n",
       "IQGPMZRCLCCXAG    308\n",
       "WTJKGGKOPKCXLL    295\n",
       "IIZPXYDJLKNOIY    235\n",
       "RWKUXQNLWDTSLO    234\n",
       "QIBZFHLFHCIUOT    225\n",
       "ZAYXPDDGEIJGGW    212\n",
       "QJWDAOSZZYVBJZ    210\n",
       "KILNVBDSWZSGLL    205\n",
       "RFVFQQWKPSOBED    202\n",
       "IESVDEZGAHUQJU    197\n",
       "LFUDDCMNKWEORN    195\n",
       "JLPULHDHAOZNQI    182\n",
       "LSOWKZULVQWMLY    180\n",
       "XGGMHQYOVYWRLV    178\n",
       "LLHISNQVRRYJGL    175\n",
       "JFISYPWOVQNHLS    174\n",
       "SRIGHEHXEGELQJ    166\n",
       "ACTIUHUUMQJHFO    163\n",
       "PZNPLUBHRSSFHT    162\n",
       "YLWSJLLZUHSIEA    158\n",
       "GPWHCUUIQMGELX    150\n",
       "BLZVZPYMHLXLHG    148\n",
       "QEDPUVGSSDPBMD    146\n",
       "IGZPHNNYPPAPLA    142\n",
       "CITHEXJVPOWHKC    141\n",
       "YEJYLHKQOBOSCP    131\n",
       "SXNXGNVZTLZDHE    131\n",
       "AXZGUCXCTZMPTR    128\n",
       "dtype: int64"
      ]
     },
     "execution_count": 12,
     "metadata": {},
     "output_type": "execute_result"
    }
   ],
   "source": [
    "inchikeys_pd = pd.Series([x for x in Inchikeys if x])\n",
    "inchikeys_pd.str[:14].value_counts()[:30]"
   ]
  },
  {
   "cell_type": "code",
   "execution_count": 13,
   "metadata": {},
   "outputs": [
    {
     "data": {
      "text/plain": [
       "Text(0, 0.5, 'Number of inchikeys with respective number of occurences')"
      ]
     },
     "execution_count": 13,
     "metadata": {},
     "output_type": "execute_result"
    },
    {
     "data": {
      "image/png": "[encoded data removed]",
      "text/plain": [
       "<Figure size 864x432 with 1 Axes>"
      ]
     },
     "metadata": {
      "needs_background": "light"
     },
     "output_type": "display_data"
    }
   ],
   "source": [
    "plt.figure(figsize=(12,6))\n",
    "plt.hist(inchikeys_pd.str[:14].value_counts(), np.linspace(0, 60, 60))\n",
    "plt.xlabel('Number of occurences of inchikey')\n",
    "plt.ylabel('Number of inchikeys with respective number of occurences')"
   ]
  },
  {
   "cell_type": "code",
   "execution_count": 14,
   "metadata": {},
   "outputs": [
    {
     "data": {
      "text/html": [
       "<div>\n",
       "<style scoped>\n",
       "    .dataframe tbody tr th:only-of-type {\n",
       "        vertical-align: middle;\n",
       "    }\n",
       "\n",
       "    .dataframe tbody tr th {\n",
       "        vertical-align: top;\n",
       "    }\n",
       "\n",
       "    .dataframe thead th {\n",
       "        text-align: right;\n",
       "    }\n",
       "</style>\n",
       "<table border=\"1\" class=\"dataframe\">\n",
       "  <thead>\n",
       "    <tr style=\"text-align: right;\">\n",
       "      <th></th>\n",
       "      <th>inchikey14</th>\n",
       "      <th>occurences</th>\n",
       "    </tr>\n",
       "  </thead>\n",
       "  <tbody>\n",
       "    <tr>\n",
       "      <th>0</th>\n",
       "      <td>NEGQHKSYEYVFTD</td>\n",
       "      <td>432</td>\n",
       "    </tr>\n",
       "    <tr>\n",
       "      <th>1</th>\n",
       "      <td>SULIDBRAXVDKBU</td>\n",
       "      <td>426</td>\n",
       "    </tr>\n",
       "    <tr>\n",
       "      <th>2</th>\n",
       "      <td>IQGPMZRCLCCXAG</td>\n",
       "      <td>308</td>\n",
       "    </tr>\n",
       "    <tr>\n",
       "      <th>3</th>\n",
       "      <td>WTJKGGKOPKCXLL</td>\n",
       "      <td>295</td>\n",
       "    </tr>\n",
       "    <tr>\n",
       "      <th>4</th>\n",
       "      <td>IIZPXYDJLKNOIY</td>\n",
       "      <td>235</td>\n",
       "    </tr>\n",
       "    <tr>\n",
       "      <th>5</th>\n",
       "      <td>RWKUXQNLWDTSLO</td>\n",
       "      <td>234</td>\n",
       "    </tr>\n",
       "    <tr>\n",
       "      <th>6</th>\n",
       "      <td>QIBZFHLFHCIUOT</td>\n",
       "      <td>225</td>\n",
       "    </tr>\n",
       "    <tr>\n",
       "      <th>7</th>\n",
       "      <td>ZAYXPDDGEIJGGW</td>\n",
       "      <td>212</td>\n",
       "    </tr>\n",
       "    <tr>\n",
       "      <th>8</th>\n",
       "      <td>QJWDAOSZZYVBJZ</td>\n",
       "      <td>210</td>\n",
       "    </tr>\n",
       "    <tr>\n",
       "      <th>9</th>\n",
       "      <td>KILNVBDSWZSGLL</td>\n",
       "      <td>205</td>\n",
       "    </tr>\n",
       "    <tr>\n",
       "      <th>10</th>\n",
       "      <td>RFVFQQWKPSOBED</td>\n",
       "      <td>202</td>\n",
       "    </tr>\n",
       "    <tr>\n",
       "      <th>11</th>\n",
       "      <td>IESVDEZGAHUQJU</td>\n",
       "      <td>197</td>\n",
       "    </tr>\n",
       "    <tr>\n",
       "      <th>12</th>\n",
       "      <td>LFUDDCMNKWEORN</td>\n",
       "      <td>195</td>\n",
       "    </tr>\n",
       "    <tr>\n",
       "      <th>13</th>\n",
       "      <td>JLPULHDHAOZNQI</td>\n",
       "      <td>182</td>\n",
       "    </tr>\n",
       "    <tr>\n",
       "      <th>14</th>\n",
       "      <td>LSOWKZULVQWMLY</td>\n",
       "      <td>180</td>\n",
       "    </tr>\n",
       "  </tbody>\n",
       "</table>\n",
       "</div>"
      ],
      "text/plain": [
       "        inchikey14  occurences\n",
       "0   NEGQHKSYEYVFTD         432\n",
       "1   SULIDBRAXVDKBU         426\n",
       "2   IQGPMZRCLCCXAG         308\n",
       "3   WTJKGGKOPKCXLL         295\n",
       "4   IIZPXYDJLKNOIY         235\n",
       "5   RWKUXQNLWDTSLO         234\n",
       "6   QIBZFHLFHCIUOT         225\n",
       "7   ZAYXPDDGEIJGGW         212\n",
       "8   QJWDAOSZZYVBJZ         210\n",
       "9   KILNVBDSWZSGLL         205\n",
       "10  RFVFQQWKPSOBED         202\n",
       "11  IESVDEZGAHUQJU         197\n",
       "12  LFUDDCMNKWEORN         195\n",
       "13  JLPULHDHAOZNQI         182\n",
       "14  LSOWKZULVQWMLY         180"
      ]
     },
     "execution_count": 14,
     "metadata": {},
     "output_type": "execute_result"
    }
   ],
   "source": [
    "suitable_inchikeys = pd.DataFrame(inchikeys_pd.str[:14].value_counts()[inchikeys_pd.str[:14].value_counts().values >= 5])\n",
    "suitable_inchikeys.reset_index(level=suitable_inchikeys.index.names, inplace=True)\n",
    "suitable_inchikeys.columns = (['inchikey14', 'occurences'])\n",
    "\n",
    "# Important: sort values to make it reproducible (same occurences have random order otherwise!)\n",
    "suitable_inchikeys = suitable_inchikeys.sort_values(['occurences', 'inchikey14'], ascending=False)\n",
    "suitable_inchikeys.head(15)"
   ]
  },
  {
   "cell_type": "code",
   "execution_count": 15,
   "metadata": {},
   "outputs": [
    {
     "name": "stdout",
     "output_type": "stream",
     "text": [
      "Number of spectra with inchikeys that exist >= 5 times: 4079\n"
     ]
    }
   ],
   "source": [
    "print(\"Number of spectra with inchikeys that exist >= 5 times:\", suitable_inchikeys.shape[0])"
   ]
  },
  {
   "cell_type": "markdown",
   "metadata": {},
   "source": [
    "### Randomly select 1000 inchikeys that exist >=5  times in the dataset"
   ]
  },
  {
   "cell_type": "code",
   "execution_count": 16,
   "metadata": {},
   "outputs": [
    {
     "name": "stdout",
     "output_type": "stream",
     "text": [
      "[  33 3233 1556 2547  457 3598  857 1878  705  803 1642  495 2866 1034\n",
      " 1517  564 2826  568 2575 3956  670 3317 1498 2971   96]\n"
     ]
    },
    {
     "data": {
      "text/plain": [
       "array(['SRRQPVVYXBTRQK', 'JUZYLCPPVHEVSV', 'UZXMLGUMBQQVME',\n",
       "       'PDAKXMIQFUHWQC', 'JFVKWCYZKMUTLH', 'HQPCSDADVLFHHO',\n",
       "       'HUPGTAGQEXENPN', 'YPKUMLKVFXFYOT', 'KWIUHFFTVRNATP',\n",
       "       'QJVXKWHHAMZTBY', 'PGERTGWKXFAEFR', 'MIHLTJZHRJACQQ',\n",
       "       'YFAGHNZHGGCZAX', 'LKWWJGGLULNRBP', 'XWTYSIMOBUGWOL',\n",
       "       'BPEXJHGGARTCIR', 'FHHVIBPVBBRLOR', 'YFPYXTNSQOUHPS',\n",
       "       'LTLYEAJONXGNFG', 'INOGLHRUEYDAHX', 'VGOJYSUPEJWUNN',\n",
       "       'BPICBUSOMSTKRF', 'ZQHJXKYYELWEOK', 'MXHRCPNRJAMMIM',\n",
       "       'QXMHHXQBBKDSSL'], dtype=object)"
      ]
     },
     "execution_count": 16,
     "metadata": {},
     "output_type": "execute_result"
    }
   ],
   "source": [
    "num_spectra = 1000\n",
    "\n",
    "np.random.seed(42) # to make it reproducible\n",
    "selection = np.random.choice(suitable_inchikeys.shape[0], num_spectra, replace=False)\n",
    "print(selection[:25])\n",
    "selected_inchikeys = suitable_inchikeys['inchikey14'].values[selection]\n",
    "selected_inchikeys[:25]"
   ]
  },
  {
   "cell_type": "code",
   "execution_count": 13,
   "metadata": {},
   "outputs": [
    {
     "name": "stdout",
     "output_type": "stream",
     "text": [
      "[  33 3233 1556 2547  457 3598  857 1878  705  803 1642  495 2866 1034\n",
      " 1517  564 2826  568 2575 3956  670 3317 1498 2971   96]\n"
     ]
    },
    {
     "data": {
      "text/plain": [
       "array(['SRRQPVVYXBTRQK', 'JUZYLCPPVHEVSV', 'UZXMLGUMBQQVME',\n",
       "       'PDAKXMIQFUHWQC', 'JFVKWCYZKMUTLH', 'HQPCSDADVLFHHO',\n",
       "       'HUPGTAGQEXENPN', 'YPKUMLKVFXFYOT', 'KWIUHFFTVRNATP',\n",
       "       'QJVXKWHHAMZTBY', 'PGERTGWKXFAEFR', 'MIHLTJZHRJACQQ',\n",
       "       'YFAGHNZHGGCZAX', 'LKWWJGGLULNRBP', 'XWTYSIMOBUGWOL',\n",
       "       'BPEXJHGGARTCIR', 'FHHVIBPVBBRLOR', 'YFPYXTNSQOUHPS',\n",
       "       'LTLYEAJONXGNFG', 'INOGLHRUEYDAHX', 'VGOJYSUPEJWUNN',\n",
       "       'BPICBUSOMSTKRF', 'ZQHJXKYYELWEOK', 'MXHRCPNRJAMMIM',\n",
       "       'QXMHHXQBBKDSSL'], dtype=object)"
      ]
     },
     "execution_count": 13,
     "metadata": {},
     "output_type": "execute_result"
    }
   ],
   "source": [
    "num_spectra = 1000\n",
    "\n",
    "np.random.seed(42) # to make it reproducible\n",
    "selection = np.random.choice(suitable_inchikeys.shape[0], num_spectra, replace=False)\n",
    "print(selection[:25])\n",
    "selected_inchikeys = suitable_inchikeys['inchikey14'].values[selection]\n",
    "selected_inchikeys[:25]"
   ]
  },
  {
   "cell_type": "markdown",
   "metadata": {},
   "source": [
    "### Randomly pick one spectra for each of the chosen inchikeys"
   ]
  },
  {
   "cell_type": "code",
   "execution_count": 17,
   "metadata": {},
   "outputs": [],
   "source": [
    "selected_spectra = []\n",
    "inchikeys_pd = pd.Series([x for x in Inchikeys]) #include all even empty ones to get the IDs right!\n",
    "\n",
    "np.random.seed(42) # to make it reproducible\n",
    "for inchikey in selected_inchikeys:\n",
    "    matches = inchikeys_pd[inchikeys_pd.str[:14] == inchikey].index.values\n",
    "    selected_spectra.append(int(np.random.choice(matches,1)[0]))"
   ]
  },
  {
   "cell_type": "code",
   "execution_count": 18,
   "metadata": {},
   "outputs": [
    {
     "data": {
      "text/plain": [
       "[52728, 6129, 78135, 62556, 73314, 21762, 12492, 88980, 63188, 74380]"
      ]
     },
     "execution_count": 18,
     "metadata": {},
     "output_type": "execute_result"
    }
   ],
   "source": [
    "selected_spectra[:10]"
   ]
  },
  {
   "cell_type": "code",
   "execution_count": 19,
   "metadata": {},
   "outputs": [
    {
     "name": "stdout",
     "output_type": "stream",
     "text": [
      "CCMSLIB00003128874 SRRQPVVYXBTRQK\n",
      "CCMSLIB00000005841 JUZYLCPPVHEVSV\n",
      "CCMSLIB00004701389 UZXMLGUMBQQVME\n",
      "CCMSLIB00000215466 PDAKXMIQFUHWQC\n",
      "CCMSLIB00004695353 JFVKWCYZKMUTLH\n",
      "CCMSLIB00003136589 HQPCSDADVLFHHO\n",
      "CCMSLIB00000850213 HUPGTAGQEXENPN\n",
      "CCMSLIB00004715739 YPKUMLKVFXFYOT\n",
      "CCMSLIB00000217500 KWIUHFFTVRNATP\n",
      "CCMSLIB00004696689 QJVXKWHHAMZTBY\n"
     ]
    }
   ],
   "source": [
    "# Show gnps IDs for selected spectra\n",
    "for ID in selected_spectra[:10]:\n",
    "    print(spectrums_s2v[ID].get(\"spectrumid\"),\n",
    "         spectrums_s2v[ID].get(\"inchikey\")[:14])"
   ]
  },
  {
   "cell_type": "markdown",
   "metadata": {},
   "source": [
    "## Train new model on AllPositive dataset WITHOUT selected spectra"
   ]
  },
  {
   "cell_type": "code",
   "execution_count": 20,
   "metadata": {},
   "outputs": [],
   "source": [
    "from spec2vec import Spec2Vec\n",
    "from spec2vec import SpectrumDocument"
   ]
  },
  {
   "cell_type": "code",
   "execution_count": 21,
   "metadata": {},
   "outputs": [],
   "source": [
    "documents_library_s2v = [SpectrumDocument(s, n_decimals=2) for i, s in enumerate(spectrums_s2v) if i not in selected_spectra]"
   ]
  },
  {
   "cell_type": "code",
   "execution_count": 22,
   "metadata": {},
   "outputs": [],
   "source": [
    "documents_library_classical = [SpectrumDocument(s, n_decimals=2) for i, s in enumerate(spectrums_classical) if i not in selected_spectra]"
   ]
  },
  {
   "cell_type": "code",
   "execution_count": 24,
   "metadata": {},
   "outputs": [
    {
     "data": {
      "text/plain": [
       "(94320, 95320)"
      ]
     },
     "execution_count": 24,
     "metadata": {},
     "output_type": "execute_result"
    }
   ],
   "source": [
    "len(documents_library_s2v), len(spectrums_s2v)  # 1000 should be removed"
   ]
  },
  {
   "cell_type": "code",
   "execution_count": 80,
   "metadata": {},
   "outputs": [
    {
     "name": "stdout",
     "output_type": "stream",
     "text": [
      "  Epoch 1 of 20.Change in loss after epoch 1: 5823507.0\n",
      "Saving model with name: C:\\OneDrive - Netherlands eScience Center\\Project_Wageningen_iOMEGA\\matchms\\data\\trained_models\\spec2vec_librarymatching_iter_1.model\n",
      "  Epoch 2 of 20.Change in loss after epoch 2: 4258069.0\n",
      "  Epoch 3 of 20.Change in loss after epoch 3: 3848631.0\n",
      "Saving model with name: C:\\OneDrive - Netherlands eScience Center\\Project_Wageningen_iOMEGA\\matchms\\data\\trained_models\\spec2vec_librarymatching_iter_3.model\n",
      "  Epoch 4 of 20.Change in loss after epoch 4: 3504193.0\n",
      "  Epoch 5 of 20.Change in loss after epoch 5: 2839918.0\n",
      "Saving model with name: C:\\OneDrive - Netherlands eScience Center\\Project_Wageningen_iOMEGA\\matchms\\data\\trained_models\\spec2vec_librarymatching_iter_5.model\n",
      "  Epoch 6 of 20.Change in loss after epoch 6: 2826748.0\n",
      "  Epoch 7 of 20.Change in loss after epoch 7: 2750716.0\n",
      "  Epoch 8 of 20.Change in loss after epoch 8: 2598782.0\n",
      "  Epoch 9 of 20.Change in loss after epoch 9: 2545554.0\n",
      "  Epoch 10 of 20.Change in loss after epoch 10: 2444560.0\n",
      "Saving model with name: C:\\OneDrive - Netherlands eScience Center\\Project_Wageningen_iOMEGA\\matchms\\data\\trained_models\\spec2vec_librarymatching_iter_10.model\n",
      "  Epoch 11 of 20.Change in loss after epoch 11: 1586370.0\n",
      "  Epoch 12 of 20.Change in loss after epoch 12: 1489240.0\n",
      "  Epoch 13 of 20.Change in loss after epoch 13: 1492488.0\n",
      "  Epoch 14 of 20.Change in loss after epoch 14: 1493500.0\n",
      "  Epoch 15 of 20.Change in loss after epoch 15: 1449560.0\n",
      "Saving model with name: C:\\OneDrive - Netherlands eScience Center\\Project_Wageningen_iOMEGA\\matchms\\data\\trained_models\\spec2vec_librarymatching_iter_15.model\n",
      "  Epoch 16 of 20.Change in loss after epoch 16: 1447036.0\n",
      "  Epoch 17 of 20.Change in loss after epoch 17: 1418848.0\n",
      "  Epoch 18 of 20.Change in loss after epoch 18: 1435396.0\n",
      "  Epoch 19 of 20.Change in loss after epoch 19: 1402264.0\n",
      "  Epoch 20 of 20.Change in loss after epoch 20: 1391116.0\n",
      "Saving model with name: C:\\OneDrive - Netherlands eScience Center\\Project_Wageningen_iOMEGA\\matchms\\data\\trained_models\\spec2vec_librarymatching.model\n"
     ]
    }
   ],
   "source": [
    "from spec2vec.model_building import train_new_word2vec_model\n",
    "\n",
    "path_models = os.path.join(path_data, \"trained_models\")\n",
    "model_file = os.path.join(path_models, \"spec2vec_librarymatching.model\")\n",
    "\n",
    "iterations = [1, 3, 5, 10, 15, 20]\n",
    "\n",
    "# Train model with default parameters\n",
    "model = train_new_word2vec_model(documents_library_s2v, iterations, model_file)"
   ]
  },
  {
   "cell_type": "markdown",
   "metadata": {},
   "source": [
    "## Actual library matching"
   ]
  },
  {
   "cell_type": "code",
   "execution_count": 25,
   "metadata": {},
   "outputs": [],
   "source": [
    "sys.path.insert(0, os.path.join(ROOT, \"custom_functions\"))"
   ]
  },
  {
   "cell_type": "code",
   "execution_count": 26,
   "metadata": {},
   "outputs": [],
   "source": [
    "from library_search import library_matching"
   ]
  },
  {
   "cell_type": "markdown",
   "metadata": {},
   "source": [
    "#### Load word2vec model"
   ]
  },
  {
   "cell_type": "code",
   "execution_count": 27,
   "metadata": {},
   "outputs": [],
   "source": [
    "path_models = os.path.join(path_data, \"trained_models\")\n",
    "model_file = os.path.join(path_models, \"spec2vec_librarymatching_iter_15.model\")\n",
    "model = gensim.models.Word2Vec.load(model_file)"
   ]
  },
  {
   "cell_type": "code",
   "execution_count": 28,
   "metadata": {},
   "outputs": [],
   "source": [
    "documents_query_s2v = [SpectrumDocument(spectrums_s2v[i], n_decimals=2) for i in selected_spectra]"
   ]
  },
  {
   "cell_type": "code",
   "execution_count": 29,
   "metadata": {},
   "outputs": [],
   "source": [
    "documents_query_classical = [SpectrumDocument(spectrums_classical[i], n_decimals=2) for i in selected_spectra]"
   ]
  },
  {
   "cell_type": "code",
   "execution_count": 30,
   "metadata": {},
   "outputs": [
    {
     "data": {
      "text/plain": [
       "1000"
      ]
     },
     "execution_count": 30,
     "metadata": {},
     "output_type": "execute_result"
    }
   ],
   "source": [
    "len(documents_query_s2v)"
   ]
  },
  {
   "cell_type": "code",
   "execution_count": 31,
   "metadata": {},
   "outputs": [
    {
     "data": {
      "text/plain": [
       "'SRRQPVVYXBTRQK-XMMPIXPASA-N'"
      ]
     },
     "execution_count": 31,
     "metadata": {},
     "output_type": "execute_result"
    }
   ],
   "source": [
    "documents_query_s2v[0]._obj.get(\"inchikey\")"
   ]
  },
  {
   "cell_type": "markdown",
   "metadata": {},
   "source": [
    "### Correct a few (< 10) spectrums with missing precursor_mz"
   ]
  },
  {
   "cell_type": "code",
   "execution_count": 32,
   "metadata": {},
   "outputs": [
    {
     "name": "stdout",
     "output_type": "stream",
     "text": [
      "2765\n",
      "parent mass new: 547.2247235480093 former was: -1.00727645199076\n",
      "precursor_mz new: 548.232 former was: 0.0\n",
      "2766\n",
      "parent mass new: 589.2357235480093 former was: -1.00727645199076\n",
      "precursor_mz new: 590.243 former was: 0.0\n",
      "3942\n",
      "parent mass new: 466.2697235480092 former was: -1.00727645199076\n",
      "precursor_mz new: 467.277 former was: 0.0\n",
      "3974\n",
      "parent mass new: 674.4887235480093 former was: -1.00727645199076\n",
      "precursor_mz new: 675.496 former was: 0.0\n",
      "3975\n",
      "parent mass new: 691.5147235480093 former was: -1.00727645199076\n",
      "precursor_mz new: 692.522 former was: 0.0\n",
      "3976\n",
      "parent mass new: 696.4707235480092 former was: -1.00727645199076\n",
      "precursor_mz new: 697.478 former was: 0.0\n",
      "3983\n",
      "parent mass new: 629.6107235480093 former was: -1.00727645199076\n",
      "precursor_mz new: 630.618 former was: 0.0\n",
      "3984\n",
      "parent mass new: 491.47072354800923 former was: -1.00727645199076\n",
      "precursor_mz new: 492.478 former was: 0.0\n",
      "3985\n",
      "parent mass new: 531.4627235480093 former was: -1.00727645199076\n",
      "precursor_mz new: 532.47 former was: 0.0\n",
      "21107\n",
      "parent mass new: 199.09972354800925 former was: -1.00727645199076\n",
      "precursor_mz new: 200.107 former was: 0.0\n",
      "21364\n",
      "parent mass new: 517.3137235480093 former was: -1.00727645199076\n",
      "precursor_mz new: 518.321 former was: 0.0\n",
      "22053\n",
      "parent mass new: 208.18272354800925 former was: -1.00727645199076\n",
      "precursor_mz new: 209.19 former was: 0.0\n"
     ]
    }
   ],
   "source": [
    "for i, spec in enumerate(spectrums_classical):\n",
    "    if not spec.get(\"precursor_mz\"):\n",
    "        print(i)\n",
    "        fix_mass = 0.0\n",
    "        for history in spec.metadata['annotation_history']:\n",
    "            fix_mass_test = float(history['Precursor_MZ'])\n",
    "            fix_mass = max(fix_mass, fix_mass_test)\n",
    "        charge = spec.get(\"charge\")\n",
    "        protons_mass = 1.00727645199076 * charge\n",
    "        precursor_mass = fix_mass * abs(charge)\n",
    "        parent_mass = precursor_mass - protons_mass\n",
    "        if parent_mass:\n",
    "            print(\"parent mass new:\", parent_mass, \"former was:\", spec.get(\"parent_mass\"))\n",
    "            spec.set(\"parent_mass\", parent_mass)\n",
    "        print(\"precursor_mz new:\", fix_mass, \"former was:\", spec.get(\"precursor_mz\"))\n",
    "        spec.set(\"precursor_mz\", fix_mass)"
   ]
  },
  {
   "cell_type": "code",
   "execution_count": 33,
   "metadata": {},
   "outputs": [
    {
     "name": "stdout",
     "output_type": "stream",
     "text": [
      "2765\n",
      "parent mass new: 547.2247235480093 former was: -1.00727645199076\n",
      "precursor_mz new: 548.232 former was: 0.0\n",
      "2766\n",
      "parent mass new: 589.2357235480093 former was: -1.00727645199076\n",
      "precursor_mz new: 590.243 former was: 0.0\n",
      "3942\n",
      "parent mass new: 466.2697235480092 former was: -1.00727645199076\n",
      "precursor_mz new: 467.277 former was: 0.0\n",
      "3974\n",
      "parent mass new: 674.4887235480093 former was: -1.00727645199076\n",
      "precursor_mz new: 675.496 former was: 0.0\n",
      "3975\n",
      "parent mass new: 691.5147235480093 former was: -1.00727645199076\n",
      "precursor_mz new: 692.522 former was: 0.0\n",
      "3976\n",
      "parent mass new: 696.4707235480092 former was: -1.00727645199076\n",
      "precursor_mz new: 697.478 former was: 0.0\n",
      "3983\n",
      "parent mass new: 629.6107235480093 former was: -1.00727645199076\n",
      "precursor_mz new: 630.618 former was: 0.0\n",
      "3984\n",
      "parent mass new: 491.47072354800923 former was: -1.00727645199076\n",
      "precursor_mz new: 492.478 former was: 0.0\n",
      "3985\n",
      "parent mass new: 531.4627235480093 former was: -1.00727645199076\n",
      "precursor_mz new: 532.47 former was: 0.0\n",
      "21107\n",
      "parent mass new: 199.09972354800925 former was: -1.00727645199076\n",
      "precursor_mz new: 200.107 former was: 0.0\n",
      "21364\n",
      "parent mass new: 517.3137235480093 former was: -1.00727645199076\n",
      "precursor_mz new: 518.321 former was: 0.0\n",
      "22053\n",
      "parent mass new: 208.18272354800925 former was: -1.00727645199076\n",
      "precursor_mz new: 209.19 former was: 0.0\n"
     ]
    }
   ],
   "source": [
    "for i, spec in enumerate(spectrums_s2v):\n",
    "    if not spec.get(\"precursor_mz\"):\n",
    "        print(i)\n",
    "        fix_mass = 0.0\n",
    "        for history in spec.metadata['annotation_history']:\n",
    "            fix_mass_test = float(history['Precursor_MZ'])\n",
    "            fix_mass = max(fix_mass, fix_mass_test)\n",
    "        charge = spec.get(\"charge\")\n",
    "        protons_mass = 1.00727645199076 * charge\n",
    "        precursor_mass = fix_mass * abs(charge)\n",
    "        parent_mass = precursor_mass - protons_mass\n",
    "        if parent_mass:\n",
    "            print(\"parent mass new:\", parent_mass, \"former was:\", spec.get(\"parent_mass\"))\n",
    "            spec.set(\"parent_mass\", parent_mass)\n",
    "        print(\"precursor_mz new:\", fix_mass, \"former was:\", spec.get(\"precursor_mz\"))\n",
    "        spec.set(\"precursor_mz\", fix_mass)"
   ]
  },
  {
   "cell_type": "markdown",
   "metadata": {},
   "source": [
    "### Run Spec2Vec and parentmass based library matching for 1000 against 94320 spectra"
   ]
  },
  {
   "cell_type": "code",
   "execution_count": 34,
   "metadata": {},
   "outputs": [
    {
     "name": "stdout",
     "output_type": "stream",
     "text": [
      "Pre-selection includes spec2vec top 20.\n"
     ]
    }
   ],
   "source": [
    "found_matches_s2v = library_matching(documents_query_s2v, documents_library_s2v,\n",
    "                                     model,\n",
    "                                     presearch_based_on=[\"parentmass\", \"spec2vec-top20\"],\n",
    "                                     ignore_non_annotated=True,\n",
    "                                     intensity_weighting_power=0.5,\n",
    "                                     allowed_missing_percentage=5.0,\n",
    "                                     cosine_tol=0.005,\n",
    "                                     mass_tolerance=1.0)"
   ]
  },
  {
   "cell_type": "code",
   "execution_count": 35,
   "metadata": {},
   "outputs": [],
   "source": [
    "found_matches_classical = library_matching(documents_query_classical, documents_library_classical,\n",
    "                                           model,\n",
    "                                           presearch_based_on=[\"parentmass\"],\n",
    "                                           include_scores=[\"cosine\", \"modcosine\"],\n",
    "                                           ignore_non_annotated=True,\n",
    "                                           intensity_weighting_power=0.5,\n",
    "                                           allowed_missing_percentage=50.0,\n",
    "                                           cosine_tol=0.005,\n",
    "                                           mass_tolerance=1.0)"
   ]
  },
  {
   "cell_type": "code",
   "execution_count": 36,
   "metadata": {},
   "outputs": [
    {
     "data": {
      "text/plain": [
       "(1000, 1000)"
      ]
     },
     "execution_count": 36,
     "metadata": {},
     "output_type": "execute_result"
    }
   ],
   "source": [
    "len(found_matches_s2v), len(found_matches_classical)"
   ]
  },
  {
   "cell_type": "code",
   "execution_count": 38,
   "metadata": {},
   "outputs": [
    {
     "data": {
      "text/html": [
       "<div>\n",
       "<style scoped>\n",
       "    .dataframe tbody tr th:only-of-type {\n",
       "        vertical-align: middle;\n",
       "    }\n",
       "\n",
       "    .dataframe tbody tr th {\n",
       "        vertical-align: top;\n",
       "    }\n",
       "\n",
       "    .dataframe thead th {\n",
       "        text-align: right;\n",
       "    }\n",
       "</style>\n",
       "<table border=\"1\" class=\"dataframe\">\n",
       "  <thead>\n",
       "    <tr style=\"text-align: right;\">\n",
       "      <th></th>\n",
       "      <th>cosine_score</th>\n",
       "      <th>cosine_matches</th>\n",
       "      <th>mod_cosine_score</th>\n",
       "      <th>mod_cosine_matches</th>\n",
       "      <th>mass_match</th>\n",
       "      <th>s2v_score</th>\n",
       "    </tr>\n",
       "  </thead>\n",
       "  <tbody>\n",
       "    <tr>\n",
       "      <th>46003</th>\n",
       "      <td>0.986814</td>\n",
       "      <td>3</td>\n",
       "      <td>0.986814</td>\n",
       "      <td>3</td>\n",
       "      <td>1.0</td>\n",
       "      <td>0.887800</td>\n",
       "    </tr>\n",
       "    <tr>\n",
       "      <th>38195</th>\n",
       "      <td>0.050233</td>\n",
       "      <td>1</td>\n",
       "      <td>0.991799</td>\n",
       "      <td>3</td>\n",
       "      <td>0.0</td>\n",
       "      <td>0.858902</td>\n",
       "    </tr>\n",
       "    <tr>\n",
       "      <th>48062</th>\n",
       "      <td>0.043463</td>\n",
       "      <td>2</td>\n",
       "      <td>0.043463</td>\n",
       "      <td>2</td>\n",
       "      <td>0.0</td>\n",
       "      <td>0.848561</td>\n",
       "    </tr>\n",
       "    <tr>\n",
       "      <th>45969</th>\n",
       "      <td>0.050809</td>\n",
       "      <td>1</td>\n",
       "      <td>0.987393</td>\n",
       "      <td>2</td>\n",
       "      <td>0.0</td>\n",
       "      <td>0.844523</td>\n",
       "    </tr>\n",
       "    <tr>\n",
       "      <th>32755</th>\n",
       "      <td>0.150782</td>\n",
       "      <td>1</td>\n",
       "      <td>0.766153</td>\n",
       "      <td>2</td>\n",
       "      <td>0.0</td>\n",
       "      <td>0.811812</td>\n",
       "    </tr>\n",
       "    <tr>\n",
       "      <th>...</th>\n",
       "      <td>...</td>\n",
       "      <td>...</td>\n",
       "      <td>...</td>\n",
       "      <td>...</td>\n",
       "      <td>...</td>\n",
       "      <td>...</td>\n",
       "    </tr>\n",
       "    <tr>\n",
       "      <th>78615</th>\n",
       "      <td>0.000000</td>\n",
       "      <td>0</td>\n",
       "      <td>0.000000</td>\n",
       "      <td>0</td>\n",
       "      <td>1.0</td>\n",
       "      <td>-0.085632</td>\n",
       "    </tr>\n",
       "    <tr>\n",
       "      <th>1556</th>\n",
       "      <td>0.000000</td>\n",
       "      <td>0</td>\n",
       "      <td>0.000000</td>\n",
       "      <td>0</td>\n",
       "      <td>1.0</td>\n",
       "      <td>-0.088960</td>\n",
       "    </tr>\n",
       "    <tr>\n",
       "      <th>12317</th>\n",
       "      <td>0.000000</td>\n",
       "      <td>0</td>\n",
       "      <td>0.000000</td>\n",
       "      <td>0</td>\n",
       "      <td>1.0</td>\n",
       "      <td>-0.092868</td>\n",
       "    </tr>\n",
       "    <tr>\n",
       "      <th>74298</th>\n",
       "      <td>0.000000</td>\n",
       "      <td>0</td>\n",
       "      <td>0.000000</td>\n",
       "      <td>0</td>\n",
       "      <td>1.0</td>\n",
       "      <td>-0.099162</td>\n",
       "    </tr>\n",
       "    <tr>\n",
       "      <th>12571</th>\n",
       "      <td>0.001908</td>\n",
       "      <td>2</td>\n",
       "      <td>0.001908</td>\n",
       "      <td>2</td>\n",
       "      <td>1.0</td>\n",
       "      <td>-0.117237</td>\n",
       "    </tr>\n",
       "  </tbody>\n",
       "</table>\n",
       "<p>259 rows × 6 columns</p>\n",
       "</div>"
      ],
      "text/plain": [
       "       cosine_score  cosine_matches  mod_cosine_score  mod_cosine_matches  \\\n",
       "46003      0.986814               3          0.986814                   3   \n",
       "38195      0.050233               1          0.991799                   3   \n",
       "48062      0.043463               2          0.043463                   2   \n",
       "45969      0.050809               1          0.987393                   2   \n",
       "32755      0.150782               1          0.766153                   2   \n",
       "...             ...             ...               ...                 ...   \n",
       "78615      0.000000               0          0.000000                   0   \n",
       "1556       0.000000               0          0.000000                   0   \n",
       "12317      0.000000               0          0.000000                   0   \n",
       "74298      0.000000               0          0.000000                   0   \n",
       "12571      0.001908               2          0.001908                   2   \n",
       "\n",
       "       mass_match  s2v_score  \n",
       "46003         1.0   0.887800  \n",
       "38195         0.0   0.858902  \n",
       "48062         0.0   0.848561  \n",
       "45969         0.0   0.844523  \n",
       "32755         0.0   0.811812  \n",
       "...           ...        ...  \n",
       "78615         1.0  -0.085632  \n",
       "1556          1.0  -0.088960  \n",
       "12317         1.0  -0.092868  \n",
       "74298         1.0  -0.099162  \n",
       "12571         1.0  -0.117237  \n",
       "\n",
       "[259 rows x 6 columns]"
      ]
     },
     "execution_count": 38,
     "metadata": {},
     "output_type": "execute_result"
    }
   ],
   "source": [
    "found_matches_s2v[0].sort_values(by=[\"s2v_score\"], ascending=False)"
   ]
  },
  {
   "cell_type": "code",
   "execution_count": 39,
   "metadata": {},
   "outputs": [
    {
     "data": {
      "text/html": [
       "<div>\n",
       "<style scoped>\n",
       "    .dataframe tbody tr th:only-of-type {\n",
       "        vertical-align: middle;\n",
       "    }\n",
       "\n",
       "    .dataframe tbody tr th {\n",
       "        vertical-align: top;\n",
       "    }\n",
       "\n",
       "    .dataframe thead th {\n",
       "        text-align: right;\n",
       "    }\n",
       "</style>\n",
       "<table border=\"1\" class=\"dataframe\">\n",
       "  <thead>\n",
       "    <tr style=\"text-align: right;\">\n",
       "      <th></th>\n",
       "      <th>cosine_score</th>\n",
       "      <th>cosine_matches</th>\n",
       "      <th>mod_cosine_score</th>\n",
       "      <th>mod_cosine_matches</th>\n",
       "      <th>mass_match</th>\n",
       "    </tr>\n",
       "  </thead>\n",
       "  <tbody>\n",
       "    <tr>\n",
       "      <th>46003</th>\n",
       "      <td>0.986966</td>\n",
       "      <td>2</td>\n",
       "      <td>0.986966</td>\n",
       "      <td>2</td>\n",
       "      <td>1.0</td>\n",
       "    </tr>\n",
       "    <tr>\n",
       "      <th>42329</th>\n",
       "      <td>0.955671</td>\n",
       "      <td>1</td>\n",
       "      <td>0.955671</td>\n",
       "      <td>1</td>\n",
       "      <td>1.0</td>\n",
       "    </tr>\n",
       "    <tr>\n",
       "      <th>38193</th>\n",
       "      <td>0.953291</td>\n",
       "      <td>1</td>\n",
       "      <td>0.953291</td>\n",
       "      <td>1</td>\n",
       "      <td>1.0</td>\n",
       "    </tr>\n",
       "    <tr>\n",
       "      <th>33654</th>\n",
       "      <td>0.953129</td>\n",
       "      <td>1</td>\n",
       "      <td>0.953129</td>\n",
       "      <td>1</td>\n",
       "      <td>1.0</td>\n",
       "    </tr>\n",
       "    <tr>\n",
       "      <th>47232</th>\n",
       "      <td>0.951402</td>\n",
       "      <td>1</td>\n",
       "      <td>0.951402</td>\n",
       "      <td>1</td>\n",
       "      <td>1.0</td>\n",
       "    </tr>\n",
       "    <tr>\n",
       "      <th>...</th>\n",
       "      <td>...</td>\n",
       "      <td>...</td>\n",
       "      <td>...</td>\n",
       "      <td>...</td>\n",
       "      <td>...</td>\n",
       "    </tr>\n",
       "    <tr>\n",
       "      <th>37192</th>\n",
       "      <td>0.000000</td>\n",
       "      <td>0</td>\n",
       "      <td>0.000000</td>\n",
       "      <td>0</td>\n",
       "      <td>1.0</td>\n",
       "    </tr>\n",
       "    <tr>\n",
       "      <th>37594</th>\n",
       "      <td>0.000000</td>\n",
       "      <td>0</td>\n",
       "      <td>0.000000</td>\n",
       "      <td>0</td>\n",
       "      <td>1.0</td>\n",
       "    </tr>\n",
       "    <tr>\n",
       "      <th>37595</th>\n",
       "      <td>0.000000</td>\n",
       "      <td>0</td>\n",
       "      <td>0.000000</td>\n",
       "      <td>0</td>\n",
       "      <td>1.0</td>\n",
       "    </tr>\n",
       "    <tr>\n",
       "      <th>37795</th>\n",
       "      <td>0.000000</td>\n",
       "      <td>0</td>\n",
       "      <td>0.000000</td>\n",
       "      <td>0</td>\n",
       "      <td>1.0</td>\n",
       "    </tr>\n",
       "    <tr>\n",
       "      <th>93054</th>\n",
       "      <td>0.000000</td>\n",
       "      <td>0</td>\n",
       "      <td>0.000000</td>\n",
       "      <td>0</td>\n",
       "      <td>1.0</td>\n",
       "    </tr>\n",
       "  </tbody>\n",
       "</table>\n",
       "<p>241 rows × 5 columns</p>\n",
       "</div>"
      ],
      "text/plain": [
       "       cosine_score  cosine_matches  mod_cosine_score  mod_cosine_matches  \\\n",
       "46003      0.986966               2          0.986966                   2   \n",
       "42329      0.955671               1          0.955671                   1   \n",
       "38193      0.953291               1          0.953291                   1   \n",
       "33654      0.953129               1          0.953129                   1   \n",
       "47232      0.951402               1          0.951402                   1   \n",
       "...             ...             ...               ...                 ...   \n",
       "37192      0.000000               0          0.000000                   0   \n",
       "37594      0.000000               0          0.000000                   0   \n",
       "37595      0.000000               0          0.000000                   0   \n",
       "37795      0.000000               0          0.000000                   0   \n",
       "93054      0.000000               0          0.000000                   0   \n",
       "\n",
       "       mass_match  \n",
       "46003         1.0  \n",
       "42329         1.0  \n",
       "38193         1.0  \n",
       "33654         1.0  \n",
       "47232         1.0  \n",
       "...           ...  \n",
       "37192         1.0  \n",
       "37594         1.0  \n",
       "37595         1.0  \n",
       "37795         1.0  \n",
       "93054         1.0  \n",
       "\n",
       "[241 rows x 5 columns]"
      ]
     },
     "execution_count": 39,
     "metadata": {},
     "output_type": "execute_result"
    }
   ],
   "source": [
    "found_matches_classical[0].sort_values(by=[\"cosine_score\"], ascending=False)"
   ]
  },
  {
   "cell_type": "code",
   "execution_count": 73,
   "metadata": {},
   "outputs": [
    {
     "name": "stdout",
     "output_type": "stream",
     "text": [
      "SRRQPVVYXBTRQK-XMMPIXPASA-N\n",
      "SRRQPVVYXBTRQK-XMMPIXPASA-N\n"
     ]
    }
   ],
   "source": [
    "ID = 0\n",
    "threshold = 0.5\n",
    "min_match = 1\n",
    "df_select = found_matches[ID][(found_matches[ID]['mass_match'] == 1)\n",
    "                     & (found_matches[ID]['cosine_score'] > threshold)\n",
    "                     & (found_matches[ID]['cosine_matches'] >= min_match)]\n",
    "best_match_ID = df_select.sort_values(by=['cosine_score'], ascending=False).index[0]\n",
    "print(documents_library[best_match_ID]._obj.get(\"inchikey\"))\n",
    "print(documents_query[ID]._obj.get(\"inchikey\"))"
   ]
  },
  {
   "cell_type": "markdown",
   "metadata": {},
   "source": [
    "## Evaluate different similarity score thresholds"
   ]
  },
  {
   "cell_type": "code",
   "execution_count": 40,
   "metadata": {},
   "outputs": [
    {
     "name": "stdout",
     "output_type": "stream",
     "text": [
      "Checking matches for cosine score > 0.0\n",
      "Checking matches for cosine score > 0.05\n",
      "Checking matches for cosine score > 0.1\n",
      "Checking matches for cosine score > 0.15000000000000002\n",
      "Checking matches for cosine score > 0.2\n",
      "Checking matches for cosine score > 0.25\n",
      "Checking matches for cosine score > 0.30000000000000004\n",
      "Checking matches for cosine score > 0.35000000000000003\n",
      "Checking matches for cosine score > 0.4\n",
      "Checking matches for cosine score > 0.45\n",
      "Checking matches for cosine score > 0.5\n",
      "Checking matches for cosine score > 0.55\n",
      "Checking matches for cosine score > 0.6000000000000001\n",
      "Checking matches for cosine score > 0.65\n",
      "Checking matches for cosine score > 0.7000000000000001\n",
      "Checking matches for cosine score > 0.75\n",
      "Checking matches for cosine score > 0.8\n",
      "Checking matches for cosine score > 0.8500000000000001\n",
      "Checking matches for cosine score > 0.9\n",
      "Checking matches for cosine score > 0.9500000000000001\n"
     ]
    }
   ],
   "source": [
    "min_match = 2\n",
    "cosine_thresholds = np.arange(0, 1, 0.05)\n",
    "\n",
    "test_matches_min2 = []\n",
    "for threshold in cosine_thresholds:\n",
    "    print(\"Checking matches for cosine score >\", threshold)\n",
    "    test_matches = []\n",
    "    \n",
    "    for ID in range(len(documents_query_classical)):\n",
    "        if len(found_matches_classical[ID]) > 0:\n",
    "            # Scenario 1: mass + sort by cosine\n",
    "            df_select = found_matches_classical[ID][(found_matches_classical[ID]['mass_match'] == 1)\n",
    "                                         & (found_matches_classical[ID]['cosine_score'] > threshold)\n",
    "                                         & (found_matches_classical[ID]['cosine_matches'] >= min_match)]\n",
    "\n",
    "            if df_select.shape[0] > 0:\n",
    "                best_match_ID = df_select.sort_values(by=['cosine_score'], ascending=False).index[0]\n",
    "                inchikey_selected = documents_library_classical[best_match_ID]._obj.get(\"inchikey\")[:14]\n",
    "                inchikey_query = documents_query_classical[ID]._obj.get(\"inchikey\")[:14]\n",
    "\n",
    "                best_bet = 1 * (inchikey_selected == inchikey_query)\n",
    "            else:\n",
    "                best_bet = -1 # meaning: not found\n",
    "            test_matches.append(best_bet)\n",
    "\n",
    "    # Make arrays from lists:\n",
    "    test_arr = np.array(test_matches)\n",
    "\n",
    "    test_matches_min2.append([np.sum(test_arr == 1), np.sum(test_arr == 0), np.sum(test_arr == -1)])"
   ]
  },
  {
   "cell_type": "code",
   "execution_count": 41,
   "metadata": {},
   "outputs": [
    {
     "data": {
      "text/plain": [
       "Text(0, 0.5, 'true positives')"
      ]
     },
     "execution_count": 41,
     "metadata": {},
     "output_type": "execute_result"
    },
    {
     "data": {
      "image/png": "[encoded data removed]",
      "text/plain": [
       "<Figure size 504x432 with 1 Axes>"
      ]
     },
     "metadata": {
      "needs_background": "light"
     },
     "output_type": "display_data"
    }
   ],
   "source": [
    "test_matches_arr = np.array(test_matches_min2)\n",
    "\n",
    "plt.figure(figsize=(7,6))\n",
    "plt.style.use('ggplot')\n",
    "plt.scatter(test_matches_arr[:,1], test_matches_arr[:,0])\n",
    "plt.xlabel('false positives')\n",
    "plt.ylabel('true positives')"
   ]
  },
  {
   "cell_type": "code",
   "execution_count": 42,
   "metadata": {},
   "outputs": [
    {
     "name": "stdout",
     "output_type": "stream",
     "text": [
      "Checking matches for cosine score > 0.0\n",
      "Checking matches for cosine score > 0.05\n",
      "Checking matches for cosine score > 0.1\n",
      "Checking matches for cosine score > 0.15000000000000002\n",
      "Checking matches for cosine score > 0.2\n",
      "Checking matches for cosine score > 0.25\n",
      "Checking matches for cosine score > 0.30000000000000004\n",
      "Checking matches for cosine score > 0.35000000000000003\n",
      "Checking matches for cosine score > 0.4\n",
      "Checking matches for cosine score > 0.45\n",
      "Checking matches for cosine score > 0.5\n",
      "Checking matches for cosine score > 0.55\n",
      "Checking matches for cosine score > 0.6000000000000001\n",
      "Checking matches for cosine score > 0.65\n",
      "Checking matches for cosine score > 0.7000000000000001\n",
      "Checking matches for cosine score > 0.75\n",
      "Checking matches for cosine score > 0.8\n",
      "Checking matches for cosine score > 0.8500000000000001\n",
      "Checking matches for cosine score > 0.9\n",
      "Checking matches for cosine score > 0.9500000000000001\n"
     ]
    }
   ],
   "source": [
    "min_match = 6\n",
    "cosine_thresholds = np.arange(0, 1, 0.05)\n",
    "\n",
    "test_matches_min6 = []\n",
    "for threshold in cosine_thresholds:\n",
    "    print(\"Checking matches for cosine score >\", threshold)\n",
    "    test_matches = []\n",
    "    \n",
    "    for ID in range(len(documents_query_classical)):\n",
    "        if len(found_matches_classical[ID]) > 0:\n",
    "            # Scenario 1: mass + sort by cosine\n",
    "            df_select = found_matches_classical[ID][(found_matches_classical[ID]['mass_match'] == 1)\n",
    "                                             & (found_matches_classical[ID]['cosine_score'] > threshold)\n",
    "                                             & (found_matches_classical[ID]['cosine_matches'] >= min_match)]\n",
    "\n",
    "            if df_select.shape[0] > 0:\n",
    "                best_match_ID = df_select.sort_values(by=['cosine_score'], ascending=False).index[0]\n",
    "                inchikey_selected = documents_library_classical[best_match_ID]._obj.get(\"inchikey\")[:14]\n",
    "                inchikey_query = documents_query_classical[ID]._obj.get(\"inchikey\")[:14]\n",
    "\n",
    "                best_bet = 1 * (inchikey_selected == inchikey_query)\n",
    "            else:\n",
    "                best_bet = -1 # meaning: not found\n",
    "            test_matches.append(best_bet)\n",
    "\n",
    "    # Make arrays from lists:\n",
    "    test_arr = np.array(test_matches)\n",
    "    \n",
    "    test_matches_min6.append([np.sum(test_arr == 1), np.sum(test_arr == 0), np.sum(test_arr == -1)])"
   ]
  },
  {
   "cell_type": "code",
   "execution_count": 43,
   "metadata": {},
   "outputs": [
    {
     "data": {
      "text/plain": [
       "Text(0, 0.5, 'true positives')"
      ]
     },
     "execution_count": 43,
     "metadata": {},
     "output_type": "execute_result"
    },
    {
     "data": {
      "image/png": "[encoded data removed]",
      "text/plain": [
       "<Figure size 504x432 with 1 Axes>"
      ]
     },
     "metadata": {},
     "output_type": "display_data"
    }
   ],
   "source": [
    "test_matches_arr = np.array(test_matches_min6)\n",
    "\n",
    "plt.figure(figsize=(7,6))\n",
    "plt.style.use('ggplot')\n",
    "plt.scatter(test_matches_arr[:,1], test_matches_arr[:,0])\n",
    "plt.xlabel('false positives')\n",
    "plt.ylabel('true positives')"
   ]
  },
  {
   "cell_type": "code",
   "execution_count": 44,
   "metadata": {},
   "outputs": [
    {
     "name": "stdout",
     "output_type": "stream",
     "text": [
      "Checking matches for S2V score > 0.0\n",
      "Checking matches for S2V score > 0.05\n",
      "Checking matches for S2V score > 0.1\n",
      "Checking matches for S2V score > 0.15000000000000002\n",
      "Checking matches for S2V score > 0.2\n",
      "Checking matches for S2V score > 0.25\n",
      "Checking matches for S2V score > 0.30000000000000004\n",
      "Checking matches for S2V score > 0.35000000000000003\n",
      "Checking matches for S2V score > 0.4\n",
      "Checking matches for S2V score > 0.45\n",
      "Checking matches for S2V score > 0.5\n",
      "Checking matches for S2V score > 0.55\n",
      "Checking matches for S2V score > 0.6000000000000001\n",
      "Checking matches for S2V score > 0.65\n",
      "Checking matches for S2V score > 0.7000000000000001\n",
      "Checking matches for S2V score > 0.75\n",
      "Checking matches for S2V score > 0.8\n",
      "Checking matches for S2V score > 0.8500000000000001\n",
      "Checking matches for S2V score > 0.9\n",
      "Checking matches for S2V score > 0.9500000000000001\n"
     ]
    }
   ],
   "source": [
    "test_matches_s2v = []\n",
    "\n",
    "cosine_thresholds = np.arange(0,1,0.05)\n",
    "\n",
    "for threshold in cosine_thresholds:\n",
    "    print(\"Checking matches for S2V score >\", threshold)\n",
    "    test_matches = []\n",
    "    \n",
    "    for ID in range(len(documents_query_s2v)):\n",
    "\n",
    "        # Scenario 2: mass + sort by Spec2Vec\n",
    "        df_select = found_matches_s2v[ID][(found_matches_s2v[ID]['mass_match'] == 1)\n",
    "                                      & (found_matches_s2v[ID]['s2v_score'] > threshold)]\n",
    "        if df_select.shape[0] > 0:\n",
    "            best_match_ID = df_select.sort_values(by=['s2v_score'], ascending=False).index[0]\n",
    "            inchikey_selected = documents_library_s2v[best_match_ID]._obj.get(\"inchikey\")[:14]\n",
    "            inchikey_query = documents_query_s2v[ID]._obj.get(\"inchikey\")[:14]\n",
    "            \n",
    "            best_bet = 1 * (inchikey_selected == inchikey_query)\n",
    "        else:\n",
    "            best_bet = -1 # meaning: not found\n",
    "        test_matches.append(best_bet)\n",
    "\n",
    "    # Make arrays from lists:\n",
    "    test_arr = np.array(test_matches)\n",
    "    \n",
    "    test_matches_s2v.append([np.sum(test_arr == 1), np.sum(test_arr == 0), np.sum(test_arr == -1)])"
   ]
  },
  {
   "cell_type": "code",
   "execution_count": 45,
   "metadata": {},
   "outputs": [
    {
     "data": {
      "text/plain": [
       "Text(0, 0.5, 'true positives')"
      ]
     },
     "execution_count": 45,
     "metadata": {},
     "output_type": "execute_result"
    },
    {
     "data": {
      "image/png": "[encoded data removed]",
      "text/plain": [
       "<Figure size 504x432 with 1 Axes>"
      ]
     },
     "metadata": {},
     "output_type": "display_data"
    }
   ],
   "source": [
    "test_matches_s2v_arr = np.array(test_matches_s2v)\n",
    "\n",
    "plt.figure(figsize=(7,6))\n",
    "plt.style.use('ggplot')\n",
    "plt.scatter(test_matches_s2v_arr[:,1], test_matches_s2v_arr[:,0])\n",
    "plt.xlabel('false positives')\n",
    "plt.ylabel('true positives')"
   ]
  },
  {
   "cell_type": "code",
   "execution_count": 46,
   "metadata": {},
   "outputs": [
    {
     "data": {
      "image/png": "[encoded data removed]",
      "text/plain": [
       "<Figure size 504x432 with 1 Axes>"
      ]
     },
     "metadata": {},
     "output_type": "display_data"
    }
   ],
   "source": [
    "test_matches_min2_arr = np.array(test_matches_min2)\n",
    "test_matches_min6_arr = np.array(test_matches_min6)\n",
    "test_matches_s2v_arr = np.array(test_matches_s2v)\n",
    "\n",
    "plt.figure(figsize=(7,6))\n",
    "plt.style.use('ggplot')\n",
    "plt.plot(test_matches_s2v_arr[:,1], test_matches_s2v_arr[:,0], \n",
    "         'o-', label='Spec2Vec')\n",
    "plt.plot(test_matches_min2_arr[:,1], test_matches_min2_arr[:,0], \n",
    "         '.--', color='black', alpha=0.5, label='cosine (min match = 2)')\n",
    "plt.plot(test_matches_min6_arr[:,1], test_matches_min6_arr[:,0], \n",
    "         'o-', color='black', label='cosine (min match = 6)')\n",
    "plt.title('true/false positive library matches')\n",
    "plt.legend(fontsize=14)\n",
    "plt.xlabel('false matches (out of 1000 query spectra)')\n",
    "plt.ylabel('correct matches (out of 1000 query spectra)')\n",
    "plt.savefig('library_matching_true_false_positives_absolute_200728.pdf')"
   ]
  },
  {
   "cell_type": "code",
   "execution_count": 52,
   "metadata": {},
   "outputs": [
    {
     "data": {
      "image/png": "[encoded data removed]",
      "text/plain": [
       "<Figure size 504x432 with 1 Axes>"
      ]
     },
     "metadata": {},
     "output_type": "display_data"
    }
   ],
   "source": [
    "min_match = 6\n",
    "#test_matches_cosine_arr = np.array(test_matches_ROC_min2)\n",
    "test_matches_cosine_arr = np.array(test_matches_min6)\n",
    "test_matches_s2v_arr = np.array(test_matches_s2v)\n",
    "\n",
    "thresholds = np.arange(0, 1, 0.05)\n",
    "label_picks = [0,4,8,12,14,15,16,17,18,19]\n",
    "\n",
    "plt.figure(figsize=(7,6))\n",
    "plt.style.use('ggplot')\n",
    "num_max = np.sum(test_matches_arr[0,:])\n",
    "\n",
    "plt.plot(test_matches_s2v_arr[:,1]/num_max, test_matches_s2v_arr[:,0]/num_max, \n",
    "         'o-', label='Spec2Vec')\n",
    "plt.plot(test_matches_cosine_arr[:,1]/num_max, test_matches_cosine_arr[:,0]/num_max, \n",
    "         'o-', color='black', label='cosine (min match = {})'.format(min_match))\n",
    "for i, threshold in enumerate(thresholds):\n",
    "    if i in label_picks:\n",
    "        plt.annotate(\">{:.2}\".format(threshold),\n",
    "                    (test_matches_s2v_arr[i,1]/num_max, test_matches_s2v_arr[i,0]/num_max),\n",
    "                    textcoords=\"offset points\", xytext=(2,-10))\n",
    "        plt.annotate(\">{:.2}\".format(threshold),\n",
    "                    (test_matches_cosine_arr[i,1]/num_max, test_matches_cosine_arr[i,0]/num_max),\n",
    "                    textcoords=\"offset points\", xytext=(2,-10))\n",
    "\n",
    "#plt.plot(test_matches_ROC_min2_arr[:,1]/num_max, test_matches_ROC_min2_arr[:,0]/num_max, \n",
    "#         '.--', color='black', alpha=0.5, label='cosine (min match = 2)')\n",
    "\n",
    "plt.title('true/false positives per query')\n",
    "plt.legend(fontsize=14)\n",
    "plt.xlabel('false positives per query')\n",
    "plt.ylabel('true positive per query')\n",
    "#plt.xlim([0, 0.3])\n",
    "plt.savefig('library_matching_true_false_positives_labeled_200728.pdf')"
   ]
  },
  {
   "cell_type": "code",
   "execution_count": 49,
   "metadata": {},
   "outputs": [
    {
     "data": {
      "image/png": "[encoded data removed]",
      "text/plain": [
       "<Figure size 504x432 with 1 Axes>"
      ]
     },
     "metadata": {},
     "output_type": "display_data"
    }
   ],
   "source": [
    "min_match = 2\n",
    "test_matches_cosine_arr = np.array(test_matches_min2)\n",
    "#test_matches_cosine_arr = np.array(test_matches_min6)\n",
    "test_matches_s2v_arr = np.array(test_matches_s2v)\n",
    "\n",
    "thresholds = np.arange(0, 1, 0.05)\n",
    "label_picks = [0,4,8,10,12,14,15,16,17,18,19]\n",
    "\n",
    "plt.figure(figsize=(7,6))\n",
    "plt.style.use('ggplot')\n",
    "num_max = np.sum(test_matches_arr[0,:])\n",
    "\n",
    "plt.plot(test_matches_s2v_arr[:,1]/num_max, test_matches_s2v_arr[:,0]/num_max, \n",
    "         'o-', label='Spec2Vec')\n",
    "plt.plot(test_matches_cosine_arr[:,1]/num_max, test_matches_cosine_arr[:,0]/num_max, \n",
    "         'o-', color='black', label='cosine (min match = {})'.format(min_match))\n",
    "for i, threshold in enumerate(thresholds):\n",
    "    if i in label_picks:\n",
    "        plt.annotate(\">{:.2}\".format(threshold),\n",
    "                    (test_matches_s2v_arr[i,1]/num_max, test_matches_s2v_arr[i,0]/num_max),\n",
    "                    textcoords=\"offset points\", xytext=(2,-10))\n",
    "        plt.annotate(\">{:.2}\".format(threshold),\n",
    "                    (test_matches_cosine_arr[i,1]/num_max, test_matches_cosine_arr[i,0]/num_max),\n",
    "                    textcoords=\"offset points\", xytext=(2,-10))\n",
    "\n",
    "#plt.plot(test_matches_ROC_min2_arr[:,1]/num_max, test_matches_ROC_min2_arr[:,0]/num_max, \n",
    "#         '.--', color='black', alpha=0.5, label='cosine (min match = 2)')\n",
    "\n",
    "plt.title('true/false positives per query')\n",
    "plt.legend(fontsize=14)\n",
    "plt.xlabel('false positives per query')\n",
    "plt.ylabel('true positive per query')\n",
    "#plt.xlim([0, 0.3])\n",
    "plt.savefig('library_matching_true_false_positives_labeled_minmatch2_200728.pdf')"
   ]
  },
  {
   "cell_type": "code",
   "execution_count": 53,
   "metadata": {},
   "outputs": [
    {
     "data": {
      "image/png": "[encoded data removed]",
      "text/plain": [
       "<Figure size 504x432 with 1 Axes>"
      ]
     },
     "metadata": {},
     "output_type": "display_data"
    }
   ],
   "source": [
    "min_match=6\n",
    "#test_matches_cosine_arr = np.array(test_matches_min2)\n",
    "test_matches_cosine_arr = np.array(test_matches_min6)\n",
    "test_matches_s2v_arr = np.array(test_matches_s2v)\n",
    "\n",
    "thresholds = np.arange(0, 1, 0.05)\n",
    "label_picks = [0,4,8,12,14,15,16,17,18,19]\n",
    "\n",
    "accuracy_s2v = 100 * test_matches_s2v_arr[:,0]/(test_matches_s2v_arr[:,0] + test_matches_s2v_arr[:,1])\n",
    "accuracy_cosine = 100 * test_matches_cosine_arr[:,0]/(test_matches_cosine_arr[:,0] + test_matches_cosine_arr[:,1])\n",
    "\n",
    "retrieval_s2v = (test_matches_s2v_arr[:,1] + test_matches_s2v_arr[:,0])/1000\n",
    "retrieval_cosine = (test_matches_cosine_arr[:,1] + test_matches_cosine_arr[:,0])/1000\n",
    "\n",
    "plt.figure(figsize=(7,6))\n",
    "plt.style.use('ggplot')\n",
    "plt.plot(retrieval_s2v, accuracy_s2v, 'o-', label='Spec2Vec')\n",
    "plt.plot(retrieval_cosine, accuracy_cosine, 'o-', color=\"black\", label='cosine (min match = {})'.format(min_match))\n",
    "\n",
    "for i, threshold in enumerate(thresholds):\n",
    "    if i in label_picks:\n",
    "        plt.annotate(\">{:.2}\".format(threshold),\n",
    "                    (retrieval_s2v[i], accuracy_s2v[i]),\n",
    "                    textcoords=\"offset points\", xytext=(2, 5))\n",
    "        plt.annotate(\">{:.2}\".format(threshold),\n",
    "                    (retrieval_cosine[i], accuracy_cosine[i]),\n",
    "                    textcoords=\"offset points\", xytext=(2, 5))\n",
    "\n",
    "plt.title('accuracy vs retrieval')\n",
    "plt.legend(fontsize=14)\n",
    "plt.ylim([70, 90])\n",
    "plt.xlabel('retrieval (hits per query spectrum)')\n",
    "plt.ylabel('accuracy (% correct hits)')\n",
    "plt.savefig('library_matching_accuracy_vs_retrieval_200728.pdf')"
   ]
  },
  {
   "cell_type": "code",
   "execution_count": 51,
   "metadata": {},
   "outputs": [
    {
     "data": {
      "image/png": "[encoded data removed]",
      "text/plain": [
       "<Figure size 504x432 with 1 Axes>"
      ]
     },
     "metadata": {},
     "output_type": "display_data"
    }
   ],
   "source": [
    "min_match=2\n",
    "test_matches_cosine_arr = np.array(test_matches_min2)\n",
    "#test_matches_cosine_arr = np.array(test_matches_min6)\n",
    "test_matches_s2v_arr = np.array(test_matches_s2v)\n",
    "\n",
    "thresholds = np.arange(0, 1, 0.05)\n",
    "label_picks = [0,4,8,10,12,14,15,16,17,18,19]\n",
    "\n",
    "accuracy_s2v = 100 * test_matches_s2v_arr[:,0]/(test_matches_s2v_arr[:,0] + test_matches_s2v_arr[:,1])\n",
    "accuracy_cosine = 100 * test_matches_cosine_arr[:,0]/(test_matches_cosine_arr[:,0] + test_matches_cosine_arr[:,1])\n",
    "\n",
    "retrieval_s2v = (test_matches_s2v_arr[:,1] + test_matches_s2v_arr[:,0])/1000\n",
    "retrieval_cosine = (test_matches_cosine_arr[:,1] + test_matches_cosine_arr[:,0])/1000\n",
    "\n",
    "plt.figure(figsize=(7,6))\n",
    "plt.style.use('ggplot')\n",
    "plt.plot(retrieval_s2v, accuracy_s2v, 'o-', label='Spec2Vec')\n",
    "plt.plot(retrieval_cosine, accuracy_cosine, 'o-', color=\"black\", label='cosine (min match = {})'.format(min_match))\n",
    "\n",
    "for i, threshold in enumerate(thresholds):\n",
    "    if i in label_picks:\n",
    "        plt.annotate(\">{:.2}\".format(threshold),\n",
    "                    (retrieval_s2v[i], accuracy_s2v[i]),\n",
    "                    textcoords=\"offset points\", xytext=(2, 5))\n",
    "        plt.annotate(\">{:.2}\".format(threshold),\n",
    "                    (retrieval_cosine[i], accuracy_cosine[i]),\n",
    "                    textcoords=\"offset points\", xytext=(2, 5))\n",
    "\n",
    "plt.title('accuracy vs retrieval')\n",
    "plt.legend(fontsize=14)\n",
    "plt.ylim([67.5, 90])\n",
    "plt.xlabel('retrieval (hits per query spectrum)')\n",
    "plt.ylabel('accuracy (% correct hits)')\n",
    "plt.savefig('library_matching_accuracy_vs_retrieval_minmatch2_200728.pdf')"
   ]
  }
 ],
 "metadata": {
  "kernelspec": {
   "display_name": "Python 3",
   "language": "python",
   "name": "python3"
  },
  "language_info": {
   "codemirror_mode": {
    "name": "ipython",
    "version": 3
   },
   "file_extension": ".py",
   "mimetype": "text/x-python",
   "name": "python",
   "nbconvert_exporter": "python",
   "pygments_lexer": "ipython3",
   "version": "3.7.7"
  }
 },
 "nbformat": 4,
 "nbformat_minor": 4
}
