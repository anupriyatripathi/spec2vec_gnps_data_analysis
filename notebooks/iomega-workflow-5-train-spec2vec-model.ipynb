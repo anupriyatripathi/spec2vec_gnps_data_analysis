{
 "cells": [
  {
   "cell_type": "markdown",
   "metadata": {},
   "source": [
    "# Train a spec2vec model on mass spectra dataset"
   ]
  },
  {
   "cell_type": "code",
   "execution_count": 1,
   "metadata": {},
   "outputs": [],
   "source": [
    "import os\n",
    "import sys\n",
    "import gensim\n",
    "import numpy as np\n",
    "from matplotlib import pyplot as plt\n",
    "\n",
    "ROOT = os.path.dirname(os.getcwd())\n",
    "#path_data = os.path.join(ROOT, 'data')\n",
    "path_data = 'C:\\\\OneDrive - Netherlands eScience Center\\\\Project_Wageningen_iOMEGA\\\\matchms\\\\data\\\\'\n",
    "sys.path.insert(0, ROOT)"
   ]
  },
  {
   "cell_type": "markdown",
   "metadata": {},
   "source": [
    "### Import pre-processed dataset \"Unique InchiKeys\""
   ]
  },
  {
   "cell_type": "code",
   "execution_count": 2,
   "metadata": {},
   "outputs": [
    {
     "name": "stdout",
     "output_type": "stream",
     "text": [
      "number of spectra: 13717\n"
     ]
    }
   ],
   "source": [
    "from matchms.importing import load_from_json\n",
    "\n",
    "filename = os.path.join(path_data,'gnps_positive_ionmode_unique_inchikey_cleaned_by_matchms_and_lookups.json')\n",
    "spectrums = load_from_json(filename)\n",
    "\n",
    "print(\"number of spectra:\", len(spectrums))"
   ]
  },
  {
   "cell_type": "code",
   "execution_count": 3,
   "metadata": {},
   "outputs": [],
   "source": [
    "number_of_peaks = [len(spec.peaks) for spec in spectrums]"
   ]
  },
  {
   "cell_type": "code",
   "execution_count": 4,
   "metadata": {},
   "outputs": [
    {
     "name": "stdout",
     "output_type": "stream",
     "text": [
      "Maximum number of peaks in one spectrum: 361421\n",
      "Number of spectra with > 1000 peaks: 2698\n",
      "Number of spectra with > 2000 peaks: 1440\n",
      "Number of spectra with > 5000 peaks: 485\n",
      "Careful: Number of spectra with < 10 peaks: 908\n"
     ]
    }
   ],
   "source": [
    "print(\"Maximum number of peaks in one spectrum:\", np.max(number_of_peaks))\n",
    "print(\"Number of spectra with > 1000 peaks:\", np.sum(np.array(number_of_peaks)>1000))\n",
    "print(\"Number of spectra with > 2000 peaks:\", np.sum(np.array(number_of_peaks)>2000))\n",
    "print(\"Number of spectra with > 5000 peaks:\", np.sum(np.array(number_of_peaks)>5000))\n",
    "print(\"Careful: Number of spectra with < 10 peaks:\", np.sum(np.array(number_of_peaks)<10))"
   ]
  },
  {
   "cell_type": "code",
   "execution_count": 5,
   "metadata": {},
   "outputs": [
    {
     "data": {
      "text/plain": [
       "Text(0, 0.5, 'number of spectra in respective bin')"
      ]
     },
     "execution_count": 5,
     "metadata": {},
     "output_type": "execute_result"
    },
    {
     "data": {
      "image/png": "[encoded data removed]",
      "text/plain": [
       "<Figure size 864x504 with 1 Axes>"
      ]
     },
     "metadata": {
      "needs_background": "light"
     },
     "output_type": "display_data"
    }
   ],
   "source": [
    "plt.figure(figsize=(12,7))\n",
    "hist = plt.hist(number_of_peaks, np.arange(0,2000,20))\n",
    "plt.xlabel(\"number of peaks in spectrum\")\n",
    "plt.ylabel(\"number of spectra in respective bin\")"
   ]
  },
  {
   "cell_type": "markdown",
   "metadata": {},
   "source": [
    "### Post-process spectra - Step 1\n",
    "+ Normalize spectrum\n",
    "+ Remove peaks outside m/z ratios between 0 and 1000.0\n",
    "+ Discard spectra with less then 10 remaining peaks"
   ]
  },
  {
   "cell_type": "code",
   "execution_count": 6,
   "metadata": {},
   "outputs": [],
   "source": [
    "from matchms.filtering import normalize_intensities\n",
    "from matchms.filtering import require_minimum_number_of_peaks\n",
    "from matchms.filtering import select_by_mz\n",
    "from matchms.filtering import select_by_relative_intensity\n",
    "from matchms.filtering import reduce_to_number_of_peaks\n",
    "from matchms.filtering import add_losses"
   ]
  },
  {
   "cell_type": "code",
   "execution_count": 7,
   "metadata": {},
   "outputs": [],
   "source": [
    "def post_process(s):\n",
    "    s = normalize_intensities(s)\n",
    "    s = select_by_mz(s, mz_from=0, mz_to=1000)\n",
    "    s = require_minimum_number_of_peaks(s, n_required=10)\n",
    "    return s\n",
    "\n",
    "# apply post processing steps to the data\n",
    "spectrums = [post_process(s) for s in spectrums]\n",
    "\n",
    "# omit spectrums that didn't qualify for analysis\n",
    "spectrums = [s for s in spectrums if s is not None]"
   ]
  },
  {
   "cell_type": "code",
   "execution_count": 8,
   "metadata": {},
   "outputs": [
    {
     "name": "stdout",
     "output_type": "stream",
     "text": [
      "Maximum number of peaks in one spectrum: 228989\n",
      "Number of spectra with > 1000 peaks: 2497\n",
      "Number of spectra with > 2000 peaks: 1222\n",
      "Number of spectra with > 5000 peaks: 335\n",
      "Careful: Number of spectra with < 10 peaks: 0\n"
     ]
    }
   ],
   "source": [
    "number_of_peaks = [len(spec.peaks) for spec in spectrums]\n",
    "\n",
    "print(\"Maximum number of peaks in one spectrum:\", np.max(number_of_peaks))\n",
    "print(\"Number of spectra with > 1000 peaks:\", np.sum(np.array(number_of_peaks)>1000))\n",
    "print(\"Number of spectra with > 2000 peaks:\", np.sum(np.array(number_of_peaks)>2000))\n",
    "print(\"Number of spectra with > 5000 peaks:\", np.sum(np.array(number_of_peaks)>5000))\n",
    "print(\"Careful: Number of spectra with < 10 peaks:\", np.sum(np.array(number_of_peaks)<10))"
   ]
  },
  {
   "cell_type": "code",
   "execution_count": 9,
   "metadata": {},
   "outputs": [
    {
     "data": {
      "text/plain": [
       "Text(0, 0.5, 'number of spectra in respective bin')"
      ]
     },
     "execution_count": 9,
     "metadata": {},
     "output_type": "execute_result"
    },
    {
     "data": {
      "image/png": "[encoded data removed]",
      "text/plain": [
       "<Figure size 864x576 with 1 Axes>"
      ]
     },
     "metadata": {
      "needs_background": "light"
     },
     "output_type": "display_data"
    }
   ],
   "source": [
    "plt.figure(figsize=(12,8))\n",
    "hist = plt.hist(number_of_peaks, np.arange(0,2000,20))\n",
    "plt.xlabel(\"number of peaks in spectrum\")\n",
    "plt.ylabel(\"number of spectra in respective bin\")"
   ]
  },
  {
   "cell_type": "markdown",
   "metadata": {},
   "source": [
    "### Post-process spectra - step 2\n",
    "+ Reduce number of peaks (scaled with parent-mass)."
   ]
  },
  {
   "cell_type": "code",
   "execution_count": 10,
   "metadata": {},
   "outputs": [],
   "source": [
    "def post_process_step2(s):\n",
    "    s = reduce_to_number_of_peaks(s, n_required=10, ratio_desired=0.5)\n",
    "    return s\n",
    "\n",
    "# apply post processing steps to the data\n",
    "spectrums = [post_process_step2(s) for s in spectrums]\n",
    "\n",
    "# omit spectrums that didn't qualify for analysis\n",
    "spectrums = [s for s in spectrums if s is not None]"
   ]
  },
  {
   "cell_type": "code",
   "execution_count": 11,
   "metadata": {},
   "outputs": [
    {
     "name": "stdout",
     "output_type": "stream",
     "text": [
      "Maximum number of peaks in one spectrum: 1001\n",
      "Number of spectra with > 1000 peaks: 1\n",
      "Number of spectra with > 2000 peaks: 0\n",
      "Number of spectra with > 5000 peaks: 0\n"
     ]
    }
   ],
   "source": [
    "number_of_peaks = [len(spec.peaks) for spec in spectrums]\n",
    "\n",
    "print(\"Maximum number of peaks in one spectrum:\", np.max(number_of_peaks))\n",
    "print(\"Number of spectra with > 1000 peaks:\", np.sum(np.array(number_of_peaks)>1000))\n",
    "print(\"Number of spectra with > 2000 peaks:\", np.sum(np.array(number_of_peaks)>2000))\n",
    "print(\"Number of spectra with > 5000 peaks:\", np.sum(np.array(number_of_peaks)>5000))"
   ]
  },
  {
   "cell_type": "code",
   "execution_count": 12,
   "metadata": {},
   "outputs": [
    {
     "data": {
      "text/plain": [
       "Text(0, 0.5, 'number of spectra in respective bin')"
      ]
     },
     "execution_count": 12,
     "metadata": {},
     "output_type": "execute_result"
    },
    {
     "data": {
      "image/png": "[encoded data removed]",
      "text/plain": [
       "<Figure size 864x576 with 1 Axes>"
      ]
     },
     "metadata": {
      "needs_background": "light"
     },
     "output_type": "display_data"
    }
   ],
   "source": [
    "plt.figure(figsize=(12,8))\n",
    "hist = plt.hist(number_of_peaks, np.arange(0,2000,20))\n",
    "plt.xlabel(\"number of peaks in spectrum\")\n",
    "plt.ylabel(\"number of spectra in respective bin\")"
   ]
  },
  {
   "cell_type": "markdown",
   "metadata": {},
   "source": [
    "### Remove small peaks (<0.001 rel. intensity) if at least 10 peaks would remain"
   ]
  },
  {
   "cell_type": "code",
   "execution_count": 13,
   "metadata": {},
   "outputs": [],
   "source": [
    "spectrums_postprocessed = []\n",
    "for spec in spectrums:\n",
    "    s = select_by_relative_intensity(spec, intensity_from=0.001)\n",
    "    if len(s.peaks) >= 10:\n",
    "        spectrums_postprocessed.append(s)\n",
    "    else:\n",
    "        spectrums_postprocessed.append(spec.clone())"
   ]
  },
  {
   "cell_type": "code",
   "execution_count": 14,
   "metadata": {},
   "outputs": [
    {
     "name": "stdout",
     "output_type": "stream",
     "text": [
      "Maximum number of peaks in one spectrum: 1001\n",
      "Number of spectra with > 1000 peaks: 1\n",
      "Number of spectra with > 2000 peaks: 0\n",
      "Number of spectra with > 5000 peaks: 0\n",
      "Careful: Number of spectra with < 10 peaks: 0\n"
     ]
    }
   ],
   "source": [
    "number_of_peaks = [len(spec.peaks) for spec in spectrums_postprocessed]\n",
    "\n",
    "print(\"Maximum number of peaks in one spectrum:\", np.max(number_of_peaks))\n",
    "print(\"Number of spectra with > 1000 peaks:\", np.sum(np.array(number_of_peaks)>1000))\n",
    "print(\"Number of spectra with > 2000 peaks:\", np.sum(np.array(number_of_peaks)>2000))\n",
    "print(\"Number of spectra with > 5000 peaks:\", np.sum(np.array(number_of_peaks)>5000))\n",
    "print(\"Careful: Number of spectra with < 10 peaks:\", np.sum(np.array(number_of_peaks)<10))"
   ]
  },
  {
   "cell_type": "code",
   "execution_count": 15,
   "metadata": {},
   "outputs": [
    {
     "data": {
      "text/plain": [
       "Text(0, 0.5, 'number of spectra in respective bin')"
      ]
     },
     "execution_count": 15,
     "metadata": {},
     "output_type": "execute_result"
    },
    {
     "data": {
      "image/png": "[encoded data removed]",
      "text/plain": [
       "<Figure size 864x576 with 1 Axes>"
      ]
     },
     "metadata": {
      "needs_background": "light"
     },
     "output_type": "display_data"
    }
   ],
   "source": [
    "plt.figure(figsize=(12,8))\n",
    "hist = plt.hist(number_of_peaks, np.arange(0,2000,20))\n",
    "plt.xlabel(\"number of peaks in spectrum\")\n",
    "plt.ylabel(\"number of spectra in respective bin\")"
   ]
  },
  {
   "cell_type": "markdown",
   "metadata": {},
   "source": [
    "## Add neutral losses (within 0 to 200 m/z)"
   ]
  },
  {
   "cell_type": "code",
   "execution_count": 16,
   "metadata": {},
   "outputs": [],
   "source": [
    "spectrums_postprocessed = [add_losses(s, loss_mz_from=5.0, loss_mz_to=200.0) for s in spectrums_postprocessed]"
   ]
  },
  {
   "cell_type": "markdown",
   "metadata": {},
   "source": [
    "# Convert spectra to document and train spec2vec model"
   ]
  },
  {
   "cell_type": "code",
   "execution_count": 17,
   "metadata": {},
   "outputs": [],
   "source": [
    "from spec2vec import Spec2VecParallel\n",
    "from spec2vec import SpectrumDocument"
   ]
  },
  {
   "cell_type": "code",
   "execution_count": 18,
   "metadata": {},
   "outputs": [],
   "source": [
    "documents = [SpectrumDocument(s, n_decimals=2) for s in spectrums_postprocessed]"
   ]
  },
  {
   "cell_type": "code",
   "execution_count": 19,
   "metadata": {},
   "outputs": [
    {
     "data": {
      "text/plain": [
       "['peak@289.29',\n",
       " 'peak@295.55',\n",
       " 'peak@298.49',\n",
       " 'peak@317.32',\n",
       " 'peak@319.66',\n",
       " 'peak@324.48',\n",
       " 'peak@325.32',\n",
       " 'peak@339.79',\n",
       " 'peak@343.95',\n",
       " 'peak@347.02']"
      ]
     },
     "execution_count": 19,
     "metadata": {},
     "output_type": "execute_result"
    }
   ],
   "source": [
    "documents[0].words[:10]"
   ]
  },
  {
   "cell_type": "markdown",
   "metadata": {},
   "source": [
    "## Train word2vec model\n",
    "+ Save model for every epoch in ``iterations``\n",
    "+ Use default spec2vec parameters as set in ``train_new_word2vec_model()``\n",
    "        \"sg\": 0,\n",
    "        \"negative\": 5,\n",
    "        \"size\": 300,\n",
    "        \"window\": 500,\n",
    "        \"min_count\": 1,\n",
    "        \"workers\": 4,\n",
    "        \"learning_rate_initial\": 0.025,\n",
    "        \"learning_rate_decay\": 0.00025,\n",
    "        \"progress_logger\": True"
   ]
  },
  {
   "cell_type": "code",
   "execution_count": 20,
   "metadata": {},
   "outputs": [
    {
     "name": "stdout",
     "output_type": "stream",
     "text": [
      "  Epoch 1 of 100.Change in loss after epoch 1: 1658450.875\n",
      "Saving model with name: C:\\OneDrive - Netherlands eScience Center\\Project_Wageningen_iOMEGA\\matchms\\data\\trained_models\\spec2vec_UniqueInchikeys_ratio05_filtered_iter_1.model\n",
      "  Epoch 2 of 100.Change in loss after epoch 2: 1357940.375\n",
      "  Epoch 3 of 100.Change in loss after epoch 3: 1228498.75\n",
      "Saving model with name: C:\\OneDrive - Netherlands eScience Center\\Project_Wageningen_iOMEGA\\matchms\\data\\trained_models\\spec2vec_UniqueInchikeys_ratio05_filtered_iter_3.model\n",
      "  Epoch 4 of 100.Change in loss after epoch 4: 1103882.5\n",
      "  Epoch 5 of 100.Change in loss after epoch 5: 1061224.5\n",
      "Saving model with name: C:\\OneDrive - Netherlands eScience Center\\Project_Wageningen_iOMEGA\\matchms\\data\\trained_models\\spec2vec_UniqueInchikeys_ratio05_filtered_iter_5.model\n",
      "  Epoch 6 of 100.Change in loss after epoch 6: 1042830.5\n",
      "  Epoch 7 of 100.Change in loss after epoch 7: 1005758.5\n",
      "  Epoch 8 of 100.Change in loss after epoch 8: 860897.0\n",
      "  Epoch 9 of 100.Change in loss after epoch 9: 849837.0\n",
      "  Epoch 10 of 100.Change in loss after epoch 10: 809043.0\n",
      "Saving model with name: C:\\OneDrive - Netherlands eScience Center\\Project_Wageningen_iOMEGA\\matchms\\data\\trained_models\\spec2vec_UniqueInchikeys_ratio05_filtered_iter_10.model\n",
      "  Epoch 11 of 100.Change in loss after epoch 11: 816706.0\n",
      "  Epoch 12 of 100.Change in loss after epoch 12: 792582.0\n",
      "  Epoch 13 of 100.Change in loss after epoch 13: 771682.0\n",
      "  Epoch 14 of 100.Change in loss after epoch 14: 743310.0\n",
      "  Epoch 15 of 100.Change in loss after epoch 15: 721338.0\n",
      "Saving model with name: C:\\OneDrive - Netherlands eScience Center\\Project_Wageningen_iOMEGA\\matchms\\data\\trained_models\\spec2vec_UniqueInchikeys_ratio05_filtered_iter_15.model\n",
      "  Epoch 16 of 100.Change in loss after epoch 16: 721085.0\n",
      "  Epoch 17 of 100.Change in loss after epoch 17: 686350.0\n",
      "  Epoch 18 of 100.Change in loss after epoch 18: 640972.0\n",
      "  Epoch 19 of 100.Change in loss after epoch 19: 505330.0\n",
      "  Epoch 20 of 100.Change in loss after epoch 20: 493518.0\n",
      "Saving model with name: C:\\OneDrive - Netherlands eScience Center\\Project_Wageningen_iOMEGA\\matchms\\data\\trained_models\\spec2vec_UniqueInchikeys_ratio05_filtered_iter_20.model\n",
      "  Epoch 21 of 100.Change in loss after epoch 21: 476734.0\n",
      "  Epoch 22 of 100.Change in loss after epoch 22: 466748.0\n",
      "  Epoch 23 of 100.Change in loss after epoch 23: 445562.0\n",
      "  Epoch 24 of 100.Change in loss after epoch 24: 431902.0\n",
      "  Epoch 25 of 100.Change in loss after epoch 25: 422038.0\n",
      "Saving model with name: C:\\OneDrive - Netherlands eScience Center\\Project_Wageningen_iOMEGA\\matchms\\data\\trained_models\\spec2vec_UniqueInchikeys_ratio05_filtered_iter_25.model\n",
      "  Epoch 26 of 100.Change in loss after epoch 26: 405298.0\n",
      "  Epoch 27 of 100.Change in loss after epoch 27: 400434.0\n",
      "  Epoch 28 of 100.Change in loss after epoch 28: 383438.0\n",
      "  Epoch 29 of 100.Change in loss after epoch 29: 367218.0\n",
      "  Epoch 30 of 100.Change in loss after epoch 30: 362808.0\n",
      "Saving model with name: C:\\OneDrive - Netherlands eScience Center\\Project_Wageningen_iOMEGA\\matchms\\data\\trained_models\\spec2vec_UniqueInchikeys_ratio05_filtered_iter_30.model\n",
      "  Epoch 31 of 100.Change in loss after epoch 31: 345418.0\n",
      "  Epoch 32 of 100.Change in loss after epoch 32: 336448.0\n",
      "  Epoch 33 of 100.Change in loss after epoch 33: 329218.0\n",
      "  Epoch 34 of 100.Change in loss after epoch 34: 322338.0\n",
      "  Epoch 35 of 100.Change in loss after epoch 35: 314476.0\n",
      "  Epoch 36 of 100.Change in loss after epoch 36: 307136.0\n",
      "  Epoch 37 of 100.Change in loss after epoch 37: 296826.0\n",
      "  Epoch 38 of 100.Change in loss after epoch 38: 294824.0\n",
      "  Epoch 39 of 100.Change in loss after epoch 39: 283070.0\n",
      "  Epoch 40 of 100.Change in loss after epoch 40: 283856.0\n",
      "Saving model with name: C:\\OneDrive - Netherlands eScience Center\\Project_Wageningen_iOMEGA\\matchms\\data\\trained_models\\spec2vec_UniqueInchikeys_ratio05_filtered_iter_40.model\n",
      "  Epoch 41 of 100.Change in loss after epoch 41: 276322.0\n",
      "  Epoch 42 of 100.Change in loss after epoch 42: 271982.0\n",
      "  Epoch 43 of 100.Change in loss after epoch 43: 267530.0\n",
      "  Epoch 44 of 100.Change in loss after epoch 44: 256130.0\n",
      "  Epoch 45 of 100.Change in loss after epoch 45: 251320.0\n",
      "  Epoch 46 of 100.Change in loss after epoch 46: 250786.0\n",
      "  Epoch 47 of 100.Change in loss after epoch 47: 248464.0\n",
      "  Epoch 48 of 100.Change in loss after epoch 48: 245848.0\n",
      "  Epoch 49 of 100.Change in loss after epoch 49: 242770.0\n",
      "  Epoch 50 of 100.Change in loss after epoch 50: 237084.0\n",
      "Saving model with name: C:\\OneDrive - Netherlands eScience Center\\Project_Wageningen_iOMEGA\\matchms\\data\\trained_models\\spec2vec_UniqueInchikeys_ratio05_filtered_iter_50.model\n",
      "  Epoch 51 of 100.Change in loss after epoch 51: 236726.0\n",
      "  Epoch 52 of 100.Change in loss after epoch 52: 234360.0\n",
      "  Epoch 53 of 100.Change in loss after epoch 53: 229954.0\n",
      "  Epoch 54 of 100.Change in loss after epoch 54: 220024.0\n",
      "  Epoch 55 of 100.Change in loss after epoch 55: 223440.0\n",
      "  Epoch 56 of 100.Change in loss after epoch 56: 221476.0\n",
      "  Epoch 57 of 100.Change in loss after epoch 57: 214414.0\n",
      "  Epoch 58 of 100.Change in loss after epoch 58: 222236.0\n",
      "  Epoch 59 of 100.Change in loss after epoch 59: 216818.0\n",
      "  Epoch 60 of 100.Change in loss after epoch 60: 212368.0\n",
      "Saving model with name: C:\\OneDrive - Netherlands eScience Center\\Project_Wageningen_iOMEGA\\matchms\\data\\trained_models\\spec2vec_UniqueInchikeys_ratio05_filtered_iter_60.model\n",
      "  Epoch 61 of 100.Change in loss after epoch 61: 209738.0\n",
      "  Epoch 62 of 100.Change in loss after epoch 62: 207780.0\n",
      "  Epoch 63 of 100.Change in loss after epoch 63: 204120.0\n",
      "  Epoch 64 of 100.Change in loss after epoch 64: 201070.0\n",
      "  Epoch 65 of 100.Change in loss after epoch 65: 201430.0\n",
      "  Epoch 66 of 100.Change in loss after epoch 66: 194718.0\n",
      "  Epoch 67 of 100.Change in loss after epoch 67: 195556.0\n",
      "  Epoch 68 of 100.Change in loss after epoch 68: 189004.0\n",
      "  Epoch 69 of 100.Change in loss after epoch 69: 185046.0\n",
      "  Epoch 70 of 100.Change in loss after epoch 70: 188180.0\n",
      "Saving model with name: C:\\OneDrive - Netherlands eScience Center\\Project_Wageningen_iOMEGA\\matchms\\data\\trained_models\\spec2vec_UniqueInchikeys_ratio05_filtered_iter_70.model\n",
      "  Epoch 71 of 100.Change in loss after epoch 71: 185982.0\n",
      "  Epoch 72 of 100.Change in loss after epoch 72: 186778.0\n",
      "  Epoch 73 of 100.Change in loss after epoch 73: 182880.0\n",
      "  Epoch 74 of 100.Change in loss after epoch 74: 186486.0\n",
      "  Epoch 75 of 100.Change in loss after epoch 75: 179782.0\n",
      "  Epoch 76 of 100.Change in loss after epoch 76: 179616.0\n",
      "  Epoch 77 of 100.Change in loss after epoch 77: 179044.0\n",
      "  Epoch 78 of 100.Change in loss after epoch 78: 178552.0\n",
      "  Epoch 79 of 100.Change in loss after epoch 79: 178462.0\n",
      "  Epoch 80 of 100.Change in loss after epoch 80: 131326.0\n",
      "Saving model with name: C:\\OneDrive - Netherlands eScience Center\\Project_Wageningen_iOMEGA\\matchms\\data\\trained_models\\spec2vec_UniqueInchikeys_ratio05_filtered_iter_80.model\n",
      "  Epoch 81 of 100.Change in loss after epoch 81: 126732.0\n",
      "  Epoch 82 of 100.Change in loss after epoch 82: 124344.0\n",
      "  Epoch 83 of 100.Change in loss after epoch 83: 124628.0\n",
      "  Epoch 84 of 100.Change in loss after epoch 84: 126580.0\n",
      "  Epoch 85 of 100.Change in loss after epoch 85: 120444.0\n",
      "  Epoch 86 of 100.Change in loss after epoch 86: 122072.0\n",
      "  Epoch 87 of 100.Change in loss after epoch 87: 122088.0\n",
      "  Epoch 88 of 100.Change in loss after epoch 88: 118596.0\n",
      "  Epoch 89 of 100.Change in loss after epoch 89: 121700.0\n",
      "  Epoch 90 of 100.Change in loss after epoch 90: 121424.0\n",
      "Saving model with name: C:\\OneDrive - Netherlands eScience Center\\Project_Wageningen_iOMEGA\\matchms\\data\\trained_models\\spec2vec_UniqueInchikeys_ratio05_filtered_iter_90.model\n",
      "  Epoch 91 of 100.Change in loss after epoch 91: 119808.0\n",
      "  Epoch 92 of 100.Change in loss after epoch 92: 121480.0\n",
      "  Epoch 93 of 100.Change in loss after epoch 93: 118988.0\n",
      "  Epoch 94 of 100.Change in loss after epoch 94: 120708.0\n",
      "  Epoch 95 of 100.Change in loss after epoch 95: 115696.0\n",
      "  Epoch 96 of 100.Change in loss after epoch 96: 117656.0\n",
      "  Epoch 97 of 100.Change in loss after epoch 97: 119852.0\n",
      "  Epoch 98 of 100.Change in loss after epoch 98: 118028.0\n",
      "  Epoch 99 of 100.Change in loss after epoch 99: 117664.0\n"
     ]
    },
    {
     "name": "stdout",
     "output_type": "stream",
     "text": [
      "\r",
      "  Epoch 100 of 100.Change in loss after epoch 100: 117480.0\n",
      "Saving model with name: C:\\OneDrive - Netherlands eScience Center\\Project_Wageningen_iOMEGA\\matchms\\data\\trained_models\\spec2vec_UniqueInchikeys_ratio05_filtered.model\n"
     ]
    }
   ],
   "source": [
    "from spec2vec.model_building import train_new_word2vec_model\n",
    "\n",
    "path_models = os.path.join(path_data, \"trained_models\")\n",
    "model_file = os.path.join(path_models, \"spec2vec_UniqueInchikeys_ratio05_filtered.model\")\n",
    "\n",
    "iterations = [1, 3, 5, 10, 15, 20, 25, 30, 40, 50, 60, 70, 80, 90, 100]\n",
    "\n",
    "# Train model with default parameters\n",
    "model = train_new_word2vec_model(documents, iterations, model_file)"
   ]
  }
 ],
 "metadata": {
  "kernelspec": {
   "display_name": "Python 3",
   "language": "python",
   "name": "python3"
  },
  "language_info": {
   "codemirror_mode": {
    "name": "ipython",
    "version": 3
   },
   "file_extension": ".py",
   "mimetype": "text/x-python",
   "name": "python",
   "nbconvert_exporter": "python",
   "pygments_lexer": "ipython3",
   "version": "3.7.7"
  }
 },
 "nbformat": 4,
 "nbformat_minor": 4
}
