{
 "cells": [
  {
   "cell_type": "markdown",
   "metadata": {},
   "source": [
    "# Compute spec2vec similarities on mass spectra dataset"
   ]
  },
  {
   "cell_type": "code",
   "execution_count": 1,
   "metadata": {},
   "outputs": [],
   "source": [
    "import os\n",
    "import sys\n",
    "import gensim\n",
    "import numpy as np\n",
    "\n",
    "ROOT = os.path.dirname(os.getcwd())\n",
    "#path_data = os.path.join(ROOT, 'data')\n",
    "path_data = 'C:\\\\OneDrive - Netherlands eScience Center\\\\Project_Wageningen_iOMEGA\\\\matchms\\\\data\\\\'\n",
    "sys.path.insert(0, ROOT)"
   ]
  },
  {
   "cell_type": "markdown",
   "metadata": {},
   "source": [
    "### Import pre-processed dataset \"Unique InchiKeys\""
   ]
  },
  {
   "cell_type": "code",
   "execution_count": 2,
   "metadata": {},
   "outputs": [
    {
     "name": "stdout",
     "output_type": "stream",
     "text": [
      "number of spectra: 13717\n"
     ]
    }
   ],
   "source": [
    "from matchms.importing import load_from_json\n",
    "\n",
    "filename = os.path.join(path_data,'gnps_positive_ionmode_unique_inchikey_cleaned_by_matchms_and_lookups.json')\n",
    "spectrums = load_from_json(filename)\n",
    "\n",
    "print(\"number of spectra:\", len(spectrums))"
   ]
  },
  {
   "cell_type": "markdown",
   "metadata": {},
   "source": [
    "### Post-processing of data"
   ]
  },
  {
   "cell_type": "code",
   "execution_count": 3,
   "metadata": {},
   "outputs": [],
   "source": [
    "from matchms.filtering import normalize_intensities\n",
    "from matchms.filtering import require_minimum_number_of_peaks\n",
    "from matchms.filtering import select_by_mz\n",
    "from matchms.filtering import select_by_relative_intensity\n",
    "from matchms.filtering import reduce_to_number_of_peaks\n",
    "from matchms.filtering import add_losses"
   ]
  },
  {
   "cell_type": "code",
   "execution_count": 4,
   "metadata": {},
   "outputs": [],
   "source": [
    "def post_process(s):\n",
    "    s = normalize_intensities(s)\n",
    "    s = select_by_mz(s, mz_from=0, mz_to=1000)\n",
    "    s = require_minimum_number_of_peaks(s, n_required=10)\n",
    "    s = reduce_to_number_of_peaks(s, n_required=10, ratio_desired=0.5)\n",
    "    if s is None:\n",
    "        return None\n",
    "    s_remove_low_peaks = select_by_relative_intensity(s, intensity_from=0.001)\n",
    "    if len(s_remove_low_peaks.peaks) >= 10:\n",
    "        s = s_remove_low_peaks\n",
    "        \n",
    "    s = add_losses(s, loss_mz_from=5.0, loss_mz_to=200.0)\n",
    "    return s\n",
    "\n",
    "# apply post processing steps to the data\n",
    "spectrums_postprocessed = [post_process(s) for s in spectrums]\n",
    "\n",
    "# omit spectrums that didn't qualify for analysis\n",
    "spectrums_postprocessed = [s for s in spectrums_postprocessed if s is not None]"
   ]
  },
  {
   "cell_type": "markdown",
   "metadata": {},
   "source": [
    "### Load pretrained spec2vec model"
   ]
  },
  {
   "cell_type": "code",
   "execution_count": 5,
   "metadata": {},
   "outputs": [
    {
     "ename": "FileNotFoundError",
     "evalue": "[Errno 2] No such file or directory: 'C:\\\\OneDrive - Netherlands eScience Center\\\\Project_Wageningen_iOMEGA\\\\matchms\\\\data\\\\trained_models\\\\spec2vec_UniqueInchikeys_ratio05_filtered_201101_iter_15.model'",
     "output_type": "error",
     "traceback": [
      "\u001b[1;31m---------------------------------------------------------------------------\u001b[0m",
      "\u001b[1;31mFileNotFoundError\u001b[0m                         Traceback (most recent call last)",
      "\u001b[1;32m<ipython-input-5-b4281b7fad27>\u001b[0m in \u001b[0;36m<module>\u001b[1;34m\u001b[0m\n\u001b[0;32m      3\u001b[0m \u001b[1;33m\u001b[0m\u001b[0m\n\u001b[0;32m      4\u001b[0m \u001b[1;31m# Load pretrained model\u001b[0m\u001b[1;33m\u001b[0m\u001b[1;33m\u001b[0m\u001b[1;33m\u001b[0m\u001b[0m\n\u001b[1;32m----> 5\u001b[1;33m \u001b[0mmodel\u001b[0m \u001b[1;33m=\u001b[0m \u001b[0mgensim\u001b[0m\u001b[1;33m.\u001b[0m\u001b[0mmodels\u001b[0m\u001b[1;33m.\u001b[0m\u001b[0mWord2Vec\u001b[0m\u001b[1;33m.\u001b[0m\u001b[0mload\u001b[0m\u001b[1;33m(\u001b[0m\u001b[0mmodel_file\u001b[0m\u001b[1;33m)\u001b[0m\u001b[1;33m\u001b[0m\u001b[1;33m\u001b[0m\u001b[0m\n\u001b[0m",
      "\u001b[1;32m~\\Anaconda3\\envs\\matchms-dev\\lib\\site-packages\\gensim\\models\\word2vec.py\u001b[0m in \u001b[0;36mload\u001b[1;34m(cls, *args, **kwargs)\u001b[0m\n\u001b[0;32m   1139\u001b[0m         \"\"\"\n\u001b[0;32m   1140\u001b[0m         \u001b[1;32mtry\u001b[0m\u001b[1;33m:\u001b[0m\u001b[1;33m\u001b[0m\u001b[1;33m\u001b[0m\u001b[0m\n\u001b[1;32m-> 1141\u001b[1;33m             \u001b[0mmodel\u001b[0m \u001b[1;33m=\u001b[0m \u001b[0msuper\u001b[0m\u001b[1;33m(\u001b[0m\u001b[0mWord2Vec\u001b[0m\u001b[1;33m,\u001b[0m \u001b[0mcls\u001b[0m\u001b[1;33m)\u001b[0m\u001b[1;33m.\u001b[0m\u001b[0mload\u001b[0m\u001b[1;33m(\u001b[0m\u001b[1;33m*\u001b[0m\u001b[0margs\u001b[0m\u001b[1;33m,\u001b[0m \u001b[1;33m**\u001b[0m\u001b[0mkwargs\u001b[0m\u001b[1;33m)\u001b[0m\u001b[1;33m\u001b[0m\u001b[1;33m\u001b[0m\u001b[0m\n\u001b[0m\u001b[0;32m   1142\u001b[0m \u001b[1;33m\u001b[0m\u001b[0m\n\u001b[0;32m   1143\u001b[0m             \u001b[1;31m# for backward compatibility for `max_final_vocab` feature\u001b[0m\u001b[1;33m\u001b[0m\u001b[1;33m\u001b[0m\u001b[1;33m\u001b[0m\u001b[0m\n",
      "\u001b[1;32m~\\Anaconda3\\envs\\matchms-dev\\lib\\site-packages\\gensim\\models\\base_any2vec.py\u001b[0m in \u001b[0;36mload\u001b[1;34m(cls, *args, **kwargs)\u001b[0m\n\u001b[0;32m   1228\u001b[0m \u001b[1;33m\u001b[0m\u001b[0m\n\u001b[0;32m   1229\u001b[0m         \"\"\"\n\u001b[1;32m-> 1230\u001b[1;33m         \u001b[0mmodel\u001b[0m \u001b[1;33m=\u001b[0m \u001b[0msuper\u001b[0m\u001b[1;33m(\u001b[0m\u001b[0mBaseWordEmbeddingsModel\u001b[0m\u001b[1;33m,\u001b[0m \u001b[0mcls\u001b[0m\u001b[1;33m)\u001b[0m\u001b[1;33m.\u001b[0m\u001b[0mload\u001b[0m\u001b[1;33m(\u001b[0m\u001b[1;33m*\u001b[0m\u001b[0margs\u001b[0m\u001b[1;33m,\u001b[0m \u001b[1;33m**\u001b[0m\u001b[0mkwargs\u001b[0m\u001b[1;33m)\u001b[0m\u001b[1;33m\u001b[0m\u001b[1;33m\u001b[0m\u001b[0m\n\u001b[0m\u001b[0;32m   1231\u001b[0m         \u001b[1;32mif\u001b[0m \u001b[1;32mnot\u001b[0m \u001b[0mhasattr\u001b[0m\u001b[1;33m(\u001b[0m\u001b[0mmodel\u001b[0m\u001b[1;33m,\u001b[0m \u001b[1;34m'ns_exponent'\u001b[0m\u001b[1;33m)\u001b[0m\u001b[1;33m:\u001b[0m\u001b[1;33m\u001b[0m\u001b[1;33m\u001b[0m\u001b[0m\n\u001b[0;32m   1232\u001b[0m             \u001b[0mmodel\u001b[0m\u001b[1;33m.\u001b[0m\u001b[0mns_exponent\u001b[0m \u001b[1;33m=\u001b[0m \u001b[1;36m0.75\u001b[0m\u001b[1;33m\u001b[0m\u001b[1;33m\u001b[0m\u001b[0m\n",
      "\u001b[1;32m~\\Anaconda3\\envs\\matchms-dev\\lib\\site-packages\\gensim\\models\\base_any2vec.py\u001b[0m in \u001b[0;36mload\u001b[1;34m(cls, fname_or_handle, **kwargs)\u001b[0m\n\u001b[0;32m    600\u001b[0m \u001b[1;33m\u001b[0m\u001b[0m\n\u001b[0;32m    601\u001b[0m         \"\"\"\n\u001b[1;32m--> 602\u001b[1;33m         \u001b[1;32mreturn\u001b[0m \u001b[0msuper\u001b[0m\u001b[1;33m(\u001b[0m\u001b[0mBaseAny2VecModel\u001b[0m\u001b[1;33m,\u001b[0m \u001b[0mcls\u001b[0m\u001b[1;33m)\u001b[0m\u001b[1;33m.\u001b[0m\u001b[0mload\u001b[0m\u001b[1;33m(\u001b[0m\u001b[0mfname_or_handle\u001b[0m\u001b[1;33m,\u001b[0m \u001b[1;33m**\u001b[0m\u001b[0mkwargs\u001b[0m\u001b[1;33m)\u001b[0m\u001b[1;33m\u001b[0m\u001b[1;33m\u001b[0m\u001b[0m\n\u001b[0m\u001b[0;32m    603\u001b[0m \u001b[1;33m\u001b[0m\u001b[0m\n\u001b[0;32m    604\u001b[0m     \u001b[1;32mdef\u001b[0m \u001b[0msave\u001b[0m\u001b[1;33m(\u001b[0m\u001b[0mself\u001b[0m\u001b[1;33m,\u001b[0m \u001b[0mfname_or_handle\u001b[0m\u001b[1;33m,\u001b[0m \u001b[1;33m**\u001b[0m\u001b[0mkwargs\u001b[0m\u001b[1;33m)\u001b[0m\u001b[1;33m:\u001b[0m\u001b[1;33m\u001b[0m\u001b[1;33m\u001b[0m\u001b[0m\n",
      "\u001b[1;32m~\\Anaconda3\\envs\\matchms-dev\\lib\\site-packages\\gensim\\utils.py\u001b[0m in \u001b[0;36mload\u001b[1;34m(cls, fname, mmap)\u001b[0m\n\u001b[0;32m    433\u001b[0m         \u001b[0mcompress\u001b[0m\u001b[1;33m,\u001b[0m \u001b[0msubname\u001b[0m \u001b[1;33m=\u001b[0m \u001b[0mSaveLoad\u001b[0m\u001b[1;33m.\u001b[0m\u001b[0m_adapt_by_suffix\u001b[0m\u001b[1;33m(\u001b[0m\u001b[0mfname\u001b[0m\u001b[1;33m)\u001b[0m\u001b[1;33m\u001b[0m\u001b[1;33m\u001b[0m\u001b[0m\n\u001b[0;32m    434\u001b[0m \u001b[1;33m\u001b[0m\u001b[0m\n\u001b[1;32m--> 435\u001b[1;33m         \u001b[0mobj\u001b[0m \u001b[1;33m=\u001b[0m \u001b[0munpickle\u001b[0m\u001b[1;33m(\u001b[0m\u001b[0mfname\u001b[0m\u001b[1;33m)\u001b[0m\u001b[1;33m\u001b[0m\u001b[1;33m\u001b[0m\u001b[0m\n\u001b[0m\u001b[0;32m    436\u001b[0m         \u001b[0mobj\u001b[0m\u001b[1;33m.\u001b[0m\u001b[0m_load_specials\u001b[0m\u001b[1;33m(\u001b[0m\u001b[0mfname\u001b[0m\u001b[1;33m,\u001b[0m \u001b[0mmmap\u001b[0m\u001b[1;33m,\u001b[0m \u001b[0mcompress\u001b[0m\u001b[1;33m,\u001b[0m \u001b[0msubname\u001b[0m\u001b[1;33m)\u001b[0m\u001b[1;33m\u001b[0m\u001b[1;33m\u001b[0m\u001b[0m\n\u001b[0;32m    437\u001b[0m         \u001b[0mlogger\u001b[0m\u001b[1;33m.\u001b[0m\u001b[0minfo\u001b[0m\u001b[1;33m(\u001b[0m\u001b[1;34m\"loaded %s\"\u001b[0m\u001b[1;33m,\u001b[0m \u001b[0mfname\u001b[0m\u001b[1;33m)\u001b[0m\u001b[1;33m\u001b[0m\u001b[1;33m\u001b[0m\u001b[0m\n",
      "\u001b[1;32m~\\Anaconda3\\envs\\matchms-dev\\lib\\site-packages\\gensim\\utils.py\u001b[0m in \u001b[0;36munpickle\u001b[1;34m(fname)\u001b[0m\n\u001b[0;32m   1393\u001b[0m \u001b[1;33m\u001b[0m\u001b[0m\n\u001b[0;32m   1394\u001b[0m     \"\"\"\n\u001b[1;32m-> 1395\u001b[1;33m     \u001b[1;32mwith\u001b[0m \u001b[0mopen\u001b[0m\u001b[1;33m(\u001b[0m\u001b[0mfname\u001b[0m\u001b[1;33m,\u001b[0m \u001b[1;34m'rb'\u001b[0m\u001b[1;33m)\u001b[0m \u001b[1;32mas\u001b[0m \u001b[0mf\u001b[0m\u001b[1;33m:\u001b[0m\u001b[1;33m\u001b[0m\u001b[1;33m\u001b[0m\u001b[0m\n\u001b[0m\u001b[0;32m   1396\u001b[0m         \u001b[1;31m# Because of loading from S3 load can't be used (missing readline in smart_open)\u001b[0m\u001b[1;33m\u001b[0m\u001b[1;33m\u001b[0m\u001b[1;33m\u001b[0m\u001b[0m\n\u001b[0;32m   1397\u001b[0m         \u001b[1;32mif\u001b[0m \u001b[0msys\u001b[0m\u001b[1;33m.\u001b[0m\u001b[0mversion_info\u001b[0m \u001b[1;33m>\u001b[0m \u001b[1;33m(\u001b[0m\u001b[1;36m3\u001b[0m\u001b[1;33m,\u001b[0m \u001b[1;36m0\u001b[0m\u001b[1;33m)\u001b[0m\u001b[1;33m:\u001b[0m\u001b[1;33m\u001b[0m\u001b[1;33m\u001b[0m\u001b[0m\n",
      "\u001b[1;32m~\\Anaconda3\\envs\\matchms-dev\\lib\\site-packages\\smart_open\\smart_open_lib.py\u001b[0m in \u001b[0;36mopen\u001b[1;34m(uri, mode, buffering, encoding, errors, newline, closefd, opener, ignore_ext, transport_params)\u001b[0m\n\u001b[0;32m    187\u001b[0m         \u001b[0mbuffering\u001b[0m\u001b[1;33m=\u001b[0m\u001b[0mbuffering\u001b[0m\u001b[1;33m,\u001b[0m\u001b[1;33m\u001b[0m\u001b[1;33m\u001b[0m\u001b[0m\n\u001b[0;32m    188\u001b[0m         \u001b[0mencoding\u001b[0m\u001b[1;33m=\u001b[0m\u001b[0mencoding\u001b[0m\u001b[1;33m,\u001b[0m\u001b[1;33m\u001b[0m\u001b[1;33m\u001b[0m\u001b[0m\n\u001b[1;32m--> 189\u001b[1;33m         \u001b[0merrors\u001b[0m\u001b[1;33m=\u001b[0m\u001b[0merrors\u001b[0m\u001b[1;33m,\u001b[0m\u001b[1;33m\u001b[0m\u001b[1;33m\u001b[0m\u001b[0m\n\u001b[0m\u001b[0;32m    190\u001b[0m     )\n\u001b[0;32m    191\u001b[0m     \u001b[1;32mif\u001b[0m \u001b[0mfobj\u001b[0m \u001b[1;32mis\u001b[0m \u001b[1;32mnot\u001b[0m \u001b[1;32mNone\u001b[0m\u001b[1;33m:\u001b[0m\u001b[1;33m\u001b[0m\u001b[1;33m\u001b[0m\u001b[0m\n",
      "\u001b[1;32m~\\Anaconda3\\envs\\matchms-dev\\lib\\site-packages\\smart_open\\smart_open_lib.py\u001b[0m in \u001b[0;36m_shortcut_open\u001b[1;34m(uri, mode, ignore_ext, buffering, encoding, errors)\u001b[0m\n\u001b[0;32m    360\u001b[0m         \u001b[0mopen_kwargs\u001b[0m\u001b[1;33m[\u001b[0m\u001b[1;34m'errors'\u001b[0m\u001b[1;33m]\u001b[0m \u001b[1;33m=\u001b[0m \u001b[0merrors\u001b[0m\u001b[1;33m\u001b[0m\u001b[1;33m\u001b[0m\u001b[0m\n\u001b[0;32m    361\u001b[0m \u001b[1;33m\u001b[0m\u001b[0m\n\u001b[1;32m--> 362\u001b[1;33m     \u001b[1;32mreturn\u001b[0m \u001b[0m_builtin_open\u001b[0m\u001b[1;33m(\u001b[0m\u001b[0mlocal_path\u001b[0m\u001b[1;33m,\u001b[0m \u001b[0mmode\u001b[0m\u001b[1;33m,\u001b[0m \u001b[0mbuffering\u001b[0m\u001b[1;33m=\u001b[0m\u001b[0mbuffering\u001b[0m\u001b[1;33m,\u001b[0m \u001b[1;33m**\u001b[0m\u001b[0mopen_kwargs\u001b[0m\u001b[1;33m)\u001b[0m\u001b[1;33m\u001b[0m\u001b[1;33m\u001b[0m\u001b[0m\n\u001b[0m\u001b[0;32m    363\u001b[0m \u001b[1;33m\u001b[0m\u001b[0m\n\u001b[0;32m    364\u001b[0m \u001b[1;33m\u001b[0m\u001b[0m\n",
      "\u001b[1;31mFileNotFoundError\u001b[0m: [Errno 2] No such file or directory: 'C:\\\\OneDrive - Netherlands eScience Center\\\\Project_Wageningen_iOMEGA\\\\matchms\\\\data\\\\trained_models\\\\spec2vec_UniqueInchikeys_ratio05_filtered_201101_iter_15.model'"
     ]
    }
   ],
   "source": [
    "path_models = os.path.join(path_data, \"trained_models\")\n",
    "model_file = os.path.join(path_models, \"spec2vec_UniqueInchikeys_ratio05_filtered_iter_15.model\")\n",
    "\n",
    "# Load pretrained model\n",
    "model = gensim.models.Word2Vec.load(model_file)"
   ]
  },
  {
   "cell_type": "code",
   "execution_count": 6,
   "metadata": {},
   "outputs": [],
   "source": [
    "from spec2vec import Spec2Vec\n",
    "from spec2vec import SpectrumDocument "
   ]
  },
  {
   "cell_type": "code",
   "execution_count": 11,
   "metadata": {},
   "outputs": [],
   "source": [
    "documents = [SpectrumDocument(s, n_decimals=2) for s in spectrums_postprocessed]"
   ]
  },
  {
   "cell_type": "code",
   "execution_count": 12,
   "metadata": {},
   "outputs": [
    {
     "data": {
      "text/plain": [
       "['peak@289.29',\n",
       " 'peak@295.55',\n",
       " 'peak@298.49',\n",
       " 'peak@317.32',\n",
       " 'peak@319.66',\n",
       " 'peak@324.48',\n",
       " 'peak@325.32',\n",
       " 'peak@339.79',\n",
       " 'peak@343.95',\n",
       " 'peak@347.02',\n",
       " 'peak@347.91',\n",
       " 'peak@361.15',\n",
       " 'peak@361.84',\n",
       " 'peak@364.23',\n",
       " 'peak@364.86',\n",
       " 'peak@365.85',\n",
       " 'peak@368.22',\n",
       " 'peak@368.97',\n",
       " 'peak@375.07',\n",
       " 'peak@375.75',\n",
       " 'peak@382.75',\n",
       " 'peak@384.20',\n",
       " 'peak@390.57',\n",
       " 'peak@394.05',\n",
       " 'peak@397.11',\n",
       " 'peak@404.42',\n",
       " 'peak@411.09',\n",
       " 'peak@413.78',\n",
       " 'peak@427.67',\n",
       " 'peak@436.19',\n",
       " 'peak@443.27',\n",
       " 'peak@446.27',\n",
       " 'peak@447.75',\n",
       " 'peak@455.25',\n",
       " 'peak@456.11',\n",
       " 'peak@457.54',\n",
       " 'peak@464.29',\n",
       " 'peak@469.87',\n",
       " 'peak@471.06',\n",
       " 'peak@475.26',\n",
       " 'peak@476.14',\n",
       " 'peak@476.98',\n",
       " 'peak@478.89',\n",
       " 'peak@479.98',\n",
       " 'peak@483.24',\n",
       " 'peak@487.21',\n",
       " 'peak@488.16',\n",
       " 'peak@491.19',\n",
       " 'peak@494.28',\n",
       " 'peak@495.65',\n",
       " 'peak@498.41',\n",
       " 'peak@503.03',\n",
       " 'peak@504.34',\n",
       " 'peak@505.15',\n",
       " 'peak@510.18',\n",
       " 'peak@512.17',\n",
       " 'peak@513.27',\n",
       " 'peak@514.96',\n",
       " 'peak@515.92',\n",
       " 'peak@520.97',\n",
       " 'peak@521.82',\n",
       " 'peak@523.17',\n",
       " 'peak@529.04',\n",
       " 'peak@530.99',\n",
       " 'peak@532.38',\n",
       " 'peak@534.58',\n",
       " 'peak@538.00',\n",
       " 'peak@539.22',\n",
       " 'peak@540.67',\n",
       " 'peak@548.06',\n",
       " 'peak@554.12',\n",
       " 'peak@556.03',\n",
       " 'peak@557.29',\n",
       " 'peak@558.00',\n",
       " 'peak@559.94',\n",
       " 'peak@561.33',\n",
       " 'peak@564.12',\n",
       " 'peak@564.95',\n",
       " 'peak@566.44',\n",
       " 'peak@571.33',\n",
       " 'peak@572.05',\n",
       " 'peak@575.22',\n",
       " 'peak@577.10',\n",
       " 'peak@579.65',\n",
       " 'peak@580.94',\n",
       " 'peak@582.11',\n",
       " 'peak@583.46',\n",
       " 'peak@585.24',\n",
       " 'peak@598.17',\n",
       " 'peak@599.35',\n",
       " 'peak@600.38',\n",
       " 'peak@602.27',\n",
       " 'peak@609.30',\n",
       " 'peak@613.42',\n",
       " 'peak@622.21',\n",
       " 'peak@623.02',\n",
       " 'peak@623.99',\n",
       " 'peak@625.22',\n",
       " 'peak@638.30',\n",
       " 'peak@640.27',\n",
       " 'peak@641.24',\n",
       " 'peak@646.10',\n",
       " 'peak@649.28',\n",
       " 'peak@651.53',\n",
       " 'peak@657.13',\n",
       " 'peak@658.09',\n",
       " 'peak@659.42',\n",
       " 'peak@663.39',\n",
       " 'peak@668.33',\n",
       " 'peak@669.36',\n",
       " 'peak@680.22',\n",
       " 'peak@681.99',\n",
       " 'peak@685.96',\n",
       " 'peak@691.65',\n",
       " 'peak@693.23',\n",
       " 'peak@694.31',\n",
       " 'peak@696.33',\n",
       " 'peak@697.13',\n",
       " 'peak@709.46',\n",
       " 'peak@710.80',\n",
       " 'peak@711.74',\n",
       " 'peak@714.07',\n",
       " 'peak@715.58',\n",
       " 'peak@723.27',\n",
       " 'peak@724.08',\n",
       " 'peak@725.49',\n",
       " 'peak@728.35',\n",
       " 'peak@735.81',\n",
       " 'peak@738.35',\n",
       " 'peak@744.37',\n",
       " 'peak@747.46',\n",
       " 'peak@753.27',\n",
       " 'peak@761.61',\n",
       " 'peak@764.46',\n",
       " 'peak@765.28',\n",
       " 'peak@769.28',\n",
       " 'peak@770.33',\n",
       " 'peak@771.39',\n",
       " 'peak@787.43',\n",
       " 'peak@796.14',\n",
       " 'peak@797.23',\n",
       " 'peak@806.56',\n",
       " 'peak@808.44',\n",
       " 'peak@811.64',\n",
       " 'peak@812.30',\n",
       " 'peak@813.15',\n",
       " 'peak@817.22',\n",
       " 'peak@820.27',\n",
       " 'peak@821.29',\n",
       " 'peak@823.36',\n",
       " 'peak@824.62',\n",
       " 'peak@828.52',\n",
       " 'peak@830.41',\n",
       " 'peak@831.31',\n",
       " 'peak@832.11',\n",
       " 'peak@833.18',\n",
       " 'peak@835.21',\n",
       " 'peak@836.08',\n",
       " 'peak@838.52',\n",
       " 'peak@839.46',\n",
       " 'peak@845.61',\n",
       " 'peak@847.43',\n",
       " 'peak@848.13',\n",
       " 'peak@851.38',\n",
       " 'peak@852.37',\n",
       " 'peak@853.27',\n",
       " 'peak@865.60',\n",
       " 'peak@866.30',\n",
       " 'peak@867.19',\n",
       " 'peak@868.37',\n",
       " 'peak@869.33',\n",
       " 'peak@871.56',\n",
       " 'peak@877.14',\n",
       " 'peak@880.22',\n",
       " 'peak@883.44',\n",
       " 'peak@888.17',\n",
       " 'peak@889.28',\n",
       " 'peak@892.13',\n",
       " 'peak@893.47',\n",
       " 'peak@895.61',\n",
       " 'peak@899.01',\n",
       " 'peak@901.35',\n",
       " 'peak@902.33',\n",
       " 'peak@909.42',\n",
       " 'peak@910.52',\n",
       " 'peak@911.53',\n",
       " 'peak@914.31',\n",
       " 'peak@915.22',\n",
       " 'peak@918.67',\n",
       " 'peak@919.40',\n",
       " 'peak@921.12',\n",
       " 'peak@922.21',\n",
       " 'peak@925.06',\n",
       " 'peak@931.13',\n",
       " 'peak@932.35',\n",
       " 'peak@933.52',\n",
       " 'peak@935.49',\n",
       " 'peak@936.55',\n",
       " 'peak@937.59',\n",
       " 'peak@938.47',\n",
       " 'peak@939.62',\n",
       " 'peak@946.26',\n",
       " 'peak@949.37',\n",
       " 'peak@950.28',\n",
       " 'peak@951.55',\n",
       " 'peak@953.40',\n",
       " 'peak@954.49',\n",
       " 'peak@963.69',\n",
       " 'peak@964.52',\n",
       " 'peak@965.19',\n",
       " 'peak@982.22',\n",
       " 'loss@16.35',\n",
       " 'loss@17.02',\n",
       " 'loss@17.85',\n",
       " 'loss@27.05',\n",
       " 'loss@28.14',\n",
       " 'loss@29.99',\n",
       " 'loss@31.26',\n",
       " 'loss@32.17',\n",
       " 'loss@35.28',\n",
       " 'loss@41.92',\n",
       " 'loss@43.07',\n",
       " 'loss@43.95',\n",
       " 'loss@44.99',\n",
       " 'loss@46.05',\n",
       " 'loss@48.02',\n",
       " 'loss@49.19',\n",
       " 'loss@50.41',\n",
       " 'loss@56.48',\n",
       " 'loss@59.33',\n",
       " 'loss@60.42',\n",
       " 'loss@62.14',\n",
       " 'loss@62.87',\n",
       " 'loss@66.32',\n",
       " 'loss@67.23',\n",
       " 'loss@70.01',\n",
       " 'loss@71.02',\n",
       " 'loss@72.12',\n",
       " 'loss@79.21',\n",
       " 'loss@80.19',\n",
       " 'loss@82.53',\n",
       " 'loss@85.93',\n",
       " 'loss@88.07',\n",
       " 'loss@89.41',\n",
       " 'loss@92.26',\n",
       " 'loss@93.37',\n",
       " 'loss@98.10',\n",
       " 'loss@101.32',\n",
       " 'loss@104.40',\n",
       " 'loss@109.98',\n",
       " 'loss@112.21',\n",
       " 'loss@113.17',\n",
       " 'loss@114.35',\n",
       " 'loss@115.24',\n",
       " 'loss@115.94',\n",
       " 'loss@128.27',\n",
       " 'loss@129.17',\n",
       " 'loss@130.16',\n",
       " 'loss@133.41',\n",
       " 'loss@134.11',\n",
       " 'loss@135.93',\n",
       " 'loss@142.08',\n",
       " 'loss@143.02',\n",
       " 'loss@145.46',\n",
       " 'loss@146.33',\n",
       " 'loss@148.36',\n",
       " 'loss@149.43',\n",
       " 'loss@150.23',\n",
       " 'loss@151.13',\n",
       " 'loss@153.02',\n",
       " 'loss@156.92',\n",
       " 'loss@158.18',\n",
       " 'loss@160.25',\n",
       " 'loss@161.27',\n",
       " 'loss@164.32',\n",
       " 'loss@168.39',\n",
       " 'loss@169.24',\n",
       " 'loss@169.90',\n",
       " 'loss@173.10',\n",
       " 'loss@174.98',\n",
       " 'loss@184.31',\n",
       " 'loss@185.40',\n",
       " 'loss@194.11']"
      ]
     },
     "execution_count": 12,
     "metadata": {},
     "output_type": "execute_result"
    }
   ],
   "source": [
    "documents[0].words"
   ]
  },
  {
   "cell_type": "markdown",
   "metadata": {},
   "source": [
    "## Actual score calculation\n",
    "+ Using ``Spec2Vec`` with ``intensity_weighting_power=0.5``.\n",
    "+ Calculate matrix of all-vs-all similarity scores."
   ]
  },
  {
   "cell_type": "code",
   "execution_count": 13,
   "metadata": {},
   "outputs": [],
   "source": [
    "spec2vec_similarity = Spec2Vec(model, intensity_weighting_power=0.5)\n",
    "similarity_matrix = spec2vec_similarity.matrix(documents, documents, is_symmetric=True)"
   ]
  },
  {
   "cell_type": "markdown",
   "metadata": {},
   "source": [
    "## Store similarity matrix"
   ]
  },
  {
   "cell_type": "code",
   "execution_count": 14,
   "metadata": {},
   "outputs": [],
   "source": [
    "filename = os.path.join(path_data,'similarities_spec2vec_2dec_15iter.npy')\n",
    "np.save(filename, similarity_matrix)"
   ]
  },
  {
   "cell_type": "markdown",
   "metadata": {},
   "source": [
    "---"
   ]
  },
  {
   "cell_type": "markdown",
   "metadata": {},
   "source": [
    "# Same but now with model trained on all positive ionmode spectra\n",
    "(or more preciselym all that had >= 10 peaks)"
   ]
  },
  {
   "cell_type": "markdown",
   "metadata": {},
   "source": [
    "### Load pretrained spec2vec model"
   ]
  },
  {
   "cell_type": "code",
   "execution_count": 6,
   "metadata": {},
   "outputs": [],
   "source": [
    "path_models = os.path.join(path_data, \"trained_models\")\n",
    "model_file = os.path.join(path_models, \"spec2vec_AllPositive_ratio05_filtered_201101_iter_15.model\")\n",
    "\n",
    "# Load pretrained model\n",
    "model = gensim.models.Word2Vec.load(model_file)"
   ]
  },
  {
   "cell_type": "code",
   "execution_count": 7,
   "metadata": {},
   "outputs": [],
   "source": [
    "from spec2vec import Spec2Vec\n",
    "from spec2vec import SpectrumDocument "
   ]
  },
  {
   "cell_type": "code",
   "execution_count": 8,
   "metadata": {},
   "outputs": [],
   "source": [
    "documents = [SpectrumDocument(s, n_decimals=2) for s in spectrums_postprocessed]"
   ]
  },
  {
   "cell_type": "code",
   "execution_count": 9,
   "metadata": {},
   "outputs": [
    {
     "data": {
      "text/plain": [
       "['peak@289.29',\n",
       " 'peak@295.55',\n",
       " 'peak@298.49',\n",
       " 'peak@317.32',\n",
       " 'peak@319.66',\n",
       " 'peak@324.48',\n",
       " 'peak@325.32',\n",
       " 'peak@339.79',\n",
       " 'peak@343.95',\n",
       " 'peak@347.02']"
      ]
     },
     "execution_count": 9,
     "metadata": {},
     "output_type": "execute_result"
    }
   ],
   "source": [
    "documents[0].words[:10]"
   ]
  },
  {
   "cell_type": "markdown",
   "metadata": {},
   "source": [
    "## Actual score calculation\n",
    "+ Using ``Spec2Vec`` with ``intensity_weighting_power=0.5``.\n",
    "+ Calculate matrix of all-vs-all similarity scores."
   ]
  },
  {
   "cell_type": "code",
   "execution_count": 10,
   "metadata": {},
   "outputs": [],
   "source": [
    "spec2vec_similarity = Spec2Vec(model, intensity_weighting_power=0.5)\n",
    "\n",
    "similarity_matrix = spec2vec_similarity.matrix(documents, documents, is_symmetric=True)"
   ]
  },
  {
   "cell_type": "markdown",
   "metadata": {},
   "source": [
    "## Store similarity matrix"
   ]
  },
  {
   "cell_type": "code",
   "execution_count": 11,
   "metadata": {},
   "outputs": [],
   "source": [
    "filename = os.path.join(path_data,'similarities_spec2vec_2dec_AllPositiveModel_15iter_201101.npy')\n",
    "np.save(filename, similarity_matrix)"
   ]
  }
 ],
 "metadata": {
  "kernelspec": {
   "display_name": "Python 3",
   "language": "python",
   "name": "python3"
  },
  "language_info": {
   "codemirror_mode": {
    "name": "ipython",
    "version": 3
   },
   "file_extension": ".py",
   "mimetype": "text/x-python",
   "name": "python",
   "nbconvert_exporter": "python",
   "pygments_lexer": "ipython3",
   "version": "3.7.6"
  }
 },
 "nbformat": 4,
 "nbformat_minor": 4
}
