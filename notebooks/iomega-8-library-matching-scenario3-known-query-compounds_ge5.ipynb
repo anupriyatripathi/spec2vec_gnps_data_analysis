{
 "cells": [
  {
   "cell_type": "markdown",
   "metadata": {},
   "source": [
    "# Spec2Vec - Search for matching compounds in a spectral library\n",
    "One very important use case for a spectral similariy measure is libarary matching.  \n",
    "This means matching previously unseen/unknown spectra to known, annotated sepctra in a larger library.\n",
    "\n",
    "## Scenario 3:\n",
    "- Match 1000 query spectra.\n",
    "- For all query spectra we have >= 5 spectrum of same InChIKey in the library\n",
    "- filter matches using precursor m/z match (within 1ppm)"
   ]
  },
  {
   "cell_type": "code",
   "execution_count": 1,
   "metadata": {},
   "outputs": [],
   "source": [
    "import os\n",
    "import sys\n",
    "import gensim\n",
    "import numpy as np\n",
    "import pandas as pd\n",
    "from matplotlib import pyplot as plt\n",
    "\n",
    "ROOT = os.path.dirname(os.getcwd())\n",
    "#path_data = os.path.join(ROOT, 'data')\n",
    "path_data = 'C:\\\\OneDrive - Netherlands eScience Center\\\\Project_Wageningen_iOMEGA\\\\matchms\\\\data\\\\'\n",
    "sys.path.insert(0, ROOT)"
   ]
  },
  {
   "cell_type": "markdown",
   "metadata": {},
   "source": [
    "### Import pre-processed dataset \"AllPositive\""
   ]
  },
  {
   "cell_type": "code",
   "execution_count": 2,
   "metadata": {},
   "outputs": [
    {
     "name": "stdout",
     "output_type": "stream",
     "text": [
      "number of spectra: 112956\n"
     ]
    }
   ],
   "source": [
    "from matchms.importing import load_from_json\n",
    "\n",
    "filename = os.path.join(path_data,'gnps_positive_ionmode_cleaned_by_matchms_and_lookups.json')\n",
    "spectrums = load_from_json(filename)\n",
    "\n",
    "print(\"number of spectra:\", len(spectrums))"
   ]
  },
  {
   "cell_type": "code",
   "execution_count": 2,
   "metadata": {},
   "outputs": [],
   "source": [
    "# alternative (faster)\n",
    "import pickle\n",
    "outfile = os.path.join(path_data,'gnps_positive_ionmode_cleaned_by_matchms_and_lookups.pickle')\n",
    "with open(outfile, 'rb') as file:\n",
    "    spectrums = pickle.load(file)"
   ]
  },
  {
   "cell_type": "code",
   "execution_count": 3,
   "metadata": {},
   "outputs": [
    {
     "data": {
      "text/plain": [
       "Text(0, 0.5, 'number of spectra in respective bin')"
      ]
     },
     "execution_count": 3,
     "metadata": {},
     "output_type": "execute_result"
    },
    {
     "data": {
      "image/png": "[encoded data removed]",
      "text/plain": [
       "<Figure size 864x504 with 1 Axes>"
      ]
     },
     "metadata": {
      "needs_background": "light"
     },
     "output_type": "display_data"
    }
   ],
   "source": [
    "number_of_peaks = [len(spec.peaks) for spec in spectrums]\n",
    "\n",
    "plt.figure(figsize=(12,7))\n",
    "hist = plt.hist(number_of_peaks, np.arange(0,2000,20))\n",
    "plt.xlabel(\"number of peaks in spectrum\")\n",
    "plt.ylabel(\"number of spectra in respective bin\")"
   ]
  },
  {
   "cell_type": "markdown",
   "metadata": {},
   "source": [
    "## Post-process data\n",
    "We here do different post-processing for either the \"classical\" scores (Cosine, modified Cosine) or Spe2Vec. The reason for this is mostly to make sure that we do full justice to the classical similarity measures.\n",
    "\n",
    "#### Post-processing for classical scores\n",
    "Cosine and modified cosine scores are build on multiplying intensities of matching peaks. Small peaks (<0.01) hence contribute very little to the final scores and are left out to avoid excessive computation times. \n",
    "+ normalize peaks (maximum intensity to 1)\n",
    "+ remove peaks outside [0, 1000] m/z window\n",
    "+ remove spectra with < 10 peaks\n",
    "+ remove peaks with intensities < 0.01 of maximum intensity.\n",
    "\n",
    "#### Post-processing for Spec2Vec\n",
    "Spec2Vec similarity scores rely on creating a ``document vector`` for each spectrum. For the underlying word2vec model we want the documents (=spectra) to be more homogeneous in their number of unique words. Assuming that larger compounds will on average break down into a higher number of meaningful fragment peaks we reduce the document size of each spectrum according to its parent mass.\n",
    "+ normalize peaks (maximum intensity to 1)\n",
    "+ remove peaks outside [0, 1000] m/z window\n",
    "+ remove spectra with < 10 peaks\n",
    "+ reduce number of peaks to maximum of 0.5 * parent mass\n",
    "+ remove peaks with intensities < 0.001 of maximum intensity (unless this brings number of peaks to less than 10)"
   ]
  },
  {
   "cell_type": "code",
   "execution_count": 4,
   "metadata": {},
   "outputs": [
    {
     "name": "stdout",
     "output_type": "stream",
     "text": [
      "95320 remaining spectra.\n"
     ]
    }
   ],
   "source": [
    "from matchms.filtering import normalize_intensities\n",
    "from matchms.filtering import require_minimum_number_of_peaks\n",
    "from matchms.filtering import select_by_mz\n",
    "from matchms.filtering import select_by_relative_intensity\n",
    "from matchms.filtering import reduce_to_number_of_peaks\n",
    "from matchms.filtering import add_losses\n",
    "\n",
    "def post_process_classical(s):\n",
    "    s = normalize_intensities(s)\n",
    "    s = select_by_mz(s, mz_from=0, mz_to=1000)\n",
    "    s = require_minimum_number_of_peaks(s, n_required=10)\n",
    "    s = select_by_relative_intensity(s, intensity_from=0.01, intensity_to=1.0)\n",
    "    return s\n",
    "\n",
    "# apply filters to the data\n",
    "spectrums_classical = [post_process_classical(s) for s in spectrums]\n",
    "\n",
    "# omit spectrums that didn't qualify for analysis\n",
    "spectrums_classical = [s for s in spectrums_classical if s is not None]\n",
    "\n",
    "print(\"{} remaining spectra.\".format(len(spectrums_classical)))"
   ]
  },
  {
   "cell_type": "code",
   "execution_count": 6,
   "metadata": {},
   "outputs": [],
   "source": [
    "import pickle\n",
    "pickle.dump(spectrums_classical, \n",
    "            open(os.path.join(path_data,'gnps_positive_ionmode_processed_classical.pickle'), \"wb\"))"
   ]
  },
  {
   "cell_type": "code",
   "execution_count": 3,
   "metadata": {},
   "outputs": [],
   "source": [
    "import pickle\n",
    "outfile = os.path.join(path_data,'gnps_positive_ionmode_processed_classical.pickle')\n",
    "with open(outfile, 'rb') as file:\n",
    "    spectrums_classical = pickle.load(file)"
   ]
  },
  {
   "cell_type": "code",
   "execution_count": 5,
   "metadata": {},
   "outputs": [
    {
     "name": "stdout",
     "output_type": "stream",
     "text": [
      "95320 remaining spectra.\n"
     ]
    }
   ],
   "source": [
    "def post_process_s2v(s):\n",
    "    s = normalize_intensities(s)\n",
    "    s = select_by_mz(s, mz_from=0, mz_to=1000)\n",
    "    s = require_minimum_number_of_peaks(s, n_required=10)\n",
    "    s = reduce_to_number_of_peaks(s, n_required=10, ratio_desired=0.5)\n",
    "    if s is None:\n",
    "        return None\n",
    "    s_remove_low_peaks = select_by_relative_intensity(s, intensity_from=0.001)\n",
    "    if len(s_remove_low_peaks.peaks) >= 10:\n",
    "        s = s_remove_low_peaks\n",
    "        \n",
    "    s = add_losses(s, loss_mz_from=5.0, loss_mz_to=200.0)\n",
    "    return s\n",
    "\n",
    "# apply post processing steps to the data\n",
    "spectrums_s2v = [post_process_s2v(s) for s in spectrums]\n",
    "\n",
    "# omit spectrums that didn't qualify for analysis\n",
    "spectrums_s2v = [s for s in spectrums_s2v if s is not None]\n",
    "\n",
    "print(\"{} remaining spectra.\".format(len(spectrums_s2v)))"
   ]
  },
  {
   "cell_type": "code",
   "execution_count": 7,
   "metadata": {},
   "outputs": [],
   "source": [
    "import pickle\n",
    "pickle.dump(spectrums_s2v, \n",
    "            open(os.path.join(path_data,'gnps_positive_ionmode_processed_s2v.pickle'), \"wb\"))"
   ]
  },
  {
   "cell_type": "code",
   "execution_count": 2,
   "metadata": {},
   "outputs": [],
   "source": [
    "import pickle\n",
    "outfile = os.path.join(path_data,'gnps_positive_ionmode_processed_s2v.pickle')\n",
    "with open(outfile, 'rb') as file:\n",
    "    spectrums_s2v = pickle.load(file)"
   ]
  },
  {
   "cell_type": "code",
   "execution_count": 8,
   "metadata": {},
   "outputs": [
    {
     "data": {
      "text/plain": [
       "Text(0, 0.5, 'number of spectra in respective bin')"
      ]
     },
     "execution_count": 8,
     "metadata": {},
     "output_type": "execute_result"
    },
    {
     "data": {
      "image/png": "[encoded data removed]",
      "text/plain": [
       "<Figure size 864x504 with 1 Axes>"
      ]
     },
     "metadata": {
      "needs_background": "light"
     },
     "output_type": "display_data"
    }
   ],
   "source": [
    "number_of_peaks = [len(spec.peaks) for spec in spectrums_classical]\n",
    "\n",
    "plt.figure(figsize=(12,7))\n",
    "hist = plt.hist(number_of_peaks, np.arange(0,2000,20))\n",
    "plt.xlabel(\"number of peaks in spectrum\")\n",
    "plt.ylabel(\"number of spectra in respective bin\")"
   ]
  },
  {
   "cell_type": "code",
   "execution_count": 9,
   "metadata": {},
   "outputs": [
    {
     "data": {
      "text/plain": [
       "42049"
      ]
     },
     "execution_count": 9,
     "metadata": {},
     "output_type": "execute_result"
    }
   ],
   "source": [
    "np.max(number_of_peaks)"
   ]
  },
  {
   "cell_type": "code",
   "execution_count": 10,
   "metadata": {},
   "outputs": [
    {
     "data": {
      "text/plain": [
       "Text(0, 0.5, 'number of spectra in respective bin')"
      ]
     },
     "execution_count": 10,
     "metadata": {},
     "output_type": "execute_result"
    },
    {
     "data": {
      "image/png": "[encoded data removed]",
      "text/plain": [
       "<Figure size 864x504 with 1 Axes>"
      ]
     },
     "metadata": {
      "needs_background": "light"
     },
     "output_type": "display_data"
    }
   ],
   "source": [
    "number_of_peaks = [len(spec.peaks) for spec in spectrums_s2v]\n",
    "\n",
    "plt.figure(figsize=(12,7))\n",
    "hist = plt.hist(number_of_peaks, np.arange(0,2000,20))\n",
    "plt.xlabel(\"number of peaks in spectrum\")\n",
    "plt.ylabel(\"number of spectra in respective bin\")"
   ]
  },
  {
   "cell_type": "code",
   "execution_count": 11,
   "metadata": {},
   "outputs": [
    {
     "data": {
      "text/plain": [
       "1081"
      ]
     },
     "execution_count": 11,
     "metadata": {},
     "output_type": "execute_result"
    }
   ],
   "source": [
    "np.max(number_of_peaks)"
   ]
  },
  {
   "cell_type": "markdown",
   "metadata": {},
   "source": [
    "## Inspect annotations"
   ]
  },
  {
   "cell_type": "code",
   "execution_count": 4,
   "metadata": {},
   "outputs": [
    {
     "data": {
      "text/plain": [
       "NEGQHKSYEYVFTD    432\n",
       "SULIDBRAXVDKBU    426\n",
       "IQGPMZRCLCCXAG    308\n",
       "WTJKGGKOPKCXLL    295\n",
       "IIZPXYDJLKNOIY    235\n",
       "RWKUXQNLWDTSLO    234\n",
       "QIBZFHLFHCIUOT    225\n",
       "ZAYXPDDGEIJGGW    212\n",
       "QJWDAOSZZYVBJZ    210\n",
       "KILNVBDSWZSGLL    205\n",
       "RFVFQQWKPSOBED    202\n",
       "IESVDEZGAHUQJU    197\n",
       "LFUDDCMNKWEORN    195\n",
       "JLPULHDHAOZNQI    182\n",
       "LSOWKZULVQWMLY    180\n",
       "XGGMHQYOVYWRLV    178\n",
       "LLHISNQVRRYJGL    175\n",
       "JFISYPWOVQNHLS    174\n",
       "SRIGHEHXEGELQJ    166\n",
       "ACTIUHUUMQJHFO    163\n",
       "dtype: int64"
      ]
     },
     "execution_count": 4,
     "metadata": {},
     "output_type": "execute_result"
    }
   ],
   "source": [
    "Inchikeys = []\n",
    "for spec in spectrums_classical:\n",
    "    Inchikeys.append(spec.get(\"inchikey\"))\n",
    "\n",
    "inchikeys_pd = pd.Series([x for x in Inchikeys if x])\n",
    "inchikeys_pd.str[:14].value_counts()[:20]"
   ]
  },
  {
   "cell_type": "code",
   "execution_count": 16,
   "metadata": {},
   "outputs": [
    {
     "data": {
      "text/plain": [
       "Text(0, 0.5, 'Number of inchikeys with respective number of occurences')"
      ]
     },
     "execution_count": 16,
     "metadata": {},
     "output_type": "execute_result"
    },
    {
     "data": {
      "image/png": "[encoded data removed]",
      "text/plain": [
       "<Figure size 864x432 with 1 Axes>"
      ]
     },
     "metadata": {
      "needs_background": "light"
     },
     "output_type": "display_data"
    }
   ],
   "source": [
    "plt.figure(figsize=(12,6))\n",
    "plt.hist(inchikeys_pd.str[:14].value_counts(), np.linspace(0, 60, 60))\n",
    "plt.xlabel('Number of occurences of inchikey')\n",
    "plt.ylabel('Number of inchikeys with respective number of occurences')"
   ]
  },
  {
   "cell_type": "markdown",
   "metadata": {},
   "source": [
    "### Randomly select 1000 inchikeys that exist >=6  times in the dataset"
   ]
  },
  {
   "cell_type": "code",
   "execution_count": 5,
   "metadata": {
    "scrolled": true
   },
   "outputs": [
    {
     "data": {
      "text/html": [
       "<div>\n",
       "<style scoped>\n",
       "    .dataframe tbody tr th:only-of-type {\n",
       "        vertical-align: middle;\n",
       "    }\n",
       "\n",
       "    .dataframe tbody tr th {\n",
       "        vertical-align: top;\n",
       "    }\n",
       "\n",
       "    .dataframe thead th {\n",
       "        text-align: right;\n",
       "    }\n",
       "</style>\n",
       "<table border=\"1\" class=\"dataframe\">\n",
       "  <thead>\n",
       "    <tr style=\"text-align: right;\">\n",
       "      <th></th>\n",
       "      <th>inchikey14</th>\n",
       "      <th>occurences</th>\n",
       "    </tr>\n",
       "  </thead>\n",
       "  <tbody>\n",
       "    <tr>\n",
       "      <th>0</th>\n",
       "      <td>NEGQHKSYEYVFTD</td>\n",
       "      <td>432</td>\n",
       "    </tr>\n",
       "    <tr>\n",
       "      <th>1</th>\n",
       "      <td>SULIDBRAXVDKBU</td>\n",
       "      <td>426</td>\n",
       "    </tr>\n",
       "    <tr>\n",
       "      <th>2</th>\n",
       "      <td>IQGPMZRCLCCXAG</td>\n",
       "      <td>308</td>\n",
       "    </tr>\n",
       "    <tr>\n",
       "      <th>3</th>\n",
       "      <td>WTJKGGKOPKCXLL</td>\n",
       "      <td>295</td>\n",
       "    </tr>\n",
       "    <tr>\n",
       "      <th>4</th>\n",
       "      <td>IIZPXYDJLKNOIY</td>\n",
       "      <td>235</td>\n",
       "    </tr>\n",
       "    <tr>\n",
       "      <th>5</th>\n",
       "      <td>RWKUXQNLWDTSLO</td>\n",
       "      <td>234</td>\n",
       "    </tr>\n",
       "    <tr>\n",
       "      <th>6</th>\n",
       "      <td>QIBZFHLFHCIUOT</td>\n",
       "      <td>225</td>\n",
       "    </tr>\n",
       "    <tr>\n",
       "      <th>7</th>\n",
       "      <td>ZAYXPDDGEIJGGW</td>\n",
       "      <td>212</td>\n",
       "    </tr>\n",
       "    <tr>\n",
       "      <th>8</th>\n",
       "      <td>QJWDAOSZZYVBJZ</td>\n",
       "      <td>210</td>\n",
       "    </tr>\n",
       "    <tr>\n",
       "      <th>9</th>\n",
       "      <td>KILNVBDSWZSGLL</td>\n",
       "      <td>205</td>\n",
       "    </tr>\n",
       "  </tbody>\n",
       "</table>\n",
       "</div>"
      ],
      "text/plain": [
       "       inchikey14  occurences\n",
       "0  NEGQHKSYEYVFTD         432\n",
       "1  SULIDBRAXVDKBU         426\n",
       "2  IQGPMZRCLCCXAG         308\n",
       "3  WTJKGGKOPKCXLL         295\n",
       "4  IIZPXYDJLKNOIY         235\n",
       "5  RWKUXQNLWDTSLO         234\n",
       "6  QIBZFHLFHCIUOT         225\n",
       "7  ZAYXPDDGEIJGGW         212\n",
       "8  QJWDAOSZZYVBJZ         210\n",
       "9  KILNVBDSWZSGLL         205"
      ]
     },
     "execution_count": 5,
     "metadata": {},
     "output_type": "execute_result"
    }
   ],
   "source": [
    "min_copies_in_data = 6\n",
    "\n",
    "suitable_inchikeys = pd.DataFrame(inchikeys_pd.str[:14].value_counts()[inchikeys_pd.str[:14].value_counts().values >= min_copies_in_data])\n",
    "suitable_inchikeys.reset_index(level=suitable_inchikeys.index.names, inplace=True)\n",
    "suitable_inchikeys.columns = (['inchikey14', 'occurences'])\n",
    "\n",
    "# Important: sort values to make it reproducible (same occurences have random order otherwise!)\n",
    "suitable_inchikeys = suitable_inchikeys.sort_values(['occurences', 'inchikey14'], ascending=False)\n",
    "suitable_inchikeys.head(10)"
   ]
  },
  {
   "cell_type": "code",
   "execution_count": 6,
   "metadata": {},
   "outputs": [
    {
     "name": "stdout",
     "output_type": "stream",
     "text": [
      "Number of spectra with inchikeys that exist >= 6 times: 3702\n"
     ]
    }
   ],
   "source": [
    "print(f\"Number of spectra with inchikeys that exist >= {min_copies_in_data} times:\", suitable_inchikeys.shape[0])"
   ]
  },
  {
   "cell_type": "code",
   "execution_count": 7,
   "metadata": {},
   "outputs": [
    {
     "name": "stdout",
     "output_type": "stream",
     "text": [
      "[1842 2246 2685 1610 1242 3521  438 2833 1023 2988 2245 1861 2755  805\n",
      " 2119 2430 1132 1467 2895 2370  179  298 1071 3569 1916]\n"
     ]
    },
    {
     "data": {
      "text/plain": [
       "array(['AMOGMTLMADGEOQ', 'FLRUCNJMPLRHQE', 'WXPNDRBBWZMPQG',\n",
       "       'RBCXKPQLDXSOQW', 'RKAXEWSQYMGBAP', 'NHYZSWZDJSUGSF',\n",
       "       'VOCJFEUCJDTXSA', 'DIWRORZWFLOCLC', 'MLSVKXQHUTYXHD',\n",
       "       'LRUDIIUSNGCQKF', 'FMOKUKPRJSMPOI', 'ZMELGIPFIBWPHX',\n",
       "       'NCIKQJBVUNUXLW', 'PVCLMZBWMWIHKX', 'LNOOSYCKMKZOJB',\n",
       "       'HUCNZRPYZDCCEF', 'ZSKDVJYWOHBGNI', 'BUOADWXGPJXKRM',\n",
       "       'UNBRKDKAWYKMIV', 'QQNSARJGBPMQDI', 'YUIIXXZIUIOJQY',\n",
       "       'MFYSYFVPBJMHGN', 'HDDNZVWBRRAOGK', 'JOOMJVFZQRQWKR',\n",
       "       'WZJZMXBKUWKXTQ'], dtype=object)"
      ]
     },
     "execution_count": 7,
     "metadata": {},
     "output_type": "execute_result"
    }
   ],
   "source": [
    "num_spectra = 1000\n",
    "np.random.seed(42) # to make it reproducible\n",
    "\n",
    "selection = np.random.choice(suitable_inchikeys.shape[0], num_spectra, replace=False)\n",
    "print(selection[:25])\n",
    "selected_inchikeys = suitable_inchikeys['inchikey14'].values[selection]\n",
    "selected_inchikeys[:25]"
   ]
  },
  {
   "cell_type": "markdown",
   "metadata": {},
   "source": [
    "### Inspect number of library spectra with same InChIKey as queries"
   ]
  },
  {
   "cell_type": "code",
   "execution_count": 8,
   "metadata": {},
   "outputs": [],
   "source": [
    "inchikeys14_array = np.array([x[:14] for x in Inchikeys if x is not None])\n",
    "number_of_copies = []\n",
    "\n",
    "for inchikey in selected_inchikeys:\n",
    "    number_of_copies.append(len(np.where(inchikeys14_array == inchikey)[0]))"
   ]
  },
  {
   "cell_type": "code",
   "execution_count": 10,
   "metadata": {},
   "outputs": [
    {
     "data": {
      "image/png": "[encoded data removed]",
      "text/plain": [
       "<Figure size 216x216 with 1 Axes>"
      ]
     },
     "metadata": {},
     "output_type": "display_data"
    }
   ],
   "source": [
    "plt.figure(figsize=(3,3))\n",
    "plt.style.use('seaborn-white')\n",
    "bins = [0, 1.5, 2.5, 5.5, 11.5, 21.5, 101.5]\n",
    "labels = [\"0\", \"1\", \"2-4\", \"5-10\", \"11-20\", \">20\"]\n",
    "a, b = np.histogram(number_of_copies, bins)\n",
    "plt.scatter(labels, a, s=100, c=\"red\")\n",
    "plt.ylabel('Number of queries (total=1000)')\n",
    "plt.xlabel('# of query InChIKey in library')\n",
    "plt.ylim(-20)\n",
    "plt.grid(True)\n",
    "plt.savefig(\"library_matching_scenario2_library_condition.svg\")"
   ]
  },
  {
   "cell_type": "markdown",
   "metadata": {},
   "source": [
    "### Randomly pick one spectra for each of the chosen inchikeys"
   ]
  },
  {
   "cell_type": "code",
   "execution_count": 11,
   "metadata": {},
   "outputs": [],
   "source": [
    "selected_spectra = []\n",
    "inchikeys_pd = pd.Series([x for x in Inchikeys]) #include all even empty ones to get the IDs right!\n",
    "\n",
    "np.random.seed(42) # to make it reproducible\n",
    "for inchikey in selected_inchikeys:\n",
    "    matches = inchikeys_pd[inchikeys_pd.str[:14] == inchikey].index.values\n",
    "    selected_spectra.append(int(np.random.choice(matches,1)[0]))"
   ]
  },
  {
   "cell_type": "code",
   "execution_count": 12,
   "metadata": {},
   "outputs": [
    {
     "data": {
      "text/plain": [
       "[76614, 89829, 68679, 87116, 78210, 62287, 85410, 66897, 86572, 59789]"
      ]
     },
     "execution_count": 12,
     "metadata": {},
     "output_type": "execute_result"
    }
   ],
   "source": [
    "selected_spectra[:10]"
   ]
  },
  {
   "cell_type": "code",
   "execution_count": 13,
   "metadata": {},
   "outputs": [
    {
     "name": "stdout",
     "output_type": "stream",
     "text": [
      "CCMSLIB00004699487 AMOGMTLMADGEOQ\n",
      "CCMSLIB00004716801 FLRUCNJMPLRHQE\n",
      "CCMSLIB00000570173 WXPNDRBBWZMPQG\n",
      "CCMSLIB00004713407 RBCXKPQLDXSOQW\n",
      "CCMSLIB00004701485 RKAXEWSQYMGBAP\n",
      "CCMSLIB00000214676 NHYZSWZDJSUGSF\n",
      "CCMSLIB00004711275 VOCJFEUCJDTXSA\n",
      "CCMSLIB00000566653 DIWRORZWFLOCLC\n",
      "CCMSLIB00004712728 MLSVKXQHUTYXHD\n",
      "CCMSLIB00000207198 LRUDIIUSNGCQKF\n"
     ]
    }
   ],
   "source": [
    "# Show gnps IDs for selected spectra\n",
    "for ID in selected_spectra[:10]:\n",
    "    print(spectrums_s2v[ID].get(\"spectrumid\"),\n",
    "         spectrums_s2v[ID].get(\"inchikey\")[:14])"
   ]
  },
  {
   "cell_type": "markdown",
   "metadata": {},
   "source": [
    "## Train new model on AllPositive dataset WITHOUT selected spectra"
   ]
  },
  {
   "cell_type": "code",
   "execution_count": 14,
   "metadata": {},
   "outputs": [],
   "source": [
    "from spec2vec import Spec2Vec\n",
    "from spec2vec import SpectrumDocument"
   ]
  },
  {
   "cell_type": "code",
   "execution_count": 15,
   "metadata": {},
   "outputs": [],
   "source": [
    "documents_library_s2v = [SpectrumDocument(s, n_decimals=2) for i, s in enumerate(spectrums_s2v) if i not in selected_spectra]"
   ]
  },
  {
   "cell_type": "code",
   "execution_count": 16,
   "metadata": {},
   "outputs": [],
   "source": [
    "documents_library_classical = [SpectrumDocument(s, n_decimals=2) for i, s in enumerate(spectrums_classical) if i not in selected_spectra]"
   ]
  },
  {
   "cell_type": "code",
   "execution_count": 17,
   "metadata": {},
   "outputs": [
    {
     "data": {
      "text/plain": [
       "(94320, 95320)"
      ]
     },
     "execution_count": 17,
     "metadata": {},
     "output_type": "execute_result"
    }
   ],
   "source": [
    "len(documents_library_s2v), len(spectrums_s2v)  # 1000 should be removed"
   ]
  },
  {
   "cell_type": "code",
   "execution_count": 18,
   "metadata": {},
   "outputs": [
    {
     "name": "stdout",
     "output_type": "stream",
     "text": [
      "  Epoch 1 of 20.Change in loss after epoch 1: 5710299.5\n",
      "Saving model with name: C:\\OneDrive - Netherlands eScience Center\\Project_Wageningen_iOMEGA\\matchms\\data\\trained_models\\spec2vec_librarymatching_scenario2_201127_iter_1.model\n",
      "  Epoch 2 of 20.Change in loss after epoch 2: 4383066.5\n",
      "  Epoch 3 of 20.Change in loss after epoch 3: 3865816.0\n",
      "Saving model with name: C:\\OneDrive - Netherlands eScience Center\\Project_Wageningen_iOMEGA\\matchms\\data\\trained_models\\spec2vec_librarymatching_scenario2_201127_iter_3.model\n",
      "  Epoch 4 of 20.Change in loss after epoch 4: 3522068.0\n",
      "  Epoch 5 of 20.Change in loss after epoch 5: 2966978.0\n",
      "Saving model with name: C:\\OneDrive - Netherlands eScience Center\\Project_Wageningen_iOMEGA\\matchms\\data\\trained_models\\spec2vec_librarymatching_scenario2_201127_iter_5.model\n",
      "  Epoch 6 of 20.Change in loss after epoch 6: 2808026.0\n",
      "  Epoch 7 of 20.Change in loss after epoch 7: 2736966.0\n",
      "  Epoch 8 of 20.Change in loss after epoch 8: 2634708.0\n",
      "  Epoch 9 of 20.Change in loss after epoch 9: 2540846.0\n",
      "  Epoch 10 of 20.Change in loss after epoch 10: 2439274.0\n",
      "Saving model with name: C:\\OneDrive - Netherlands eScience Center\\Project_Wageningen_iOMEGA\\matchms\\data\\trained_models\\spec2vec_librarymatching_scenario2_201127_iter_10.model\n",
      "  Epoch 11 of 20.Change in loss after epoch 11: 1544080.0\n",
      "  Epoch 12 of 20.Change in loss after epoch 12: 1528840.0\n",
      "  Epoch 13 of 20.Change in loss after epoch 13: 1483260.0\n",
      "  Epoch 14 of 20.Change in loss after epoch 14: 1489112.0\n",
      "  Epoch 15 of 20.Change in loss after epoch 15: 1504140.0\n",
      "Saving model with name: C:\\OneDrive - Netherlands eScience Center\\Project_Wageningen_iOMEGA\\matchms\\data\\trained_models\\spec2vec_librarymatching_scenario2_201127_iter_15.model\n",
      "  Epoch 16 of 20.Change in loss after epoch 16: 1450376.0\n",
      "  Epoch 17 of 20.Change in loss after epoch 17: 1399672.0\n",
      "  Epoch 18 of 20.Change in loss after epoch 18: 1409728.0\n",
      "  Epoch 19 of 20.Change in loss after epoch 19: 1380628.0\n",
      "  Epoch 20 of 20.Change in loss after epoch 20: 1379144.0\n",
      "Saving model with name: C:\\OneDrive - Netherlands eScience Center\\Project_Wageningen_iOMEGA\\matchms\\data\\trained_models\\spec2vec_librarymatching_scenario2_201127.model\n"
     ]
    }
   ],
   "source": [
    "from spec2vec.model_building import train_new_word2vec_model\n",
    "\n",
    "path_models = os.path.join(path_data, \"trained_models\")\n",
    "model_file = os.path.join(path_models, \"spec2vec_librarymatching_scenario2_201127.model\")\n",
    "\n",
    "iterations = [1, 3, 5, 10, 15, 20]\n",
    "\n",
    "# Train model with default parameters\n",
    "model = train_new_word2vec_model(documents_library_s2v, iterations, model_file)"
   ]
  },
  {
   "cell_type": "markdown",
   "metadata": {},
   "source": [
    "## Actual library matching"
   ]
  },
  {
   "cell_type": "code",
   "execution_count": 19,
   "metadata": {},
   "outputs": [],
   "source": [
    "sys.path.insert(0, os.path.join(ROOT, \"custom_functions\"))"
   ]
  },
  {
   "cell_type": "code",
   "execution_count": 20,
   "metadata": {},
   "outputs": [],
   "source": [
    "from library_search import library_matching"
   ]
  },
  {
   "cell_type": "markdown",
   "metadata": {},
   "source": [
    "#### Load word2vec model"
   ]
  },
  {
   "cell_type": "code",
   "execution_count": 21,
   "metadata": {},
   "outputs": [],
   "source": [
    "path_models = os.path.join(path_data, \"trained_models\")\n",
    "model_file = os.path.join(path_models, \"spec2vec_librarymatching_scenario2_201127_iter_15.model\")\n",
    "model = gensim.models.Word2Vec.load(model_file)"
   ]
  },
  {
   "cell_type": "code",
   "execution_count": 22,
   "metadata": {},
   "outputs": [],
   "source": [
    "documents_query_s2v = [SpectrumDocument(spectrums_s2v[i], n_decimals=2) for i in selected_spectra]"
   ]
  },
  {
   "cell_type": "code",
   "execution_count": 23,
   "metadata": {},
   "outputs": [],
   "source": [
    "documents_query_classical = [SpectrumDocument(spectrums_classical[i], n_decimals=2) for i in selected_spectra]"
   ]
  },
  {
   "cell_type": "code",
   "execution_count": 24,
   "metadata": {},
   "outputs": [
    {
     "data": {
      "text/plain": [
       "1000"
      ]
     },
     "execution_count": 24,
     "metadata": {},
     "output_type": "execute_result"
    }
   ],
   "source": [
    "len(documents_query_s2v)"
   ]
  },
  {
   "cell_type": "code",
   "execution_count": 25,
   "metadata": {},
   "outputs": [
    {
     "data": {
      "text/plain": [
       "'AMOGMTLMADGEOQ-OOLNSWIYSA-N'"
      ]
     },
     "execution_count": 25,
     "metadata": {},
     "output_type": "execute_result"
    }
   ],
   "source": [
    "documents_query_s2v[0]._obj.get(\"inchikey\")"
   ]
  },
  {
   "cell_type": "markdown",
   "metadata": {},
   "source": [
    "### Correct a few (< 10) spectrums with missing precursor_mz"
   ]
  },
  {
   "cell_type": "code",
   "execution_count": 26,
   "metadata": {},
   "outputs": [
    {
     "name": "stdout",
     "output_type": "stream",
     "text": [
      "2765\n",
      "parent mass new: 547.2247235480093 former was: -1.00727645199076\n",
      "precursor_mz new: 548.232 former was: 0.0\n",
      "2766\n",
      "parent mass new: 589.2357235480093 former was: -1.00727645199076\n",
      "precursor_mz new: 590.243 former was: 0.0\n",
      "3942\n",
      "parent mass new: 466.2697235480092 former was: -1.00727645199076\n",
      "precursor_mz new: 467.277 former was: 0.0\n",
      "3974\n",
      "parent mass new: 674.4887235480093 former was: -1.00727645199076\n",
      "precursor_mz new: 675.496 former was: 0.0\n",
      "3975\n",
      "parent mass new: 691.5147235480093 former was: -1.00727645199076\n",
      "precursor_mz new: 692.522 former was: 0.0\n",
      "3976\n",
      "parent mass new: 696.4707235480092 former was: -1.00727645199076\n",
      "precursor_mz new: 697.478 former was: 0.0\n",
      "3983\n",
      "parent mass new: 629.6107235480093 former was: -1.00727645199076\n",
      "precursor_mz new: 630.618 former was: 0.0\n",
      "3984\n",
      "parent mass new: 491.47072354800923 former was: -1.00727645199076\n",
      "precursor_mz new: 492.478 former was: 0.0\n",
      "3985\n",
      "parent mass new: 531.4627235480093 former was: -1.00727645199076\n",
      "precursor_mz new: 532.47 former was: 0.0\n",
      "21107\n",
      "parent mass new: 199.09972354800925 former was: -1.00727645199076\n",
      "precursor_mz new: 200.107 former was: 0.0\n",
      "21364\n",
      "parent mass new: 517.3137235480093 former was: -1.00727645199076\n",
      "precursor_mz new: 518.321 former was: 0.0\n",
      "22053\n",
      "parent mass new: 208.18272354800925 former was: -1.00727645199076\n",
      "precursor_mz new: 209.19 former was: 0.0\n"
     ]
    }
   ],
   "source": [
    "for i, spec in enumerate(spectrums_classical):\n",
    "    if not spec.get(\"precursor_mz\"):\n",
    "        print(i)\n",
    "        fix_mass = 0.0\n",
    "        for history in spec.metadata['annotation_history']:\n",
    "            fix_mass_test = float(history['Precursor_MZ'])\n",
    "            fix_mass = max(fix_mass, fix_mass_test)\n",
    "        charge = spec.get(\"charge\")\n",
    "        protons_mass = 1.00727645199076 * charge\n",
    "        precursor_mass = fix_mass * abs(charge)\n",
    "        parent_mass = precursor_mass - protons_mass\n",
    "        if parent_mass:\n",
    "            print(\"parent mass new:\", parent_mass, \"former was:\", spec.get(\"parent_mass\"))\n",
    "            spec.set(\"parent_mass\", parent_mass)\n",
    "        print(\"precursor_mz new:\", fix_mass, \"former was:\", spec.get(\"precursor_mz\"))\n",
    "        spec.set(\"precursor_mz\", fix_mass)"
   ]
  },
  {
   "cell_type": "code",
   "execution_count": 27,
   "metadata": {},
   "outputs": [
    {
     "name": "stdout",
     "output_type": "stream",
     "text": [
      "2765\n",
      "parent mass new: 547.2247235480093 former was: -1.00727645199076\n",
      "precursor_mz new: 548.232 former was: 0.0\n",
      "2766\n",
      "parent mass new: 589.2357235480093 former was: -1.00727645199076\n",
      "precursor_mz new: 590.243 former was: 0.0\n",
      "3942\n",
      "parent mass new: 466.2697235480092 former was: -1.00727645199076\n",
      "precursor_mz new: 467.277 former was: 0.0\n",
      "3974\n",
      "parent mass new: 674.4887235480093 former was: -1.00727645199076\n",
      "precursor_mz new: 675.496 former was: 0.0\n",
      "3975\n",
      "parent mass new: 691.5147235480093 former was: -1.00727645199076\n",
      "precursor_mz new: 692.522 former was: 0.0\n",
      "3976\n",
      "parent mass new: 696.4707235480092 former was: -1.00727645199076\n",
      "precursor_mz new: 697.478 former was: 0.0\n",
      "3983\n",
      "parent mass new: 629.6107235480093 former was: -1.00727645199076\n",
      "precursor_mz new: 630.618 former was: 0.0\n",
      "3984\n",
      "parent mass new: 491.47072354800923 former was: -1.00727645199076\n",
      "precursor_mz new: 492.478 former was: 0.0\n",
      "3985\n",
      "parent mass new: 531.4627235480093 former was: -1.00727645199076\n",
      "precursor_mz new: 532.47 former was: 0.0\n",
      "21107\n",
      "parent mass new: 199.09972354800925 former was: -1.00727645199076\n",
      "precursor_mz new: 200.107 former was: 0.0\n",
      "21364\n",
      "parent mass new: 517.3137235480093 former was: -1.00727645199076\n",
      "precursor_mz new: 518.321 former was: 0.0\n",
      "22053\n",
      "parent mass new: 208.18272354800925 former was: -1.00727645199076\n",
      "precursor_mz new: 209.19 former was: 0.0\n"
     ]
    }
   ],
   "source": [
    "for i, spec in enumerate(spectrums_s2v):\n",
    "    if not spec.get(\"precursor_mz\"):\n",
    "        print(i)\n",
    "        fix_mass = 0.0\n",
    "        for history in spec.metadata['annotation_history']:\n",
    "            fix_mass_test = float(history['Precursor_MZ'])\n",
    "            fix_mass = max(fix_mass, fix_mass_test)\n",
    "        charge = spec.get(\"charge\")\n",
    "        protons_mass = 1.00727645199076 * charge\n",
    "        precursor_mass = fix_mass * abs(charge)\n",
    "        parent_mass = precursor_mass - protons_mass\n",
    "        if parent_mass:\n",
    "            print(\"parent mass new:\", parent_mass, \"former was:\", spec.get(\"parent_mass\"))\n",
    "            spec.set(\"parent_mass\", parent_mass)\n",
    "        print(\"precursor_mz new:\", fix_mass, \"former was:\", spec.get(\"precursor_mz\"))\n",
    "        spec.set(\"precursor_mz\", fix_mass)"
   ]
  },
  {
   "cell_type": "markdown",
   "metadata": {},
   "source": [
    "### Run Spec2Vec and parentmass based library matching for 1000 against 94320 spectra\n",
    "- precursor m/z tolerance = 1ppm"
   ]
  },
  {
   "cell_type": "code",
   "execution_count": 28,
   "metadata": {},
   "outputs": [],
   "source": [
    "from typing import List\n",
    "import numpy as np\n",
    "import pandas as pd\n",
    "from tqdm import tqdm\n",
    "from gensim.models.basemodel import BaseTopicModel\n",
    "from matchms.similarity import CosineGreedy, ModifiedCosine, PrecursorMzMatch\n",
    "from spec2vec import SpectrumDocument\n",
    "#from spec2vec import Spec2Vec\n",
    "\n",
    "\n",
    "def library_matching(documents_query: List[SpectrumDocument],\n",
    "                     documents_library: List[SpectrumDocument],\n",
    "                     model: BaseTopicModel,\n",
    "                     presearch_based_on=[\"precursor_mz\", \"spec2vec-top10\"],\n",
    "                     ignore_non_annotated: bool = True,\n",
    "                     include_scores=[\"spec2vec\", \"cosine\", \"modcosine\"],\n",
    "                     intensity_weighting_power: float = 0.5,\n",
    "                     allowed_missing_percentage: float = 0,\n",
    "                     cosine_tol: float = 0.005,\n",
    "                     mass_tolerance: float = 2.0,\n",
    "                     mass_tolerance_type: str = \"ppm\"):\n",
    "    \"\"\"Selecting potential spectra matches with spectra library.\n",
    "\n",
    "    Suitable candidates will be selected by 1) top_n Spec2Vec similarity, and 2)\n",
    "    same precursor mass (within given mz_ppm tolerance(s)).\n",
    "    For later matching routines, additional scores (cosine, modified cosine)\n",
    "    are added as well.\n",
    "\n",
    "    Args:\n",
    "    --------\n",
    "    documents_query:\n",
    "        List containing all spectrum documents that should be queried against the library.\n",
    "    documents_library:\n",
    "        List containing all library spectrum documents.\n",
    "    model:\n",
    "        Pretrained word2Vec model.\n",
    "    top_n: int, optional\n",
    "        Number of entries witht the top_n highest Spec2Vec scores to keep as\n",
    "        found matches. Default = 10.\n",
    "    ignore_non_annotated: bool, optional\n",
    "        If True, only annotated spectra will be considered for matching.\n",
    "        Default = True.\n",
    "    cosine_tol: float, optional\n",
    "        Set tolerance for the cosine and modified cosine score. Default = 0.005\n",
    "    mass_tolerance\n",
    "        Specify tolerance for a mass match.\n",
    "    mass_toleramce_type\n",
    "        Chose between \"ppm\" (relative) and \"Dalton\" (absolute) tolerance type.\n",
    "    \"\"\"\n",
    "\n",
    "    # Initializations\n",
    "    found_matches = []\n",
    "    m_mass_matches = None\n",
    "    m_spec2vec_similarities = None\n",
    "\n",
    "    def get_metadata(documents):\n",
    "        metadata = []\n",
    "        for doc in documents:\n",
    "            metadata.append(doc._obj.get(\"smiles\"))\n",
    "        return metadata\n",
    "\n",
    "    library_spectra_metadata = get_metadata(documents_library)\n",
    "    if ignore_non_annotated:\n",
    "        # Get array of all ids for spectra with smiles\n",
    "        library_ids = np.asarray([i for i, x in enumerate(library_spectra_metadata) if x])\n",
    "    else:\n",
    "        library_ids = np.arange(len(documents_library))\n",
    "\n",
    "    msg = \"Presearch must be done either by 'precursor_mz' and/or 'spec2vec-topX'\"\n",
    "    assert \"precursor_mz\" in presearch_based_on or np.any([\"spec2vec\" in x for x in presearch_based_on]), msg\n",
    "\n",
    "    # 1. Search for top-n Spec2Vec matches ------------------------------------\n",
    "    if np.any([\"spec2vec\" in x for x in presearch_based_on]):\n",
    "        top_n = int([x.split(\"top\")[1] for x in presearch_based_on if \"spec2vec\" in x][0])\n",
    "        print(f\"Pre-selection includes spec2vec top {top_n}.\")\n",
    "        spec2vec = Spec2Vec(model=model, intensity_weighting_power=intensity_weighting_power,\n",
    "                            allowed_missing_percentage=allowed_missing_percentage,\n",
    "                            progress_bar=True)\n",
    "        m_spec2vec_similarities = spec2vec.matrix([documents_library[i] for i in library_ids],\n",
    "                                                  documents_query)\n",
    "\n",
    "        # Select top_n similarity values:\n",
    "        selection_spec2vec = np.argpartition(m_spec2vec_similarities, -top_n, axis=0)[-top_n:, :]\n",
    "    else:\n",
    "        selection_spec2vec = np.empty((0, len(documents_query)), dtype=\"int\")\n",
    "\n",
    "    # 2. Search for precursor_mz based matches ---------------------------------\n",
    "    if \"precursor_mz\" in presearch_based_on:\n",
    "        print(f\"Pre-selection includes mass matches within {mass_tolerance} {mass_tolerance_type}.\")\n",
    "        mass_matching = PrecursorMzMatch(tolerance=mass_tolerance,\n",
    "                                         tolerance_type=mass_tolerance_type)\n",
    "        m_mass_matches = mass_matching.matrix([documents_library[i]._obj for i in library_ids],\n",
    "                                              [x._obj for x in documents_query])\n",
    "        selection_massmatch = []\n",
    "        for i in range(len(documents_query)):\n",
    "            selection_massmatch.append(np.where(m_mass_matches[:, i] == 1)[0])\n",
    "    else:\n",
    "        selection_massmatch = np.empty((len(documents_query), 0), dtype=\"int\")\n",
    "\n",
    "    # 3. Combine found matches ------------------------------------------------\n",
    "    if \"cosine\" in include_scores:\n",
    "        print(\"Calculate cosine score for selected candidates.\")\n",
    "    if \"modcosine\" in include_scores:\n",
    "        print(\"Calculate modified cosine score for selected candidates.\")\n",
    "\n",
    "    for i in tqdm(range(len(documents_query))):\n",
    "        s2v_top_ids = selection_spec2vec[:, i]\n",
    "        mass_match_ids = selection_massmatch[i]\n",
    "\n",
    "        all_match_ids = np.unique(np.concatenate((s2v_top_ids, mass_match_ids)))\n",
    "\n",
    "        if len(all_match_ids) > 0:\n",
    "            if \"cosine\" in include_scores:\n",
    "                # Get cosine score for found matches\n",
    "                cosine_similarity = CosineGreedy(tolerance=cosine_tol)\n",
    "                cosine_scores = []\n",
    "                for match_id in library_ids[all_match_ids]:\n",
    "                    cosine_scores.append(cosine_similarity.pair(documents_library[match_id]._obj,\n",
    "                                                                documents_query[i]._obj))\n",
    "            else:\n",
    "                cosine_scores = len(all_match_ids) * [\"not calculated\"]\n",
    "\n",
    "            if \"modcosine\" in include_scores:\n",
    "                # Get modified cosine score for found matches\n",
    "                mod_cosine_similarity = ModifiedCosine(tolerance=cosine_tol)\n",
    "                mod_cosine_scores = []\n",
    "                for match_id in library_ids[all_match_ids]:\n",
    "                    mod_cosine_scores.append(mod_cosine_similarity.pair(documents_library[match_id]._obj,\n",
    "                                                                        documents_query[i]._obj))\n",
    "            else:\n",
    "                mod_cosine_scores = len(all_match_ids) * [\"not calculated\"]\n",
    "\n",
    "            matches_df = pd.DataFrame({\"cosine_score\": [x[0] for x in cosine_scores],\n",
    "                                       \"cosine_matches\": [x[1] for x in cosine_scores],\n",
    "                                       \"mod_cosine_score\": [x[0] for x in mod_cosine_scores],\n",
    "                                       \"mod_cosine_matches\": [x[1] for x in mod_cosine_scores]},\n",
    "                                       index=library_ids[all_match_ids])\n",
    "\n",
    "            if m_mass_matches is not None:\n",
    "                matches_df[\"mass_match\"] = m_mass_matches[all_match_ids, i]\n",
    "\n",
    "            if m_spec2vec_similarities is not None:\n",
    "                matches_df[\"s2v_score\"] = m_spec2vec_similarities[all_match_ids, i]\n",
    "            elif \"spec2vec\" in include_scores:\n",
    "                spec2vec_similarity = Spec2Vec(model=model,\n",
    "                                               intensity_weighting_power=intensity_weighting_power,\n",
    "                                               allowed_missing_percentage=allowed_missing_percentage)\n",
    "                spec2vec_scores = []\n",
    "                for match_id in library_ids[all_match_ids]:\n",
    "                    spec2vec_scores.append(spec2vec_similarity.pair(documents_library[match_id],\n",
    "                                                                    documents_query[i]))\n",
    "                matches_df[\"s2v_score\"] = spec2vec_scores\n",
    "            found_matches.append(matches_df.fillna(0))\n",
    "        else:\n",
    "            found_matches.append([])\n",
    "\n",
    "    return found_matches\n"
   ]
  },
  {
   "cell_type": "code",
   "execution_count": 30,
   "metadata": {},
   "outputs": [],
   "source": [
    "from typing import List\n",
    "from typing import Union\n",
    "import numpy\n",
    "from gensim.models.basemodel import BaseTopicModel\n",
    "from matchms.similarity.BaseSimilarity import BaseSimilarity\n",
    "from tqdm import tqdm\n",
    "from spec2vec.SpectrumDocument import SpectrumDocument\n",
    "from spec2vec.vector_operations import calc_vector\n",
    "from spec2vec.vector_operations import cosine_similarity\n",
    "from spec2vec.vector_operations import cosine_similarity_matrix\n",
    "\n",
    "\n",
    "class Spec2Vec(BaseSimilarity):\n",
    "    \"\"\"Calculate spec2vec similarity scores between a reference and a query.\n",
    "\n",
    "    Using a trained model, spectrum documents will be converted into spectrum\n",
    "    vectors. The spec2vec similarity is then the cosine similarity score between\n",
    "    two spectrum vectors.\n",
    "\n",
    "    Example code to calcualte spec2vec similarities between query and reference\n",
    "    spectrums:\n",
    "\n",
    "    .. code-block:: python\n",
    "\n",
    "        import gensim\n",
    "        from matchms import calculate_scores\n",
    "        from spec2vec import Spec2Vec\n",
    "        from spec2vec import SpectrumDocument\n",
    "\n",
    "        # reference_spectrums & query_spectrums loaded from files using https://matchms.readthedocs.io/en/latest/api/matchms.importing.load_from_mgf.html\n",
    "        references = [SpectrumDocument(s, n_decimals=2) for s in reference_spectrums]\n",
    "        queries = [SpectrumDocument(s, n_decimals=2) for s in query_spectrums]\n",
    "\n",
    "        # Import pre-trained word2vec model (alternative: train new model)\n",
    "        model_file = \"path and filename\"\n",
    "        model = gensim.models.Word2Vec.load(model_file)\n",
    "\n",
    "        # Define similarity_function\n",
    "        spec2vec = Spec2Vec(model=model, intensity_weighting_power=0.5)\n",
    "\n",
    "        # Calculate scores on all combinations of references and queries\n",
    "        scores = list(calculate_scores(references, queries, spec2vec))\n",
    "\n",
    "        # Filter out self-comparisons\n",
    "        filtered = [(reference, query, score) for (reference, query, score) in scores if reference != query]\n",
    "\n",
    "        sorted_by_score = sorted(filtered, key=lambda elem: elem[2], reverse=True)\n",
    "    \"\"\"\n",
    "    def __init__(self, model: BaseTopicModel, intensity_weighting_power: Union[float, int] = 0,\n",
    "                 allowed_missing_percentage: Union[float, int] = 0, progress_bar: bool = False):\n",
    "        \"\"\"\n",
    "\n",
    "        Parameters\n",
    "        ----------\n",
    "        model:\n",
    "            Expected input is a gensim word2vec model that has been trained on\n",
    "            the desired set of spectrum documents.\n",
    "        intensity_weighting_power:\n",
    "            Spectrum vectors are a weighted sum of the word vectors. The given\n",
    "            word intensities will be raised to the given power.\n",
    "            The default is 0, which means that no weighing will be done.\n",
    "        allowed_missing_percentage:\n",
    "            Set the maximum allowed percentage of the document that may be missing\n",
    "            from the input model. This is measured as percentage of the weighted, missing\n",
    "            words compared to all word vectors of the document. Default is 0, which\n",
    "            means no missing words are allowed.\n",
    "        progress_bar:\n",
    "            Set to True to monitor the embedding creating with a progress bar.\n",
    "            Default is False.\n",
    "        \"\"\"\n",
    "        self.model = model\n",
    "        self.intensity_weighting_power = intensity_weighting_power\n",
    "        self.allowed_missing_percentage = allowed_missing_percentage\n",
    "        self.vector_size = model.wv.vector_size\n",
    "        self.disable_progress_bar = not progress_bar\n",
    "\n",
    "    def pair(self, reference: SpectrumDocument, query: SpectrumDocument) -> float:\n",
    "        \"\"\"Calculate the spec2vec similaritiy between a reference and a query.\n",
    "\n",
    "        Parameters\n",
    "        ----------\n",
    "        reference:\n",
    "            Reference spectrum document.\n",
    "        query:\n",
    "            Query spectrum document.\n",
    "\n",
    "        Returns\n",
    "        -------\n",
    "        spec2vec_similarity\n",
    "            Spec2vec similarity score.\n",
    "        \"\"\"\n",
    "        reference_vector = calc_vector(self.model, reference, self.intensity_weighting_power,\n",
    "                                       self.allowed_missing_percentage)\n",
    "        query_vector = calc_vector(self.model, query, self.intensity_weighting_power,\n",
    "                                   self.allowed_missing_percentage)\n",
    "\n",
    "        return cosine_similarity(reference_vector, query_vector)\n",
    "\n",
    "    def matrix(self, references: List[SpectrumDocument], queries: List[SpectrumDocument],\n",
    "               is_symmetric: bool = False) -> numpy.ndarray:\n",
    "        \"\"\"Calculate the spec2vec similarities between all references and queries.\n",
    "\n",
    "        Parameters\n",
    "        ----------\n",
    "        references:\n",
    "            Reference spectrum documents.\n",
    "        queries:\n",
    "            Query spectrum documents.\n",
    "        is_symmetric:\n",
    "            Set to True if references == queries to speed up calculation about 2x.\n",
    "            Uses the fact that in this case score[i, j] = score[j, i]. Default is False.\n",
    "\n",
    "        Returns\n",
    "        -------\n",
    "        spec2vec_similarity\n",
    "            Array of spec2vec similarity scores.\n",
    "        \"\"\"\n",
    "        n_rows = len(references)\n",
    "        reference_vectors = numpy.empty((n_rows, self.vector_size), dtype=\"float\")\n",
    "        for index_reference, reference in enumerate(tqdm(references, disable=self.disable_progress_bar)):\n",
    "            reference_vectors[index_reference, 0:self.vector_size] = calc_vector(self.model,\n",
    "                                                                                 reference,\n",
    "                                                                                 self.intensity_weighting_power,\n",
    "                                                                                 self.allowed_missing_percentage)\n",
    "        n_cols = len(queries)\n",
    "        query_vectors = numpy.empty((n_cols, self.vector_size), dtype=\"float\")\n",
    "        for index_query, query in enumerate(tqdm(queries, disable=self.disable_progress_bar)):\n",
    "            query_vectors[index_query, 0:self.vector_size] = calc_vector(self.model,\n",
    "                                                                         query,\n",
    "                                                                         self.intensity_weighting_power,\n",
    "                                                                         self.allowed_missing_percentage)\n",
    "\n",
    "        spec2vec_similarity = cosine_similarity_matrix(reference_vectors, query_vectors)\n",
    "\n",
    "        return spec2vec_similarity\n"
   ]
  },
  {
   "cell_type": "code",
   "execution_count": 31,
   "metadata": {},
   "outputs": [
    {
     "name": "stderr",
     "output_type": "stream",
     "text": [
      "  0%|                                                                              | 62/76102 [00:00<02:02, 618.58it/s]"
     ]
    },
    {
     "name": "stdout",
     "output_type": "stream",
     "text": [
      "Pre-selection includes spec2vec top 20.\n"
     ]
    },
    {
     "name": "stderr",
     "output_type": "stream",
     "text": [
      "100%|███████████████████████████████████████████████████████████████████████████| 76102/76102 [01:51<00:00, 680.24it/s]\n",
      " 48%|█████████████████████████████████████▏                                        | 477/1000 [00:00<00:00, 633.70it/s]"
     ]
    },
    {
     "name": "stdout",
     "output_type": "stream",
     "text": [
      "Found 1 word(s) missing in the model. Weighted missing percentage not covered by the given model is 1.89%.\n",
      "Found 1 word(s) missing in the model. Weighted missing percentage not covered by the given model is 0.52%.\n"
     ]
    },
    {
     "name": "stderr",
     "output_type": "stream",
     "text": [
      " 70%|██████████████████████████████████████████████████████▉                       | 705/1000 [00:01<00:00, 707.07it/s]"
     ]
    },
    {
     "name": "stdout",
     "output_type": "stream",
     "text": [
      "Found 1 word(s) missing in the model. Weighted missing percentage not covered by the given model is 0.83%.\n",
      "Found 1 word(s) missing in the model. Weighted missing percentage not covered by the given model is 0.16%.\n"
     ]
    },
    {
     "name": "stderr",
     "output_type": "stream",
     "text": [
      " 84%|█████████████████████████████████████████████████████████████████▉            | 845/1000 [00:01<00:00, 677.68it/s]"
     ]
    },
    {
     "name": "stdout",
     "output_type": "stream",
     "text": [
      "Found 3 word(s) missing in the model. Weighted missing percentage not covered by the given model is 0.46%.\n"
     ]
    },
    {
     "name": "stderr",
     "output_type": "stream",
     "text": [
      "100%|█████████████████████████████████████████████████████████████████████████████| 1000/1000 [00:01<00:00, 700.78it/s]"
     ]
    },
    {
     "name": "stdout",
     "output_type": "stream",
     "text": [
      "Found 1 word(s) missing in the model. Weighted missing percentage not covered by the given model is 0.29%.\n",
      "Found 1 word(s) missing in the model. Weighted missing percentage not covered by the given model is 0.17%.\n"
     ]
    },
    {
     "name": "stderr",
     "output_type": "stream",
     "text": [
      "\n"
     ]
    },
    {
     "name": "stdout",
     "output_type": "stream",
     "text": [
      "Pre-selection includes mass matches within 1.0 ppm.\n"
     ]
    },
    {
     "name": "stderr",
     "output_type": "stream",
     "text": [
      "\r",
      "  0%|                                                                                         | 0/1000 [00:00<?, ?it/s]"
     ]
    },
    {
     "name": "stdout",
     "output_type": "stream",
     "text": [
      "Calculate cosine score for selected candidates.\n",
      "Calculate modified cosine score for selected candidates.\n"
     ]
    },
    {
     "name": "stderr",
     "output_type": "stream",
     "text": [
      "100%|██████████████████████████████████████████████████████████████████████████████| 1000/1000 [01:02<00:00, 15.98it/s]\n"
     ]
    }
   ],
   "source": [
    "found_matches_s2v = library_matching(documents_query_s2v, documents_library_s2v,\n",
    "                                     model,\n",
    "                                     presearch_based_on=[\"precursor_mz\", \"spec2vec-top20\"],\n",
    "                                     ignore_non_annotated=True,\n",
    "                                     intensity_weighting_power=0.5,\n",
    "                                     allowed_missing_percentage=5.0,\n",
    "                                     cosine_tol=0.005,\n",
    "                                     mass_tolerance=1.0,\n",
    "                                     mass_tolerance_type=\"ppm\")"
   ]
  },
  {
   "cell_type": "code",
   "execution_count": 32,
   "metadata": {},
   "outputs": [
    {
     "name": "stdout",
     "output_type": "stream",
     "text": [
      "Pre-selection includes mass matches within 1.0 ppm.\n"
     ]
    },
    {
     "name": "stderr",
     "output_type": "stream",
     "text": [
      "  1%|▍                                                                                | 6/1000 [00:00<00:17, 55.49it/s]"
     ]
    },
    {
     "name": "stdout",
     "output_type": "stream",
     "text": [
      "Calculate cosine score for selected candidates.\n",
      "Calculate modified cosine score for selected candidates.\n"
     ]
    },
    {
     "name": "stderr",
     "output_type": "stream",
     "text": [
      "100%|██████████████████████████████████████████████████████████████████████████████| 1000/1000 [00:57<00:00, 17.35it/s]\n"
     ]
    }
   ],
   "source": [
    "found_matches_classical = library_matching(documents_query_classical, documents_library_classical,\n",
    "                                           model,\n",
    "                                           presearch_based_on=[\"precursor_mz\"],\n",
    "                                           include_scores=[\"cosine\", \"modcosine\"],\n",
    "                                           ignore_non_annotated=True,\n",
    "                                           intensity_weighting_power=0.5,\n",
    "                                           allowed_missing_percentage=50.0,\n",
    "                                           cosine_tol=0.005,\n",
    "                                           mass_tolerance=1.0,\n",
    "                                           mass_tolerance_type=\"ppm\")"
   ]
  },
  {
   "cell_type": "code",
   "execution_count": 33,
   "metadata": {},
   "outputs": [
    {
     "data": {
      "text/plain": [
       "(1000, 1000)"
      ]
     },
     "execution_count": 33,
     "metadata": {},
     "output_type": "execute_result"
    }
   ],
   "source": [
    "len(found_matches_s2v), len(found_matches_classical)"
   ]
  },
  {
   "cell_type": "code",
   "execution_count": 34,
   "metadata": {},
   "outputs": [
    {
     "data": {
      "text/html": [
       "<div>\n",
       "<style scoped>\n",
       "    .dataframe tbody tr th:only-of-type {\n",
       "        vertical-align: middle;\n",
       "    }\n",
       "\n",
       "    .dataframe tbody tr th {\n",
       "        vertical-align: top;\n",
       "    }\n",
       "\n",
       "    .dataframe thead th {\n",
       "        text-align: right;\n",
       "    }\n",
       "</style>\n",
       "<table border=\"1\" class=\"dataframe\">\n",
       "  <thead>\n",
       "    <tr style=\"text-align: right;\">\n",
       "      <th></th>\n",
       "      <th>cosine_score</th>\n",
       "      <th>cosine_matches</th>\n",
       "      <th>mod_cosine_score</th>\n",
       "      <th>mod_cosine_matches</th>\n",
       "      <th>mass_match</th>\n",
       "      <th>s2v_score</th>\n",
       "    </tr>\n",
       "  </thead>\n",
       "  <tbody>\n",
       "    <tr>\n",
       "      <th>88915</th>\n",
       "      <td>0.705078</td>\n",
       "      <td>161</td>\n",
       "      <td>0.705078</td>\n",
       "      <td>161</td>\n",
       "      <td>True</td>\n",
       "      <td>0.837257</td>\n",
       "    </tr>\n",
       "    <tr>\n",
       "      <th>75932</th>\n",
       "      <td>0.293162</td>\n",
       "      <td>142</td>\n",
       "      <td>0.293438</td>\n",
       "      <td>143</td>\n",
       "      <td>False</td>\n",
       "      <td>0.717346</td>\n",
       "    </tr>\n",
       "    <tr>\n",
       "      <th>88917</th>\n",
       "      <td>0.211574</td>\n",
       "      <td>196</td>\n",
       "      <td>0.237219</td>\n",
       "      <td>195</td>\n",
       "      <td>False</td>\n",
       "      <td>0.701277</td>\n",
       "    </tr>\n",
       "    <tr>\n",
       "      <th>79666</th>\n",
       "      <td>0.299809</td>\n",
       "      <td>156</td>\n",
       "      <td>0.302462</td>\n",
       "      <td>160</td>\n",
       "      <td>False</td>\n",
       "      <td>0.689218</td>\n",
       "    </tr>\n",
       "    <tr>\n",
       "      <th>86233</th>\n",
       "      <td>0.301782</td>\n",
       "      <td>109</td>\n",
       "      <td>0.303709</td>\n",
       "      <td>115</td>\n",
       "      <td>False</td>\n",
       "      <td>0.686148</td>\n",
       "    </tr>\n",
       "    <tr>\n",
       "      <th>75935</th>\n",
       "      <td>0.271743</td>\n",
       "      <td>129</td>\n",
       "      <td>0.283590</td>\n",
       "      <td>134</td>\n",
       "      <td>False</td>\n",
       "      <td>0.683420</td>\n",
       "    </tr>\n",
       "    <tr>\n",
       "      <th>79660</th>\n",
       "      <td>0.289348</td>\n",
       "      <td>143</td>\n",
       "      <td>0.289417</td>\n",
       "      <td>144</td>\n",
       "      <td>False</td>\n",
       "      <td>0.682945</td>\n",
       "    </tr>\n",
       "    <tr>\n",
       "      <th>79663</th>\n",
       "      <td>0.284974</td>\n",
       "      <td>135</td>\n",
       "      <td>0.286195</td>\n",
       "      <td>138</td>\n",
       "      <td>False</td>\n",
       "      <td>0.670842</td>\n",
       "    </tr>\n",
       "    <tr>\n",
       "      <th>14901</th>\n",
       "      <td>0.264999</td>\n",
       "      <td>112</td>\n",
       "      <td>0.277831</td>\n",
       "      <td>116</td>\n",
       "      <td>False</td>\n",
       "      <td>0.668950</td>\n",
       "    </tr>\n",
       "    <tr>\n",
       "      <th>88912</th>\n",
       "      <td>0.129708</td>\n",
       "      <td>125</td>\n",
       "      <td>0.131471</td>\n",
       "      <td>126</td>\n",
       "      <td>False</td>\n",
       "      <td>0.666937</td>\n",
       "    </tr>\n",
       "    <tr>\n",
       "      <th>91066</th>\n",
       "      <td>0.241427</td>\n",
       "      <td>158</td>\n",
       "      <td>0.241632</td>\n",
       "      <td>160</td>\n",
       "      <td>False</td>\n",
       "      <td>0.634781</td>\n",
       "    </tr>\n",
       "    <tr>\n",
       "      <th>91057</th>\n",
       "      <td>0.227157</td>\n",
       "      <td>151</td>\n",
       "      <td>0.227365</td>\n",
       "      <td>152</td>\n",
       "      <td>False</td>\n",
       "      <td>0.631375</td>\n",
       "    </tr>\n",
       "    <tr>\n",
       "      <th>14905</th>\n",
       "      <td>0.146100</td>\n",
       "      <td>111</td>\n",
       "      <td>0.170298</td>\n",
       "      <td>118</td>\n",
       "      <td>False</td>\n",
       "      <td>0.622697</td>\n",
       "    </tr>\n",
       "    <tr>\n",
       "      <th>86436</th>\n",
       "      <td>0.233789</td>\n",
       "      <td>111</td>\n",
       "      <td>0.233826</td>\n",
       "      <td>112</td>\n",
       "      <td>False</td>\n",
       "      <td>0.618130</td>\n",
       "    </tr>\n",
       "    <tr>\n",
       "      <th>86439</th>\n",
       "      <td>0.224496</td>\n",
       "      <td>112</td>\n",
       "      <td>0.265816</td>\n",
       "      <td>146</td>\n",
       "      <td>False</td>\n",
       "      <td>0.614390</td>\n",
       "    </tr>\n",
       "    <tr>\n",
       "      <th>79661</th>\n",
       "      <td>0.352474</td>\n",
       "      <td>115</td>\n",
       "      <td>0.352474</td>\n",
       "      <td>115</td>\n",
       "      <td>False</td>\n",
       "      <td>0.608635</td>\n",
       "    </tr>\n",
       "    <tr>\n",
       "      <th>79664</th>\n",
       "      <td>0.348599</td>\n",
       "      <td>118</td>\n",
       "      <td>0.348665</td>\n",
       "      <td>121</td>\n",
       "      <td>False</td>\n",
       "      <td>0.607609</td>\n",
       "    </tr>\n",
       "    <tr>\n",
       "      <th>79667</th>\n",
       "      <td>0.351468</td>\n",
       "      <td>129</td>\n",
       "      <td>0.353147</td>\n",
       "      <td>130</td>\n",
       "      <td>False</td>\n",
       "      <td>0.607578</td>\n",
       "    </tr>\n",
       "    <tr>\n",
       "      <th>15035</th>\n",
       "      <td>0.128866</td>\n",
       "      <td>85</td>\n",
       "      <td>0.182273</td>\n",
       "      <td>108</td>\n",
       "      <td>False</td>\n",
       "      <td>0.603250</td>\n",
       "    </tr>\n",
       "    <tr>\n",
       "      <th>12645</th>\n",
       "      <td>0.155562</td>\n",
       "      <td>107</td>\n",
       "      <td>0.158374</td>\n",
       "      <td>115</td>\n",
       "      <td>False</td>\n",
       "      <td>0.598382</td>\n",
       "    </tr>\n",
       "    <tr>\n",
       "      <th>88916</th>\n",
       "      <td>0.326603</td>\n",
       "      <td>85</td>\n",
       "      <td>0.326603</td>\n",
       "      <td>85</td>\n",
       "      <td>True</td>\n",
       "      <td>0.516843</td>\n",
       "    </tr>\n",
       "  </tbody>\n",
       "</table>\n",
       "</div>"
      ],
      "text/plain": [
       "       cosine_score  cosine_matches  mod_cosine_score  mod_cosine_matches  \\\n",
       "88915      0.705078             161          0.705078                 161   \n",
       "75932      0.293162             142          0.293438                 143   \n",
       "88917      0.211574             196          0.237219                 195   \n",
       "79666      0.299809             156          0.302462                 160   \n",
       "86233      0.301782             109          0.303709                 115   \n",
       "75935      0.271743             129          0.283590                 134   \n",
       "79660      0.289348             143          0.289417                 144   \n",
       "79663      0.284974             135          0.286195                 138   \n",
       "14901      0.264999             112          0.277831                 116   \n",
       "88912      0.129708             125          0.131471                 126   \n",
       "91066      0.241427             158          0.241632                 160   \n",
       "91057      0.227157             151          0.227365                 152   \n",
       "14905      0.146100             111          0.170298                 118   \n",
       "86436      0.233789             111          0.233826                 112   \n",
       "86439      0.224496             112          0.265816                 146   \n",
       "79661      0.352474             115          0.352474                 115   \n",
       "79664      0.348599             118          0.348665                 121   \n",
       "79667      0.351468             129          0.353147                 130   \n",
       "15035      0.128866              85          0.182273                 108   \n",
       "12645      0.155562             107          0.158374                 115   \n",
       "88916      0.326603              85          0.326603                  85   \n",
       "\n",
       "       mass_match  s2v_score  \n",
       "88915        True   0.837257  \n",
       "75932       False   0.717346  \n",
       "88917       False   0.701277  \n",
       "79666       False   0.689218  \n",
       "86233       False   0.686148  \n",
       "75935       False   0.683420  \n",
       "79660       False   0.682945  \n",
       "79663       False   0.670842  \n",
       "14901       False   0.668950  \n",
       "88912       False   0.666937  \n",
       "91066       False   0.634781  \n",
       "91057       False   0.631375  \n",
       "14905       False   0.622697  \n",
       "86436       False   0.618130  \n",
       "86439       False   0.614390  \n",
       "79661       False   0.608635  \n",
       "79664       False   0.607609  \n",
       "79667       False   0.607578  \n",
       "15035       False   0.603250  \n",
       "12645       False   0.598382  \n",
       "88916        True   0.516843  "
      ]
     },
     "execution_count": 34,
     "metadata": {},
     "output_type": "execute_result"
    }
   ],
   "source": [
    "found_matches_s2v[1].sort_values(by=[\"s2v_score\"], ascending=False)"
   ]
  },
  {
   "cell_type": "code",
   "execution_count": 36,
   "metadata": {},
   "outputs": [
    {
     "data": {
      "text/html": [
       "<div>\n",
       "<style scoped>\n",
       "    .dataframe tbody tr th:only-of-type {\n",
       "        vertical-align: middle;\n",
       "    }\n",
       "\n",
       "    .dataframe tbody tr th {\n",
       "        vertical-align: top;\n",
       "    }\n",
       "\n",
       "    .dataframe thead th {\n",
       "        text-align: right;\n",
       "    }\n",
       "</style>\n",
       "<table border=\"1\" class=\"dataframe\">\n",
       "  <thead>\n",
       "    <tr style=\"text-align: right;\">\n",
       "      <th></th>\n",
       "      <th>cosine_score</th>\n",
       "      <th>cosine_matches</th>\n",
       "      <th>mod_cosine_score</th>\n",
       "      <th>mod_cosine_matches</th>\n",
       "      <th>mass_match</th>\n",
       "    </tr>\n",
       "  </thead>\n",
       "  <tbody>\n",
       "    <tr>\n",
       "      <th>88915</th>\n",
       "      <td>0.704364</td>\n",
       "      <td>145</td>\n",
       "      <td>0.704364</td>\n",
       "      <td>145</td>\n",
       "      <td>True</td>\n",
       "    </tr>\n",
       "    <tr>\n",
       "      <th>88916</th>\n",
       "      <td>0.325275</td>\n",
       "      <td>69</td>\n",
       "      <td>0.325275</td>\n",
       "      <td>69</td>\n",
       "      <td>True</td>\n",
       "    </tr>\n",
       "  </tbody>\n",
       "</table>\n",
       "</div>"
      ],
      "text/plain": [
       "       cosine_score  cosine_matches  mod_cosine_score  mod_cosine_matches  \\\n",
       "88915      0.704364             145          0.704364                 145   \n",
       "88916      0.325275              69          0.325275                  69   \n",
       "\n",
       "       mass_match  \n",
       "88915        True  \n",
       "88916        True  "
      ]
     },
     "execution_count": 36,
     "metadata": {},
     "output_type": "execute_result"
    }
   ],
   "source": [
    "found_matches_classical[1].sort_values(by=[\"cosine_score\"], ascending=False)"
   ]
  },
  {
   "cell_type": "markdown",
   "metadata": {},
   "source": [
    "## Evaluate different similarity score thresholds"
   ]
  },
  {
   "cell_type": "code",
   "execution_count": 37,
   "metadata": {},
   "outputs": [
    {
     "name": "stdout",
     "output_type": "stream",
     "text": [
      "Checking matches for cosine score > 0.00\n",
      "Checking matches for cosine score > 0.05\n",
      "Checking matches for cosine score > 0.10\n",
      "Checking matches for cosine score > 0.15\n",
      "Checking matches for cosine score > 0.20\n",
      "Checking matches for cosine score > 0.25\n",
      "Checking matches for cosine score > 0.30\n",
      "Checking matches for cosine score > 0.35\n",
      "Checking matches for cosine score > 0.40\n",
      "Checking matches for cosine score > 0.45\n",
      "Checking matches for cosine score > 0.50\n",
      "Checking matches for cosine score > 0.55\n",
      "Checking matches for cosine score > 0.60\n",
      "Checking matches for cosine score > 0.65\n",
      "Checking matches for cosine score > 0.70\n",
      "Checking matches for cosine score > 0.75\n",
      "Checking matches for cosine score > 0.80\n",
      "Checking matches for cosine score > 0.85\n",
      "Checking matches for cosine score > 0.90\n",
      "Checking matches for cosine score > 0.95\n"
     ]
    }
   ],
   "source": [
    "min_match = 2\n",
    "cosine_thresholds = np.arange(0, 1, 0.05)\n",
    "\n",
    "test_matches_min2 = []\n",
    "for threshold in cosine_thresholds:\n",
    "    print(f\"Checking matches for cosine score > {threshold:.2f}\")\n",
    "    test_matches = []\n",
    "    \n",
    "    for ID in range(len(documents_query_classical)):\n",
    "        if len(found_matches_classical[ID]) > 0:\n",
    "            # Scenario 1: mass + sort by cosine\n",
    "            df_select = found_matches_classical[ID][(found_matches_classical[ID]['mass_match'] == 1)\n",
    "                                         & (found_matches_classical[ID]['cosine_score'] > threshold)\n",
    "                                         & (found_matches_classical[ID]['cosine_matches'] >= min_match)]\n",
    "\n",
    "            if df_select.shape[0] > 0:\n",
    "                best_match_ID = df_select.sort_values(by=['cosine_score'], ascending=False).index[0]\n",
    "                inchikey_selected = documents_library_classical[best_match_ID]._obj.get(\"inchikey\")[:14]\n",
    "                inchikey_query = documents_query_classical[ID]._obj.get(\"inchikey\")[:14]\n",
    "\n",
    "                best_bet = 1 * (inchikey_selected == inchikey_query)\n",
    "            else:\n",
    "                best_bet = -1 # meaning: not found\n",
    "            test_matches.append(best_bet)\n",
    "\n",
    "    # Make arrays from lists:\n",
    "    test_arr = np.array(test_matches)\n",
    "\n",
    "    test_matches_min2.append([np.sum(test_arr == 1), np.sum(test_arr == 0), np.sum(test_arr == -1)])"
   ]
  },
  {
   "cell_type": "code",
   "execution_count": 38,
   "metadata": {},
   "outputs": [
    {
     "data": {
      "text/plain": [
       "Text(0, 0.5, 'true positives')"
      ]
     },
     "execution_count": 38,
     "metadata": {},
     "output_type": "execute_result"
    },
    {
     "data": {
      "image/png": "[encoded data removed]",
      "text/plain": [
       "<Figure size 504x432 with 1 Axes>"
      ]
     },
     "metadata": {},
     "output_type": "display_data"
    }
   ],
   "source": [
    "test_matches_arr = np.array(test_matches_min2)\n",
    "\n",
    "plt.figure(figsize=(7,6))\n",
    "plt.style.use('ggplot')\n",
    "plt.scatter(test_matches_arr[:,1], test_matches_arr[:,0])\n",
    "plt.xlabel('false positives')\n",
    "plt.ylabel('true positives')"
   ]
  },
  {
   "cell_type": "code",
   "execution_count": 39,
   "metadata": {},
   "outputs": [
    {
     "name": "stdout",
     "output_type": "stream",
     "text": [
      "Checking matches for cosine score > 0.00\n",
      "Checking matches for cosine score > 0.05\n",
      "Checking matches for cosine score > 0.10\n",
      "Checking matches for cosine score > 0.15\n",
      "Checking matches for cosine score > 0.20\n",
      "Checking matches for cosine score > 0.25\n",
      "Checking matches for cosine score > 0.30\n",
      "Checking matches for cosine score > 0.35\n",
      "Checking matches for cosine score > 0.40\n",
      "Checking matches for cosine score > 0.45\n",
      "Checking matches for cosine score > 0.50\n",
      "Checking matches for cosine score > 0.55\n",
      "Checking matches for cosine score > 0.60\n",
      "Checking matches for cosine score > 0.65\n",
      "Checking matches for cosine score > 0.70\n",
      "Checking matches for cosine score > 0.75\n",
      "Checking matches for cosine score > 0.80\n",
      "Checking matches for cosine score > 0.85\n",
      "Checking matches for cosine score > 0.90\n",
      "Checking matches for cosine score > 0.95\n"
     ]
    }
   ],
   "source": [
    "min_match = 6\n",
    "cosine_thresholds = np.arange(0, 1, 0.05)\n",
    "\n",
    "test_matches_min6 = []\n",
    "for threshold in cosine_thresholds:\n",
    "    print(f\"Checking matches for cosine score > {threshold:.2f}\")\n",
    "    test_matches = []\n",
    "    \n",
    "    for ID in range(len(documents_query_classical)):\n",
    "        if len(found_matches_classical[ID]) > 0:\n",
    "            # Scenario 1: mass + sort by cosine\n",
    "            df_select = found_matches_classical[ID][(found_matches_classical[ID]['mass_match'] == 1)\n",
    "                                             & (found_matches_classical[ID]['cosine_score'] > threshold)\n",
    "                                             & (found_matches_classical[ID]['cosine_matches'] >= min_match)]\n",
    "\n",
    "            if df_select.shape[0] > 0:\n",
    "                best_match_ID = df_select.sort_values(by=['cosine_score'], ascending=False).index[0]\n",
    "                inchikey_selected = documents_library_classical[best_match_ID]._obj.get(\"inchikey\")[:14]\n",
    "                inchikey_query = documents_query_classical[ID]._obj.get(\"inchikey\")[:14]\n",
    "\n",
    "                best_bet = 1 * (inchikey_selected == inchikey_query)\n",
    "            else:\n",
    "                best_bet = -1 # meaning: not found\n",
    "            test_matches.append(best_bet)\n",
    "\n",
    "    # Make arrays from lists:\n",
    "    test_arr = np.array(test_matches)\n",
    "    \n",
    "    test_matches_min6.append([np.sum(test_arr == 1), np.sum(test_arr == 0), np.sum(test_arr == -1)])"
   ]
  },
  {
   "cell_type": "code",
   "execution_count": 40,
   "metadata": {},
   "outputs": [
    {
     "data": {
      "text/plain": [
       "Text(0, 0.5, 'true positives')"
      ]
     },
     "execution_count": 40,
     "metadata": {},
     "output_type": "execute_result"
    },
    {
     "data": {
      "image/png": "[encoded data removed]",
      "text/plain": [
       "<Figure size 504x432 with 1 Axes>"
      ]
     },
     "metadata": {},
     "output_type": "display_data"
    }
   ],
   "source": [
    "test_matches_arr = np.array(test_matches_min6)\n",
    "\n",
    "plt.figure(figsize=(7,6))\n",
    "plt.style.use('ggplot')\n",
    "plt.scatter(test_matches_arr[:,1], test_matches_arr[:,0])\n",
    "plt.xlabel('false positives')\n",
    "plt.ylabel('true positives')"
   ]
  },
  {
   "cell_type": "code",
   "execution_count": 41,
   "metadata": {},
   "outputs": [
    {
     "name": "stdout",
     "output_type": "stream",
     "text": [
      "Checking matches for spec2vec score > 0.00\n",
      "Checking matches for spec2vec score > 0.05\n",
      "Checking matches for spec2vec score > 0.10\n",
      "Checking matches for spec2vec score > 0.15\n",
      "Checking matches for spec2vec score > 0.20\n",
      "Checking matches for spec2vec score > 0.25\n",
      "Checking matches for spec2vec score > 0.30\n",
      "Checking matches for spec2vec score > 0.35\n",
      "Checking matches for spec2vec score > 0.40\n",
      "Checking matches for spec2vec score > 0.45\n",
      "Checking matches for spec2vec score > 0.50\n",
      "Checking matches for spec2vec score > 0.55\n",
      "Checking matches for spec2vec score > 0.60\n",
      "Checking matches for spec2vec score > 0.65\n",
      "Checking matches for spec2vec score > 0.70\n",
      "Checking matches for spec2vec score > 0.75\n",
      "Checking matches for spec2vec score > 0.80\n",
      "Checking matches for spec2vec score > 0.85\n",
      "Checking matches for spec2vec score > 0.90\n",
      "Checking matches for spec2vec score > 0.95\n"
     ]
    }
   ],
   "source": [
    "test_matches_s2v = []\n",
    "\n",
    "cosine_thresholds = np.arange(0,1,0.05)\n",
    "\n",
    "for threshold in cosine_thresholds:\n",
    "    print(f\"Checking matches for spec2vec score > {threshold:.2f}\")\n",
    "    test_matches = []\n",
    "    \n",
    "    for ID in range(len(documents_query_s2v)):\n",
    "\n",
    "        # Scenario 2: mass + sort by Spec2Vec\n",
    "        df_select = found_matches_s2v[ID][(found_matches_s2v[ID]['mass_match'] == 1)\n",
    "                                      & (found_matches_s2v[ID]['s2v_score'] > threshold)]\n",
    "        if df_select.shape[0] > 0:\n",
    "            best_match_ID = df_select.sort_values(by=['s2v_score'], ascending=False).index[0]\n",
    "            inchikey_selected = documents_library_s2v[best_match_ID]._obj.get(\"inchikey\")[:14]\n",
    "            inchikey_query = documents_query_s2v[ID]._obj.get(\"inchikey\")[:14]\n",
    "            \n",
    "            best_bet = 1 * (inchikey_selected == inchikey_query)\n",
    "        else:\n",
    "            best_bet = -1 # meaning: not found\n",
    "        test_matches.append(best_bet)\n",
    "\n",
    "    # Make arrays from lists:\n",
    "    test_arr = np.array(test_matches)\n",
    "    \n",
    "    test_matches_s2v.append([np.sum(test_arr == 1), np.sum(test_arr == 0), np.sum(test_arr == -1)])"
   ]
  },
  {
   "cell_type": "code",
   "execution_count": 42,
   "metadata": {},
   "outputs": [
    {
     "data": {
      "text/plain": [
       "Text(0, 0.5, 'true positives')"
      ]
     },
     "execution_count": 42,
     "metadata": {},
     "output_type": "execute_result"
    },
    {
     "data": {
      "image/png": "[encoded data removed]",
      "text/plain": [
       "<Figure size 504x432 with 1 Axes>"
      ]
     },
     "metadata": {},
     "output_type": "display_data"
    }
   ],
   "source": [
    "test_matches_s2v_arr = np.array(test_matches_s2v)\n",
    "\n",
    "plt.figure(figsize=(7,6))\n",
    "plt.style.use('ggplot')\n",
    "plt.scatter(test_matches_s2v_arr[:,1], test_matches_s2v_arr[:,0])\n",
    "plt.xlabel('false positives')\n",
    "plt.ylabel('true positives')"
   ]
  },
  {
   "cell_type": "code",
   "execution_count": 52,
   "metadata": {},
   "outputs": [
    {
     "data": {
      "image/png": "[encoded data removed]",
      "text/plain": [
       "<Figure size 504x432 with 1 Axes>"
      ]
     },
     "metadata": {},
     "output_type": "display_data"
    }
   ],
   "source": [
    "test_matches_min2_arr = np.array(test_matches_min2)\n",
    "test_matches_min6_arr = np.array(test_matches_min6)\n",
    "test_matches_s2v_arr = np.array(test_matches_s2v)\n",
    "\n",
    "plt.figure(figsize=(7,6))\n",
    "plt.style.use('ggplot')\n",
    "plt.plot(test_matches_s2v_arr[:,1], test_matches_s2v_arr[:,0], \n",
    "         'o-', label='Spec2Vec')\n",
    "plt.plot(test_matches_min2_arr[:,1], test_matches_min2_arr[:,0], \n",
    "         '.--', color='black', alpha=0.5, label='cosine (min match = 2)')\n",
    "plt.plot(test_matches_min6_arr[:,1], test_matches_min6_arr[:,0], \n",
    "         'o-', color='black', label='cosine (min match = 6)')\n",
    "plt.title('true/false positive library matches')\n",
    "plt.legend(fontsize=14)\n",
    "plt.xlabel('false matches (out of 1000 query spectra)')\n",
    "plt.ylabel('correct matches (out of 1000 query spectra)')\n",
    "plt.savefig('library_matching_true_false_positives_absolute_case3_201127.svg')"
   ]
  },
  {
   "cell_type": "code",
   "execution_count": 53,
   "metadata": {},
   "outputs": [
    {
     "data": {
      "image/png": "[encoded data removed]",
      "text/plain": [
       "<Figure size 504x432 with 1 Axes>"
      ]
     },
     "metadata": {},
     "output_type": "display_data"
    }
   ],
   "source": [
    "min_match = 6\n",
    "#test_matches_cosine_arr = np.array(test_matches_ROC_min2)\n",
    "test_matches_cosine_arr = np.array(test_matches_min6)\n",
    "test_matches_s2v_arr = np.array(test_matches_s2v)\n",
    "\n",
    "thresholds = np.arange(0, 1, 0.05)\n",
    "label_picks = [0,4,8,12,14,15,16,17,18,19]\n",
    "\n",
    "plt.figure(figsize=(7,6))\n",
    "plt.style.use('ggplot')\n",
    "num_max = np.sum(test_matches_arr[0,:])\n",
    "\n",
    "plt.plot(test_matches_s2v_arr[:,1]/num_max, test_matches_s2v_arr[:,0]/num_max, \n",
    "         'o-', label='Spec2Vec')\n",
    "plt.plot(test_matches_cosine_arr[:,1]/num_max, test_matches_cosine_arr[:,0]/num_max, \n",
    "         'o-', color='black', label='cosine (min match = {})'.format(min_match))\n",
    "for i, threshold in enumerate(thresholds):\n",
    "    if i in label_picks:\n",
    "        plt.annotate(\">{:.2}\".format(threshold),\n",
    "                    (test_matches_s2v_arr[i,1]/num_max, test_matches_s2v_arr[i,0]/num_max),\n",
    "                    textcoords=\"offset points\", xytext=(2,-10), fontsize=12)\n",
    "        plt.annotate(\">{:.2}\".format(threshold),\n",
    "                    (test_matches_cosine_arr[i,1]/num_max, test_matches_cosine_arr[i,0]/num_max),\n",
    "                    textcoords=\"offset points\", xytext=(2,-10), fontsize=12)\n",
    "\n",
    "#plt.plot(test_matches_ROC_min2_arr[:,1]/num_max, test_matches_ROC_min2_arr[:,0]/num_max, \n",
    "#         '.--', color='black', alpha=0.5, label='cosine (min match = 2)')\n",
    "\n",
    "plt.title('true/false positives per query')\n",
    "plt.legend(fontsize=14)\n",
    "plt.xticks(fontsize=13)\n",
    "plt.yticks(fontsize=13)\n",
    "plt.xlabel('false positives rate', fontsize=16)\n",
    "plt.ylabel('true positive rate', fontsize=16)\n",
    "#plt.xlim([0, 0.3])\n",
    "plt.savefig('library_matching_true_false_positives_labeled_case3_201127.svg')"
   ]
  },
  {
   "cell_type": "code",
   "execution_count": 54,
   "metadata": {},
   "outputs": [
    {
     "data": {
      "image/png": "[encoded data removed]",
      "text/plain": [
       "<Figure size 504x432 with 1 Axes>"
      ]
     },
     "metadata": {},
     "output_type": "display_data"
    }
   ],
   "source": [
    "min_match = 2\n",
    "test_matches_cosine_arr = np.array(test_matches_min2)\n",
    "#test_matches_cosine_arr = np.array(test_matches_min6)\n",
    "test_matches_s2v_arr = np.array(test_matches_s2v)\n",
    "\n",
    "thresholds = np.arange(0, 1, 0.05)\n",
    "label_picks = [0,4,8,10,12,14,15,16,17,18,19]\n",
    "\n",
    "plt.figure(figsize=(7,6))\n",
    "plt.style.use('ggplot')\n",
    "num_max = np.sum(test_matches_arr[0,:])\n",
    "\n",
    "plt.plot(test_matches_s2v_arr[:,1]/num_max, test_matches_s2v_arr[:,0]/num_max, \n",
    "         'o-', label='Spec2Vec')\n",
    "plt.plot(test_matches_cosine_arr[:,1]/num_max, test_matches_cosine_arr[:,0]/num_max, \n",
    "         'o-', color='black', label='cosine (min match = {})'.format(min_match))\n",
    "for i, threshold in enumerate(thresholds):\n",
    "    if i in label_picks:\n",
    "        plt.annotate(\">{:.2}\".format(threshold),\n",
    "                    (test_matches_s2v_arr[i,1]/num_max, test_matches_s2v_arr[i,0]/num_max),\n",
    "                    textcoords=\"offset points\", xytext=(2,-10), fontsize=12)\n",
    "        plt.annotate(\">{:.2}\".format(threshold),\n",
    "                    (test_matches_cosine_arr[i,1]/num_max, test_matches_cosine_arr[i,0]/num_max),\n",
    "                    textcoords=\"offset points\", xytext=(2,-10), fontsize=12)\n",
    "\n",
    "plt.title('true/false positives per query')\n",
    "plt.legend(fontsize=14)\n",
    "plt.xticks(fontsize=13)\n",
    "plt.yticks(fontsize=13)\n",
    "plt.xlabel('false positives rate', fontsize=16)\n",
    "plt.ylabel('true positive rate', fontsize=16)\n",
    "#plt.xlim([0, 0.3])\n",
    "plt.savefig('library_matching_true_false_positives_labeled_minmatch2_case3_201127.svg')"
   ]
  },
  {
   "cell_type": "code",
   "execution_count": 55,
   "metadata": {},
   "outputs": [
    {
     "data": {
      "image/png": "[encoded data removed]",
      "text/plain": [
       "<Figure size 504x432 with 1 Axes>"
      ]
     },
     "metadata": {},
     "output_type": "display_data"
    }
   ],
   "source": [
    "min_match=6\n",
    "#test_matches_cosine_arr = np.array(test_matches_min2)\n",
    "test_matches_cosine_arr = np.array(test_matches_min6)\n",
    "test_matches_s2v_arr = np.array(test_matches_s2v)\n",
    "\n",
    "thresholds = np.arange(0, 1, 0.05)\n",
    "label_picks = [0,4,8,12,14,15,16,17,18,19]\n",
    "\n",
    "accuracy_s2v = 100 * test_matches_s2v_arr[:,0]/(test_matches_s2v_arr[:,0] + test_matches_s2v_arr[:,1])\n",
    "accuracy_cosine = 100 * test_matches_cosine_arr[:,0]/(test_matches_cosine_arr[:,0] + test_matches_cosine_arr[:,1])\n",
    "\n",
    "retrieval_s2v = (test_matches_s2v_arr[:,1] + test_matches_s2v_arr[:,0])/1000\n",
    "retrieval_cosine = (test_matches_cosine_arr[:,1] + test_matches_cosine_arr[:,0])/1000\n",
    "\n",
    "plt.figure(figsize=(7,6))\n",
    "plt.style.use('ggplot')\n",
    "plt.plot(retrieval_s2v, accuracy_s2v, 'o-', label='Spec2Vec')\n",
    "plt.plot(retrieval_cosine, accuracy_cosine, 'o-', color=\"black\", label='cosine (min match = {})'.format(min_match))\n",
    "\n",
    "for i, threshold in enumerate(thresholds):\n",
    "    if i in label_picks:\n",
    "        plt.annotate(\">{:.2}\".format(threshold),\n",
    "                    (retrieval_s2v[i], accuracy_s2v[i]),\n",
    "                    textcoords=\"offset points\", xytext=(2, 5), fontsize=12)\n",
    "        plt.annotate(\">{:.2}\".format(threshold),\n",
    "                    (retrieval_cosine[i], accuracy_cosine[i]),\n",
    "                    textcoords=\"offset points\", xytext=(2, 5), fontsize=12)\n",
    "\n",
    "plt.title('accuracy vs retrieval')\n",
    "plt.legend(fontsize=14)\n",
    "plt.xticks(fontsize=13)\n",
    "plt.yticks(fontsize=13)\n",
    "plt.ylim([86.5, 91.5])\n",
    "plt.xlabel('retrieval (hits per query spectrum)', fontsize=16)\n",
    "plt.ylabel('accuracy (% correct hits)', fontsize=16)\n",
    "plt.savefig('library_matching_accuracy_vs_retrieval_case3_201127.svg')"
   ]
  },
  {
   "cell_type": "code",
   "execution_count": 56,
   "metadata": {},
   "outputs": [
    {
     "data": {
      "image/png": "[encoded data removed]",
      "text/plain": [
       "<Figure size 504x432 with 1 Axes>"
      ]
     },
     "metadata": {},
     "output_type": "display_data"
    }
   ],
   "source": [
    "min_match=2\n",
    "test_matches_cosine_arr = np.array(test_matches_min2)\n",
    "#test_matches_cosine_arr = np.array(test_matches_min6)\n",
    "test_matches_s2v_arr = np.array(test_matches_s2v)\n",
    "\n",
    "thresholds = np.arange(0, 1, 0.05)\n",
    "label_picks = [0,4,8,10,12,14,15,16,17,18,19]\n",
    "\n",
    "accuracy_s2v = 100 * test_matches_s2v_arr[:,0]/(test_matches_s2v_arr[:,0] + test_matches_s2v_arr[:,1])\n",
    "accuracy_cosine = 100 * test_matches_cosine_arr[:,0]/(test_matches_cosine_arr[:,0] + test_matches_cosine_arr[:,1])\n",
    "\n",
    "retrieval_s2v = (test_matches_s2v_arr[:,1] + test_matches_s2v_arr[:,0])/1000\n",
    "retrieval_cosine = (test_matches_cosine_arr[:,1] + test_matches_cosine_arr[:,0])/1000\n",
    "\n",
    "plt.figure(figsize=(7,6))\n",
    "plt.style.use('ggplot')\n",
    "plt.plot(retrieval_s2v, accuracy_s2v, 'o-', label='Spec2Vec')\n",
    "plt.plot(retrieval_cosine, accuracy_cosine, 'o-', color=\"black\", label='cosine (min match = {})'.format(min_match))\n",
    "\n",
    "for i, threshold in enumerate(thresholds):\n",
    "    if i in label_picks:\n",
    "        plt.annotate(\">{:.2}\".format(threshold),\n",
    "                    (retrieval_s2v[i], accuracy_s2v[i]),\n",
    "                    textcoords=\"offset points\", xytext=(2, 5), fontsize=12)\n",
    "        plt.annotate(\">{:.2}\".format(threshold),\n",
    "                    (retrieval_cosine[i], accuracy_cosine[i]),\n",
    "                    textcoords=\"offset points\", xytext=(2, 5), fontsize=12)\n",
    "\n",
    "plt.title('accuracy vs retrieval')\n",
    "plt.legend(fontsize=14)\n",
    "plt.xticks(fontsize=13)\n",
    "plt.yticks(fontsize=13)\n",
    "plt.ylim([84, 91.5])\n",
    "plt.xlabel('retrieval (hits per query spectrum)', fontsize=16)\n",
    "plt.ylabel('accuracy (% correct hits)', fontsize=16)\n",
    "plt.savefig('library_matching_accuracy_vs_retrieval_minmatch2_case3_201127.svg')#pdf')"
   ]
  },
  {
   "cell_type": "code",
   "execution_count": null,
   "metadata": {},
   "outputs": [],
   "source": []
  }
 ],
 "metadata": {
  "kernelspec": {
   "display_name": "Python 3",
   "language": "python",
   "name": "python3"
  },
  "language_info": {
   "codemirror_mode": {
    "name": "ipython",
    "version": 3
   },
   "file_extension": ".py",
   "mimetype": "text/x-python",
   "name": "python",
   "nbconvert_exporter": "python",
   "pygments_lexer": "ipython3",
   "version": "3.7.7"
  }
 },
 "nbformat": 4,
 "nbformat_minor": 4
}
